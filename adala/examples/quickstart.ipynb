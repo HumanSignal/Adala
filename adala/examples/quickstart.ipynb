{
 "cells": [
  {
   "cell_type": "markdown",
   "id": "a6c119c3",
   "metadata": {},
   "source": [
    "# ADALA Quickstart\n",
    "\n",
    "In this notebook, we are going to run through some of the common tasks for creating data labeling agents with ADALA. In this example, we're going to create a data labeling agent for a text classification task - labeling our text samples as either \"Subjective or \"Objective\" statements. \n",
    "\n",
    "This agent will be LLM-based, so we will use [OpenAI's API](https://platform.openai.com/). You will to generate an API key and set it as an environment variable as follows: \n",
    "\n",
    "```\n",
    "export OPENAI_API_KEY=your_openai_api_key\n",
    "```\n",
    "\n",
    "Now, let's begin. "
   ]
  },
  {
   "cell_type": "markdown",
   "id": "55c19afc",
   "metadata": {},
   "source": [
    "## Dataset Creation\n",
    "First, let's use a dataset of product reviews stored in pandas dataframe. This will help us manage our data as we add more attributes, like predictions and labels for subjectivity and objectivity over time. "
   ]
  },
  {
   "cell_type": "code",
   "execution_count": 1,
   "id": "5d5b37a3",
   "metadata": {},
   "outputs": [
    {
     "data": {
      "text/html": [
       "<div>\n",
       "<style scoped>\n",
       "    .dataframe tbody tr th:only-of-type {\n",
       "        vertical-align: middle;\n",
       "    }\n",
       "\n",
       "    .dataframe tbody tr th {\n",
       "        vertical-align: top;\n",
       "    }\n",
       "\n",
       "    .dataframe thead th {\n",
       "        text-align: right;\n",
       "    }\n",
       "</style>\n",
       "<table border=\"1\" class=\"dataframe\">\n",
       "  <thead>\n",
       "    <tr style=\"text-align: right;\">\n",
       "      <th></th>\n",
       "      <th>text</th>\n",
       "      <th>ground_truth</th>\n",
       "    </tr>\n",
       "  </thead>\n",
       "  <tbody>\n",
       "    <tr>\n",
       "      <th>0</th>\n",
       "      <td>The mic is great.</td>\n",
       "      <td>Subjective</td>\n",
       "    </tr>\n",
       "    <tr>\n",
       "      <th>1</th>\n",
       "      <td>Will order from them again!</td>\n",
       "      <td>Subjective</td>\n",
       "    </tr>\n",
       "    <tr>\n",
       "      <th>2</th>\n",
       "      <td>Not loud enough and doesn't turn on like it sh...</td>\n",
       "      <td>Objective</td>\n",
       "    </tr>\n",
       "    <tr>\n",
       "      <th>3</th>\n",
       "      <td>The phone doesn't seem to accept anything exce...</td>\n",
       "      <td>Objective</td>\n",
       "    </tr>\n",
       "    <tr>\n",
       "      <th>4</th>\n",
       "      <td>All three broke within two months of use.</td>\n",
       "      <td>Objective</td>\n",
       "    </tr>\n",
       "  </tbody>\n",
       "</table>\n",
       "</div>"
      ],
      "text/plain": [
       "                                                text ground_truth\n",
       "0                                  The mic is great.   Subjective\n",
       "1                        Will order from them again!   Subjective\n",
       "2  Not loud enough and doesn't turn on like it sh...    Objective\n",
       "3  The phone doesn't seem to accept anything exce...    Objective\n",
       "4          All three broke within two months of use.    Objective"
      ]
     },
     "execution_count": 1,
     "metadata": {},
     "output_type": "execute_result"
    }
   ],
   "source": [
    "import pandas as pd\n",
    "\n",
    "df = pd.DataFrame([\n",
    "    [\"The mic is great.\", \"Subjective\"],\n",
    "    [\"Will order from them again!\", \"Subjective\"],\n",
    "    [\"Not loud enough and doesn't turn on like it should.\", \"Objective\"],\n",
    "    [\"The phone doesn't seem to accept anything except CBR mp3s\", \"Objective\"],\n",
    "    [\"All three broke within two months of use.\", \"Objective\"]\n",
    "], columns=[\"text\", \"ground_truth\"])\n",
    "\n",
    "df"
   ]
  },
  {
   "cell_type": "markdown",
   "id": "9ce6651b",
   "metadata": {},
   "source": [
    "We instantiate Dataset that uses this pandas dataframe as a data source. Dataset object takes care of input data schema and data streaming:"
   ]
  },
  {
   "cell_type": "code",
   "execution_count": 2,
   "id": "93a31f60",
   "metadata": {},
   "outputs": [],
   "source": [
    "from adala.datasets import DataFrameDataset\n",
    "\n",
    "dataset = DataFrameDataset(df=df)"
   ]
  },
  {
   "cell_type": "markdown",
   "id": "0dc201b3",
   "metadata": {},
   "source": [
    "## Create Agent\n",
    "\n",
    "To create Agent, we need to to define 2 things:\n",
    "\n",
    "**Skills** - Agent's abilities are defined as _Skills_. Each agent can possess many different skills. In our case, this agent only has one labeling skill, to produce a classification of Subjective or Objective for a given piece of text.  To define this skill, we will leverage an LLM, passing it instructions and the set of labeles we expect to receive back. \n",
    "\n",
    "**Environment** - that is where the Agent receives ground truth signal to improve its skill. Since we already created ground truth dataset, we can simply refer to the column from the dataframe. In the real world scenario, you may consider using a different environment where ground truth signal can be obtained asynchoronously by gathering real human feedback during agent's learning phase."
   ]
  },
  {
   "cell_type": "code",
   "execution_count": 3,
   "id": "a1310fce",
   "metadata": {
    "scrolled": true
   },
   "outputs": [
    {
     "data": {
      "text/html": [
       "<pre style=\"white-space:pre;overflow-x:auto;line-height:normal;font-family:Menlo,'DejaVu Sans Mono',consolas,'Courier New',monospace\"><span style=\"color: #000080; text-decoration-color: #000080; font-weight: bold\">Agent Instance</span>\n",
       "\n",
       "Environment: BasicEnvironment\n",
       "Skills: subjectivity_detection\n",
       "Runtimes: openai, openai-gpt3, openai-gpt4\n",
       "Default Runtime: openai\n",
       "Default Teacher Runtime: openai-gpt4\n",
       "</pre>\n"
      ],
      "text/plain": [
       "\u001b[1;34mAgent Instance\u001b[0m\n",
       "\n",
       "Environment: BasicEnvironment\n",
       "Skills: subjectivity_detection\n",
       "Runtimes: openai, openai-gpt3, openai-gpt4\n",
       "Default Runtime: openai\n",
       "Default Teacher Runtime: openai-gpt4\n"
      ]
     },
     "metadata": {},
     "output_type": "display_data"
    }
   ],
   "source": [
    "from adala.agents import Agent\n",
    "from adala.environments import BasicEnvironment\n",
    "from adala.skills import ClassificationSkill\n",
    "from adala.runtimes import OpenAIRuntime\n",
    "from rich import print\n",
    "\n",
    "\n",
    "agent = Agent(\n",
    "    # define the agent's labeling skill that should classify text onto 2 categories\n",
    "    skills=ClassificationSkill(\n",
    "        name='subjectivity_detection',\n",
    "        description='Understanding subjective and objective statements from text.',\n",
    "        instructions='Classify a product review as either expressing \"Subjective\" or \"Objective\" statements.',\n",
    "        labels=['Subjective', 'Objective'],\n",
    "        input_data_field='text'\n",
    "    ),\n",
    "    \n",
    "    # basic environment extracts ground truth signal from the input records\n",
    "    environment=BasicEnvironment(\n",
    "        ground_truth_dataset=dataset,\n",
    "        ground_truth_column='ground_truth'\n",
    "    ),\n",
    "    \n",
    "    runtimes = {\n",
    "        # You can specify your OPENAI API KEY here via `OpenAIRuntime(..., api_key='your-api-key')`\n",
    "        'openai': OpenAIRuntime(model='gpt-3.5-turbo-instruct'),\n",
    "        'openai-gpt3': OpenAIRuntime(model='gpt-3.5-turbo'),\n",
    "        'openai-gpt4': OpenAIRuntime(model='gpt-4'),\n",
    "    },\n",
    "    default_runtime='openai',\n",
    "    \n",
    "    # NOTE! If you don't have an access to gpt4 - replace it with \"openai-gpt3\"\n",
    "    default_teacher_runtime='openai-gpt4'\n",
    ")\n",
    "\n",
    "print(agent)"
   ]
  },
  {
   "cell_type": "markdown",
   "id": "8340dde8",
   "metadata": {},
   "source": [
    "## Learning Agent\n",
    "\n",
    "We will now let Agent learn from the ground truth. After every action, Agent returns its _Experience_, where it stores various observations like predicted data, errors, accuracy, etc."
   ]
  },
  {
   "cell_type": "code",
   "execution_count": 4,
   "id": "666c8d0f",
   "metadata": {
    "scrolled": true
   },
   "outputs": [
    {
     "name": "stderr",
     "output_type": "stream",
     "text": [
      "100%|█████████████████| 5/5 [00:00<00:00, 39.18it/s]\n"
     ]
    },
    {
     "data": {
      "text/html": [
       "<pre style=\"white-space:pre;overflow-x:auto;line-height:normal;font-family:Menlo,'DejaVu Sans Mono',consolas,'Courier New',monospace\">\n",
       "\n",
       "=&gt; Iteration #<span style=\"color: #008080; text-decoration-color: #008080; font-weight: bold\">0</span>: Comparing to ground truth, analyzing and improving <span style=\"color: #808000; text-decoration-color: #808000\">...</span>\n",
       "</pre>\n"
      ],
      "text/plain": [
       "\n",
       "\n",
       "=> Iteration #\u001b[1;36m0\u001b[0m: Comparing to ground truth, analyzing and improving \u001b[33m...\u001b[0m\n"
      ]
     },
     "metadata": {},
     "output_type": "display_data"
    },
    {
     "data": {
      "text/html": [
       "<pre style=\"white-space:pre;overflow-x:auto;line-height:normal;font-family:Menlo,'DejaVu Sans Mono',consolas,'Courier New',monospace\">Comparing predictions to ground truth data <span style=\"color: #808000; text-decoration-color: #808000\">...</span>\n",
       "</pre>\n"
      ],
      "text/plain": [
       "Comparing predictions to ground truth data \u001b[33m...\u001b[0m\n"
      ]
     },
     "metadata": {},
     "output_type": "display_data"
    },
    {
     "data": {
      "text/html": [
       "<pre style=\"white-space:pre;overflow-x:auto;line-height:normal;font-family:Menlo,'DejaVu Sans Mono',consolas,'Courier New',monospace\">                                                                                                                   \n",
       " <span style=\"color: #800080; text-decoration-color: #800080; font-weight: bold\"> text                   </span> <span style=\"color: #800080; text-decoration-color: #800080; font-weight: bold\"> ground_truth </span> <span style=\"color: #800080; text-decoration-color: #800080; font-weight: bold\"> subjectivity_detection </span> <span style=\"color: #800080; text-decoration-color: #800080; font-weight: bold\"> score                  </span> <span style=\"color: #800080; text-decoration-color: #800080; font-weight: bold\"> ground_truth__x__sub… </span> \n",
       " ───────────────────────────────────────────────────────────────────────────────────────────────────────────────── \n",
       "  The mic is great.        Subjective     Subjective               {'Subjective':           True                   \n",
       "                                                                   -0.02697588099999997,                           \n",
       "                                                                   'Objective':                                    \n",
       "                                                                   -3.6262724}                                     \n",
       " <span style=\"color: #7f7f7f; text-decoration-color: #7f7f7f\"> Will order from them   </span> <span style=\"color: #7f7f7f; text-decoration-color: #7f7f7f\"> Subjective   </span> <span style=\"color: #7f7f7f; text-decoration-color: #7f7f7f\"> Subjective             </span> <span style=\"color: #7f7f7f; text-decoration-color: #7f7f7f\"> {'Subjective':         </span> <span style=\"color: #7f7f7f; text-decoration-color: #7f7f7f\"> True                  </span> \n",
       " <span style=\"color: #7f7f7f; text-decoration-color: #7f7f7f\"> again!                 </span> <span style=\"color: #7f7f7f; text-decoration-color: #7f7f7f\">              </span> <span style=\"color: #7f7f7f; text-decoration-color: #7f7f7f\">                        </span> <span style=\"color: #7f7f7f; text-decoration-color: #7f7f7f\"> -0.11282212000000001,  </span> <span style=\"color: #7f7f7f; text-decoration-color: #7f7f7f\">                       </span> \n",
       " <span style=\"color: #7f7f7f; text-decoration-color: #7f7f7f\">                        </span> <span style=\"color: #7f7f7f; text-decoration-color: #7f7f7f\">              </span> <span style=\"color: #7f7f7f; text-decoration-color: #7f7f7f\">                        </span> <span style=\"color: #7f7f7f; text-decoration-color: #7f7f7f\"> 'Objective':           </span> <span style=\"color: #7f7f7f; text-decoration-color: #7f7f7f\">                       </span> \n",
       " <span style=\"color: #7f7f7f; text-decoration-color: #7f7f7f\">                        </span> <span style=\"color: #7f7f7f; text-decoration-color: #7f7f7f\">              </span> <span style=\"color: #7f7f7f; text-decoration-color: #7f7f7f\">                        </span> <span style=\"color: #7f7f7f; text-decoration-color: #7f7f7f\"> -2.2378219999999995}   </span> <span style=\"color: #7f7f7f; text-decoration-color: #7f7f7f\">                       </span> \n",
       "  Not loud enough and      Objective      Subjective               {'Subjective':           False                  \n",
       "  doesn't turn on like                                             -0.014163457000000034,                          \n",
       "  it should.                                                       'Objective':                                    \n",
       "                                                                   -4.2641635}                                     \n",
       " <span style=\"color: #7f7f7f; text-decoration-color: #7f7f7f\"> The phone doesn't seem </span> <span style=\"color: #7f7f7f; text-decoration-color: #7f7f7f\"> Objective    </span> <span style=\"color: #7f7f7f; text-decoration-color: #7f7f7f\"> Objective              </span> <span style=\"color: #7f7f7f; text-decoration-color: #7f7f7f\"> {'Subjective':         </span> <span style=\"color: #7f7f7f; text-decoration-color: #7f7f7f\"> True                  </span> \n",
       " <span style=\"color: #7f7f7f; text-decoration-color: #7f7f7f\"> to accept anything     </span> <span style=\"color: #7f7f7f; text-decoration-color: #7f7f7f\">              </span> <span style=\"color: #7f7f7f; text-decoration-color: #7f7f7f\">                        </span> <span style=\"color: #7f7f7f; text-decoration-color: #7f7f7f\"> -2.0720863,            </span> <span style=\"color: #7f7f7f; text-decoration-color: #7f7f7f\">                       </span> \n",
       " <span style=\"color: #7f7f7f; text-decoration-color: #7f7f7f\"> except CBR mp3s        </span> <span style=\"color: #7f7f7f; text-decoration-color: #7f7f7f\">              </span> <span style=\"color: #7f7f7f; text-decoration-color: #7f7f7f\">                        </span> <span style=\"color: #7f7f7f; text-decoration-color: #7f7f7f\"> 'Objective':           </span> <span style=\"color: #7f7f7f; text-decoration-color: #7f7f7f\">                       </span> \n",
       " <span style=\"color: #7f7f7f; text-decoration-color: #7f7f7f\">                        </span> <span style=\"color: #7f7f7f; text-decoration-color: #7f7f7f\">              </span> <span style=\"color: #7f7f7f; text-decoration-color: #7f7f7f\">                        </span> <span style=\"color: #7f7f7f; text-decoration-color: #7f7f7f\"> -0.13458653999999995}  </span> <span style=\"color: #7f7f7f; text-decoration-color: #7f7f7f\">                       </span> \n",
       "  All three broke within   Objective      Objective                {'Subjective':           True                   \n",
       "  two months of use.                                               -2.1821797,                                     \n",
       "                                                                   'Objective':                                    \n",
       "                                                                   -0.11967964500000007}                           \n",
       "                                                                                                                   \n",
       "</pre>\n"
      ],
      "text/plain": [
       "                                                                                                                   \n",
       " \u001b[1;35m \u001b[0m\u001b[1;35mtext                  \u001b[0m\u001b[1;35m \u001b[0m \u001b[1;35m \u001b[0m\u001b[1;35mground_truth\u001b[0m\u001b[1;35m \u001b[0m \u001b[1;35m \u001b[0m\u001b[1;35msubjectivity_detection\u001b[0m\u001b[1;35m \u001b[0m \u001b[1;35m \u001b[0m\u001b[1;35mscore                 \u001b[0m\u001b[1;35m \u001b[0m \u001b[1;35m \u001b[0m\u001b[1;35mground_truth__x__sub…\u001b[0m\u001b[1;35m \u001b[0m \n",
       " ───────────────────────────────────────────────────────────────────────────────────────────────────────────────── \n",
       "  The mic is great.        Subjective     Subjective               {'Subjective':           True                   \n",
       "                                                                   -0.02697588099999997,                           \n",
       "                                                                   'Objective':                                    \n",
       "                                                                   -3.6262724}                                     \n",
       " \u001b[2m \u001b[0m\u001b[2mWill order from them  \u001b[0m\u001b[2m \u001b[0m \u001b[2m \u001b[0m\u001b[2mSubjective  \u001b[0m\u001b[2m \u001b[0m \u001b[2m \u001b[0m\u001b[2mSubjective            \u001b[0m\u001b[2m \u001b[0m \u001b[2m \u001b[0m\u001b[2m{'Subjective':        \u001b[0m\u001b[2m \u001b[0m \u001b[2m \u001b[0m\u001b[2mTrue                 \u001b[0m\u001b[2m \u001b[0m \n",
       " \u001b[2m \u001b[0m\u001b[2magain!                \u001b[0m\u001b[2m \u001b[0m \u001b[2m              \u001b[0m \u001b[2m                        \u001b[0m \u001b[2m \u001b[0m\u001b[2m-0.11282212000000001, \u001b[0m\u001b[2m \u001b[0m \u001b[2m                       \u001b[0m \n",
       " \u001b[2m                        \u001b[0m \u001b[2m              \u001b[0m \u001b[2m                        \u001b[0m \u001b[2m \u001b[0m\u001b[2m'Objective':          \u001b[0m\u001b[2m \u001b[0m \u001b[2m                       \u001b[0m \n",
       " \u001b[2m                        \u001b[0m \u001b[2m              \u001b[0m \u001b[2m                        \u001b[0m \u001b[2m \u001b[0m\u001b[2m-2.2378219999999995}  \u001b[0m\u001b[2m \u001b[0m \u001b[2m                       \u001b[0m \n",
       "  Not loud enough and      Objective      Subjective               {'Subjective':           False                  \n",
       "  doesn't turn on like                                             -0.014163457000000034,                          \n",
       "  it should.                                                       'Objective':                                    \n",
       "                                                                   -4.2641635}                                     \n",
       " \u001b[2m \u001b[0m\u001b[2mThe phone doesn't seem\u001b[0m\u001b[2m \u001b[0m \u001b[2m \u001b[0m\u001b[2mObjective   \u001b[0m\u001b[2m \u001b[0m \u001b[2m \u001b[0m\u001b[2mObjective             \u001b[0m\u001b[2m \u001b[0m \u001b[2m \u001b[0m\u001b[2m{'Subjective':        \u001b[0m\u001b[2m \u001b[0m \u001b[2m \u001b[0m\u001b[2mTrue                 \u001b[0m\u001b[2m \u001b[0m \n",
       " \u001b[2m \u001b[0m\u001b[2mto accept anything    \u001b[0m\u001b[2m \u001b[0m \u001b[2m              \u001b[0m \u001b[2m                        \u001b[0m \u001b[2m \u001b[0m\u001b[2m-2.0720863,           \u001b[0m\u001b[2m \u001b[0m \u001b[2m                       \u001b[0m \n",
       " \u001b[2m \u001b[0m\u001b[2mexcept CBR mp3s       \u001b[0m\u001b[2m \u001b[0m \u001b[2m              \u001b[0m \u001b[2m                        \u001b[0m \u001b[2m \u001b[0m\u001b[2m'Objective':          \u001b[0m\u001b[2m \u001b[0m \u001b[2m                       \u001b[0m \n",
       " \u001b[2m                        \u001b[0m \u001b[2m              \u001b[0m \u001b[2m                        \u001b[0m \u001b[2m \u001b[0m\u001b[2m-0.13458653999999995} \u001b[0m\u001b[2m \u001b[0m \u001b[2m                       \u001b[0m \n",
       "  All three broke within   Objective      Objective                {'Subjective':           True                   \n",
       "  two months of use.                                               -2.1821797,                                     \n",
       "                                                                   'Objective':                                    \n",
       "                                                                   -0.11967964500000007}                           \n",
       "                                                                                                                   \n"
      ]
     },
     "metadata": {},
     "output_type": "display_data"
    },
    {
     "data": {
      "text/html": [
       "<pre style=\"white-space:pre;overflow-x:auto;line-height:normal;font-family:Menlo,'DejaVu Sans Mono',consolas,'Courier New',monospace\">Analyze evaluation experience <span style=\"color: #808000; text-decoration-color: #808000\">...</span>\n",
       "</pre>\n"
      ],
      "text/plain": [
       "Analyze evaluation experience \u001b[33m...\u001b[0m\n"
      ]
     },
     "metadata": {},
     "output_type": "display_data"
    },
    {
     "name": "stderr",
     "output_type": "stream",
     "text": [
      "100%|████████████████| 1/1 [00:00<00:00, 153.47it/s]\n",
      "100%|█████████████████| 1/1 [00:00<00:00, 31.21it/s]\n"
     ]
    },
    {
     "data": {
      "text/html": [
       "<pre style=\"white-space:pre;overflow-x:auto;line-height:normal;font-family:Menlo,'DejaVu Sans Mono',consolas,'Courier New',monospace\">Number of errors: <span style=\"color: #008080; text-decoration-color: #008080; font-weight: bold\">1</span>\n",
       "</pre>\n"
      ],
      "text/plain": [
       "Number of errors: \u001b[1;36m1\u001b[0m\n"
      ]
     },
     "metadata": {},
     "output_type": "display_data"
    },
    {
     "data": {
      "text/html": [
       "<pre style=\"white-space:pre;overflow-x:auto;line-height:normal;font-family:Menlo,'DejaVu Sans Mono',consolas,'Courier New',monospace\"><span style=\"color: #800000; text-decoration-color: #800000; font-weight: bold\">Accuracy = </span><span style=\"color: #008080; text-decoration-color: #008080; font-weight: bold\">80.00</span><span style=\"color: #800000; text-decoration-color: #800000; font-weight: bold\">%</span>\n",
       "</pre>\n"
      ],
      "text/plain": [
       "\u001b[1;31mAccuracy = \u001b[0m\u001b[1;36m80.00\u001b[0m\u001b[1;31m%\u001b[0m\n"
      ]
     },
     "metadata": {},
     "output_type": "display_data"
    },
    {
     "data": {
      "text/html": [
       "<pre style=\"white-space:pre;overflow-x:auto;line-height:normal;font-family:Menlo,'DejaVu Sans Mono',consolas,'Courier New',monospace\">Improve <span style=\"color: #008000; text-decoration-color: #008000\">\"subjectivity_detection\"</span> skill based on analysis <span style=\"color: #808000; text-decoration-color: #808000\">...</span>\n",
       "</pre>\n"
      ],
      "text/plain": [
       "Improve \u001b[32m\"subjectivity_detection\"\u001b[0m skill based on analysis \u001b[33m...\u001b[0m\n"
      ]
     },
     "metadata": {},
     "output_type": "display_data"
    },
    {
     "data": {
      "text/html": [
       "<pre style=\"white-space:pre;overflow-x:auto;line-height:normal;font-family:Menlo,'DejaVu Sans Mono',consolas,'Courier New',monospace\">Updated instructions for skill <span style=\"color: #008000; text-decoration-color: #008000\">\"subjectivity_detection\"</span>:\n",
       "\n",
       "</pre>\n"
      ],
      "text/plain": [
       "Updated instructions for skill \u001b[32m\"subjectivity_detection\"\u001b[0m:\n",
       "\n"
      ]
     },
     "metadata": {},
     "output_type": "display_data"
    },
    {
     "data": {
      "text/html": [
       "<pre style=\"white-space:pre;overflow-x:auto;line-height:normal;font-family:Menlo,'DejaVu Sans Mono',consolas,'Courier New',monospace\"><span style=\"color: #008000; text-decoration-color: #008000; font-weight: bold\">Determine whether the given product review contains </span><span style=\"color: #008000; text-decoration-color: #008000\">\"Subjective\"</span><span style=\"color: #008000; text-decoration-color: #008000; font-weight: bold\"> (based on personal feelings, tastes, or opinions) </span>\n",
       "<span style=\"color: #008000; text-decoration-color: #008000; font-weight: bold\">or </span><span style=\"color: #008000; text-decoration-color: #008000\">\"Objective\"</span><span style=\"color: #008000; text-decoration-color: #008000; font-weight: bold\"> (based on facts) statements.</span>\n",
       "\n",
       "<span style=\"color: #008000; text-decoration-color: #008000; font-weight: bold\">Examples:</span>\n",
       "\n",
       "<span style=\"color: #008000; text-decoration-color: #008000; font-weight: bold\">Input: Not loud enough and doesn't turn on like it should.</span>\n",
       "<span style=\"color: #008000; text-decoration-color: #008000; font-weight: bold\">Output: Objective</span>\n",
       "\n",
       "<span style=\"color: #008000; text-decoration-color: #008000; font-weight: bold\">Input: I personally think the sound quality is not up to the mark.</span>\n",
       "<span style=\"color: #008000; text-decoration-color: #008000; font-weight: bold\">Output: Subjective</span>\n",
       "\n",
       "<span style=\"color: #008000; text-decoration-color: #008000; font-weight: bold\">Input: The phone's battery lasts for </span><span style=\"color: #008080; text-decoration-color: #008080; font-weight: bold\">10</span><span style=\"color: #008000; text-decoration-color: #008000; font-weight: bold\"> hours.</span>\n",
       "<span style=\"color: #008000; text-decoration-color: #008000; font-weight: bold\">Output: Objective</span>\n",
       "</pre>\n"
      ],
      "text/plain": [
       "\u001b[1;32mDetermine whether the given product review contains \u001b[0m\u001b[32m\"Subjective\"\u001b[0m\u001b[1;32m \u001b[0m\u001b[1;32m(\u001b[0m\u001b[1;32mbased on personal feelings, tastes, or opinions\u001b[0m\u001b[1;32m)\u001b[0m\u001b[1;32m \u001b[0m\n",
       "\u001b[1;32mor \u001b[0m\u001b[32m\"Objective\"\u001b[0m\u001b[1;32m \u001b[0m\u001b[1;32m(\u001b[0m\u001b[1;32mbased on facts\u001b[0m\u001b[1;32m)\u001b[0m\u001b[1;32m statements.\u001b[0m\n",
       "\n",
       "\u001b[1;32mExamples:\u001b[0m\n",
       "\n",
       "\u001b[1;32mInput: Not loud enough and doesn't turn on like it should.\u001b[0m\n",
       "\u001b[1;32mOutput: Objective\u001b[0m\n",
       "\n",
       "\u001b[1;32mInput: I personally think the sound quality is not up to the mark.\u001b[0m\n",
       "\u001b[1;32mOutput: Subjective\u001b[0m\n",
       "\n",
       "\u001b[1;32mInput: The phone's battery lasts for \u001b[0m\u001b[1;36m10\u001b[0m\u001b[1;32m hours.\u001b[0m\n",
       "\u001b[1;32mOutput: Objective\u001b[0m\n"
      ]
     },
     "metadata": {},
     "output_type": "display_data"
    },
    {
     "data": {
      "text/html": [
       "<pre style=\"white-space:pre;overflow-x:auto;line-height:normal;font-family:Menlo,'DejaVu Sans Mono',consolas,'Courier New',monospace\">Re-apply subjectivity_detection skill to dataset <span style=\"color: #808000; text-decoration-color: #808000\">...</span>\n",
       "</pre>\n"
      ],
      "text/plain": [
       "Re-apply subjectivity_detection skill to dataset \u001b[33m...\u001b[0m\n"
      ]
     },
     "metadata": {},
     "output_type": "display_data"
    },
    {
     "name": "stderr",
     "output_type": "stream",
     "text": [
      "100%|█████████████████| 5/5 [00:00<00:00, 48.32it/s]\n"
     ]
    },
    {
     "data": {
      "text/html": [
       "<pre style=\"white-space:pre;overflow-x:auto;line-height:normal;font-family:Menlo,'DejaVu Sans Mono',consolas,'Courier New',monospace\">\n",
       "\n",
       "=&gt; Iteration #<span style=\"color: #008080; text-decoration-color: #008080; font-weight: bold\">1</span>: Comparing to ground truth, analyzing and improving <span style=\"color: #808000; text-decoration-color: #808000\">...</span>\n",
       "</pre>\n"
      ],
      "text/plain": [
       "\n",
       "\n",
       "=> Iteration #\u001b[1;36m1\u001b[0m: Comparing to ground truth, analyzing and improving \u001b[33m...\u001b[0m\n"
      ]
     },
     "metadata": {},
     "output_type": "display_data"
    },
    {
     "data": {
      "text/html": [
       "<pre style=\"white-space:pre;overflow-x:auto;line-height:normal;font-family:Menlo,'DejaVu Sans Mono',consolas,'Courier New',monospace\">Comparing predictions to ground truth data <span style=\"color: #808000; text-decoration-color: #808000\">...</span>\n",
       "</pre>\n"
      ],
      "text/plain": [
       "Comparing predictions to ground truth data \u001b[33m...\u001b[0m\n"
      ]
     },
     "metadata": {},
     "output_type": "display_data"
    },
    {
     "data": {
      "text/html": [
       "<pre style=\"white-space:pre;overflow-x:auto;line-height:normal;font-family:Menlo,'DejaVu Sans Mono',consolas,'Courier New',monospace\">                                                                                                                   \n",
       " <span style=\"color: #800080; text-decoration-color: #800080; font-weight: bold\"> text                   </span> <span style=\"color: #800080; text-decoration-color: #800080; font-weight: bold\"> ground_truth </span> <span style=\"color: #800080; text-decoration-color: #800080; font-weight: bold\"> subjectivity_detection </span> <span style=\"color: #800080; text-decoration-color: #800080; font-weight: bold\"> score                  </span> <span style=\"color: #800080; text-decoration-color: #800080; font-weight: bold\"> ground_truth__x__sub… </span> \n",
       " ───────────────────────────────────────────────────────────────────────────────────────────────────────────────── \n",
       "  The mic is great.        Subjective     Objective                {'Subjective':           False                  \n",
       "                                                                   -2.2253392,                                     \n",
       "                                                                   'Objective':                                    \n",
       "                                                                   -0.11432376000000005}                           \n",
       " <span style=\"color: #7f7f7f; text-decoration-color: #7f7f7f\"> Will order from them   </span> <span style=\"color: #7f7f7f; text-decoration-color: #7f7f7f\"> Subjective   </span> <span style=\"color: #7f7f7f; text-decoration-color: #7f7f7f\"> Objective              </span> <span style=\"color: #7f7f7f; text-decoration-color: #7f7f7f\"> {'Subjective':         </span> <span style=\"color: #7f7f7f; text-decoration-color: #7f7f7f\"> False                 </span> \n",
       " <span style=\"color: #7f7f7f; text-decoration-color: #7f7f7f\"> again!                 </span> <span style=\"color: #7f7f7f; text-decoration-color: #7f7f7f\">              </span> <span style=\"color: #7f7f7f; text-decoration-color: #7f7f7f\">                        </span> <span style=\"color: #7f7f7f; text-decoration-color: #7f7f7f\"> -0.8573844400000001,   </span> <span style=\"color: #7f7f7f; text-decoration-color: #7f7f7f\">                       </span> \n",
       " <span style=\"color: #7f7f7f; text-decoration-color: #7f7f7f\">                        </span> <span style=\"color: #7f7f7f; text-decoration-color: #7f7f7f\">              </span> <span style=\"color: #7f7f7f; text-decoration-color: #7f7f7f\">                        </span> <span style=\"color: #7f7f7f; text-decoration-color: #7f7f7f\"> 'Objective':           </span> <span style=\"color: #7f7f7f; text-decoration-color: #7f7f7f\">                       </span> \n",
       " <span style=\"color: #7f7f7f; text-decoration-color: #7f7f7f\">                        </span> <span style=\"color: #7f7f7f; text-decoration-color: #7f7f7f\">              </span> <span style=\"color: #7f7f7f; text-decoration-color: #7f7f7f\">                        </span> <span style=\"color: #7f7f7f; text-decoration-color: #7f7f7f\"> -0.5521171}            </span> <span style=\"color: #7f7f7f; text-decoration-color: #7f7f7f\">                       </span> \n",
       "  Not loud enough and      Objective      Objective                {'Subjective':           True                   \n",
       "  doesn't turn on like                                             -4.0895286,                                     \n",
       "  it should.                                                       'Objective':                                    \n",
       "                                                                   -0.01688896000000003}                           \n",
       " <span style=\"color: #7f7f7f; text-decoration-color: #7f7f7f\"> The phone doesn't seem </span> <span style=\"color: #7f7f7f; text-decoration-color: #7f7f7f\"> Objective    </span> <span style=\"color: #7f7f7f; text-decoration-color: #7f7f7f\"> Objective              </span> <span style=\"color: #7f7f7f; text-decoration-color: #7f7f7f\"> {'Subjective':         </span> <span style=\"color: #7f7f7f; text-decoration-color: #7f7f7f\"> True                  </span> \n",
       " <span style=\"color: #7f7f7f; text-decoration-color: #7f7f7f\"> to accept anything     </span> <span style=\"color: #7f7f7f; text-decoration-color: #7f7f7f\">              </span> <span style=\"color: #7f7f7f; text-decoration-color: #7f7f7f\">                        </span> <span style=\"color: #7f7f7f; text-decoration-color: #7f7f7f\"> -2.8614092,            </span> <span style=\"color: #7f7f7f; text-decoration-color: #7f7f7f\">                       </span> \n",
       " <span style=\"color: #7f7f7f; text-decoration-color: #7f7f7f\"> except CBR mp3s        </span> <span style=\"color: #7f7f7f; text-decoration-color: #7f7f7f\">              </span> <span style=\"color: #7f7f7f; text-decoration-color: #7f7f7f\">                        </span> <span style=\"color: #7f7f7f; text-decoration-color: #7f7f7f\"> 'Objective':           </span> <span style=\"color: #7f7f7f; text-decoration-color: #7f7f7f\">                       </span> \n",
       " <span style=\"color: #7f7f7f; text-decoration-color: #7f7f7f\">                        </span> <span style=\"color: #7f7f7f; text-decoration-color: #7f7f7f\">              </span> <span style=\"color: #7f7f7f; text-decoration-color: #7f7f7f\">                        </span> <span style=\"color: #7f7f7f; text-decoration-color: #7f7f7f\"> -0.058888500000000066} </span> <span style=\"color: #7f7f7f; text-decoration-color: #7f7f7f\">                       </span> \n",
       "  All three broke within   Objective      Objective                {'Subjective':           True                   \n",
       "  two months of use.                                               -4.7739024,                                     \n",
       "                                                                   'Objective':                                    \n",
       "                                                                   -0.008483256000000052}                          \n",
       "                                                                                                                   \n",
       "</pre>\n"
      ],
      "text/plain": [
       "                                                                                                                   \n",
       " \u001b[1;35m \u001b[0m\u001b[1;35mtext                  \u001b[0m\u001b[1;35m \u001b[0m \u001b[1;35m \u001b[0m\u001b[1;35mground_truth\u001b[0m\u001b[1;35m \u001b[0m \u001b[1;35m \u001b[0m\u001b[1;35msubjectivity_detection\u001b[0m\u001b[1;35m \u001b[0m \u001b[1;35m \u001b[0m\u001b[1;35mscore                 \u001b[0m\u001b[1;35m \u001b[0m \u001b[1;35m \u001b[0m\u001b[1;35mground_truth__x__sub…\u001b[0m\u001b[1;35m \u001b[0m \n",
       " ───────────────────────────────────────────────────────────────────────────────────────────────────────────────── \n",
       "  The mic is great.        Subjective     Objective                {'Subjective':           False                  \n",
       "                                                                   -2.2253392,                                     \n",
       "                                                                   'Objective':                                    \n",
       "                                                                   -0.11432376000000005}                           \n",
       " \u001b[2m \u001b[0m\u001b[2mWill order from them  \u001b[0m\u001b[2m \u001b[0m \u001b[2m \u001b[0m\u001b[2mSubjective  \u001b[0m\u001b[2m \u001b[0m \u001b[2m \u001b[0m\u001b[2mObjective             \u001b[0m\u001b[2m \u001b[0m \u001b[2m \u001b[0m\u001b[2m{'Subjective':        \u001b[0m\u001b[2m \u001b[0m \u001b[2m \u001b[0m\u001b[2mFalse                \u001b[0m\u001b[2m \u001b[0m \n",
       " \u001b[2m \u001b[0m\u001b[2magain!                \u001b[0m\u001b[2m \u001b[0m \u001b[2m              \u001b[0m \u001b[2m                        \u001b[0m \u001b[2m \u001b[0m\u001b[2m-0.8573844400000001,  \u001b[0m\u001b[2m \u001b[0m \u001b[2m                       \u001b[0m \n",
       " \u001b[2m                        \u001b[0m \u001b[2m              \u001b[0m \u001b[2m                        \u001b[0m \u001b[2m \u001b[0m\u001b[2m'Objective':          \u001b[0m\u001b[2m \u001b[0m \u001b[2m                       \u001b[0m \n",
       " \u001b[2m                        \u001b[0m \u001b[2m              \u001b[0m \u001b[2m                        \u001b[0m \u001b[2m \u001b[0m\u001b[2m-0.5521171}           \u001b[0m\u001b[2m \u001b[0m \u001b[2m                       \u001b[0m \n",
       "  Not loud enough and      Objective      Objective                {'Subjective':           True                   \n",
       "  doesn't turn on like                                             -4.0895286,                                     \n",
       "  it should.                                                       'Objective':                                    \n",
       "                                                                   -0.01688896000000003}                           \n",
       " \u001b[2m \u001b[0m\u001b[2mThe phone doesn't seem\u001b[0m\u001b[2m \u001b[0m \u001b[2m \u001b[0m\u001b[2mObjective   \u001b[0m\u001b[2m \u001b[0m \u001b[2m \u001b[0m\u001b[2mObjective             \u001b[0m\u001b[2m \u001b[0m \u001b[2m \u001b[0m\u001b[2m{'Subjective':        \u001b[0m\u001b[2m \u001b[0m \u001b[2m \u001b[0m\u001b[2mTrue                 \u001b[0m\u001b[2m \u001b[0m \n",
       " \u001b[2m \u001b[0m\u001b[2mto accept anything    \u001b[0m\u001b[2m \u001b[0m \u001b[2m              \u001b[0m \u001b[2m                        \u001b[0m \u001b[2m \u001b[0m\u001b[2m-2.8614092,           \u001b[0m\u001b[2m \u001b[0m \u001b[2m                       \u001b[0m \n",
       " \u001b[2m \u001b[0m\u001b[2mexcept CBR mp3s       \u001b[0m\u001b[2m \u001b[0m \u001b[2m              \u001b[0m \u001b[2m                        \u001b[0m \u001b[2m \u001b[0m\u001b[2m'Objective':          \u001b[0m\u001b[2m \u001b[0m \u001b[2m                       \u001b[0m \n",
       " \u001b[2m                        \u001b[0m \u001b[2m              \u001b[0m \u001b[2m                        \u001b[0m \u001b[2m \u001b[0m\u001b[2m-0.058888500000000066}\u001b[0m\u001b[2m \u001b[0m \u001b[2m                       \u001b[0m \n",
       "  All three broke within   Objective      Objective                {'Subjective':           True                   \n",
       "  two months of use.                                               -4.7739024,                                     \n",
       "                                                                   'Objective':                                    \n",
       "                                                                   -0.008483256000000052}                          \n",
       "                                                                                                                   \n"
      ]
     },
     "metadata": {},
     "output_type": "display_data"
    },
    {
     "data": {
      "text/html": [
       "<pre style=\"white-space:pre;overflow-x:auto;line-height:normal;font-family:Menlo,'DejaVu Sans Mono',consolas,'Courier New',monospace\">Analyze evaluation experience <span style=\"color: #808000; text-decoration-color: #808000\">...</span>\n",
       "</pre>\n"
      ],
      "text/plain": [
       "Analyze evaluation experience \u001b[33m...\u001b[0m\n"
      ]
     },
     "metadata": {},
     "output_type": "display_data"
    },
    {
     "name": "stderr",
     "output_type": "stream",
     "text": [
      "100%|████████████████| 2/2 [00:00<00:00, 229.64it/s]\n",
      "100%|█████████████████| 2/2 [00:00<00:00, 24.71it/s]\n"
     ]
    },
    {
     "data": {
      "text/html": [
       "<pre style=\"white-space:pre;overflow-x:auto;line-height:normal;font-family:Menlo,'DejaVu Sans Mono',consolas,'Courier New',monospace\">Number of errors: <span style=\"color: #008080; text-decoration-color: #008080; font-weight: bold\">2</span>\n",
       "</pre>\n"
      ],
      "text/plain": [
       "Number of errors: \u001b[1;36m2\u001b[0m\n"
      ]
     },
     "metadata": {},
     "output_type": "display_data"
    },
    {
     "data": {
      "text/html": [
       "<pre style=\"white-space:pre;overflow-x:auto;line-height:normal;font-family:Menlo,'DejaVu Sans Mono',consolas,'Courier New',monospace\"><span style=\"color: #800000; text-decoration-color: #800000; font-weight: bold\">Accuracy = </span><span style=\"color: #008080; text-decoration-color: #008080; font-weight: bold\">60.00</span><span style=\"color: #800000; text-decoration-color: #800000; font-weight: bold\">%</span>\n",
       "</pre>\n"
      ],
      "text/plain": [
       "\u001b[1;31mAccuracy = \u001b[0m\u001b[1;36m60.00\u001b[0m\u001b[1;31m%\u001b[0m\n"
      ]
     },
     "metadata": {},
     "output_type": "display_data"
    },
    {
     "data": {
      "text/html": [
       "<pre style=\"white-space:pre;overflow-x:auto;line-height:normal;font-family:Menlo,'DejaVu Sans Mono',consolas,'Courier New',monospace\">Improve <span style=\"color: #008000; text-decoration-color: #008000\">\"subjectivity_detection\"</span> skill based on analysis <span style=\"color: #808000; text-decoration-color: #808000\">...</span>\n",
       "</pre>\n"
      ],
      "text/plain": [
       "Improve \u001b[32m\"subjectivity_detection\"\u001b[0m skill based on analysis \u001b[33m...\u001b[0m\n"
      ]
     },
     "metadata": {},
     "output_type": "display_data"
    },
    {
     "data": {
      "text/html": [
       "<pre style=\"white-space:pre;overflow-x:auto;line-height:normal;font-family:Menlo,'DejaVu Sans Mono',consolas,'Courier New',monospace\">Updated instructions for skill <span style=\"color: #008000; text-decoration-color: #008000\">\"subjectivity_detection\"</span>:\n",
       "\n",
       "</pre>\n"
      ],
      "text/plain": [
       "Updated instructions for skill \u001b[32m\"subjectivity_detection\"\u001b[0m:\n",
       "\n"
      ]
     },
     "metadata": {},
     "output_type": "display_data"
    },
    {
     "data": {
      "text/html": [
       "<pre style=\"white-space:pre;overflow-x:auto;line-height:normal;font-family:Menlo,'DejaVu Sans Mono',consolas,'Courier New',monospace\"><span style=\"color: #008000; text-decoration-color: #008000; font-weight: bold\">Identify if the provided product review is </span><span style=\"color: #008000; text-decoration-color: #008000\">\"Subjective\"</span><span style=\"color: #008000; text-decoration-color: #008000; font-weight: bold\"> (expressing personal feelings, tastes, or opinions) or </span>\n",
       "<span style=\"color: #008000; text-decoration-color: #008000\">\"Objective\"</span><span style=\"color: #008000; text-decoration-color: #008000; font-weight: bold\"> (based on factual information). Consider a statement as subjective if it reflects personal judgment or </span>\n",
       "<span style=\"color: #008000; text-decoration-color: #008000; font-weight: bold\">preference, and as objective if it states verifiable facts or features.</span>\n",
       "\n",
       "<span style=\"color: #008000; text-decoration-color: #008000; font-weight: bold\">Examples:</span>\n",
       "\n",
       "<span style=\"color: #008000; text-decoration-color: #008000; font-weight: bold\">Input: Not loud enough and doesn't turn on like it should.</span>\n",
       "<span style=\"color: #008000; text-decoration-color: #008000; font-weight: bold\">Output: Objective</span>\n",
       "\n",
       "<span style=\"color: #008000; text-decoration-color: #008000; font-weight: bold\">Input: I personally think the sound quality is not up to the mark.</span>\n",
       "<span style=\"color: #008000; text-decoration-color: #008000; font-weight: bold\">Output: Subjective</span>\n",
       "\n",
       "<span style=\"color: #008000; text-decoration-color: #008000; font-weight: bold\">Input: The phone's battery lasts for </span><span style=\"color: #008080; text-decoration-color: #008080; font-weight: bold\">10</span><span style=\"color: #008000; text-decoration-color: #008000; font-weight: bold\"> hours.</span>\n",
       "<span style=\"color: #008000; text-decoration-color: #008000; font-weight: bold\">Output: Objective</span>\n",
       "\n",
       "<span style=\"color: #008000; text-decoration-color: #008000; font-weight: bold\">Input: The mic is great.</span>\n",
       "<span style=\"color: #008000; text-decoration-color: #008000; font-weight: bold\">Output: Subjective</span>\n",
       "\n",
       "<span style=\"color: #008000; text-decoration-color: #008000; font-weight: bold\">Input: Will order from them again!</span>\n",
       "<span style=\"color: #008000; text-decoration-color: #008000; font-weight: bold\">Output: Subjective</span>\n",
       "</pre>\n"
      ],
      "text/plain": [
       "\u001b[1;32mIdentify if the provided product review is \u001b[0m\u001b[32m\"Subjective\"\u001b[0m\u001b[1;32m \u001b[0m\u001b[1;32m(\u001b[0m\u001b[1;32mexpressing personal feelings, tastes, or opinions\u001b[0m\u001b[1;32m)\u001b[0m\u001b[1;32m or \u001b[0m\n",
       "\u001b[32m\"Objective\"\u001b[0m\u001b[1;32m \u001b[0m\u001b[1;32m(\u001b[0m\u001b[1;32mbased on factual information\u001b[0m\u001b[1;32m)\u001b[0m\u001b[1;32m. Consider a statement as subjective if it reflects personal judgment or \u001b[0m\n",
       "\u001b[1;32mpreference, and as objective if it states verifiable facts or features.\u001b[0m\n",
       "\n",
       "\u001b[1;32mExamples:\u001b[0m\n",
       "\n",
       "\u001b[1;32mInput: Not loud enough and doesn't turn on like it should.\u001b[0m\n",
       "\u001b[1;32mOutput: Objective\u001b[0m\n",
       "\n",
       "\u001b[1;32mInput: I personally think the sound quality is not up to the mark.\u001b[0m\n",
       "\u001b[1;32mOutput: Subjective\u001b[0m\n",
       "\n",
       "\u001b[1;32mInput: The phone's battery lasts for \u001b[0m\u001b[1;36m10\u001b[0m\u001b[1;32m hours.\u001b[0m\n",
       "\u001b[1;32mOutput: Objective\u001b[0m\n",
       "\n",
       "\u001b[1;32mInput: The mic is great.\u001b[0m\n",
       "\u001b[1;32mOutput: Subjective\u001b[0m\n",
       "\n",
       "\u001b[1;32mInput: Will order from them again!\u001b[0m\n",
       "\u001b[1;32mOutput: Subjective\u001b[0m\n"
      ]
     },
     "metadata": {},
     "output_type": "display_data"
    },
    {
     "data": {
      "text/html": [
       "<pre style=\"white-space:pre;overflow-x:auto;line-height:normal;font-family:Menlo,'DejaVu Sans Mono',consolas,'Courier New',monospace\">Re-apply subjectivity_detection skill to dataset <span style=\"color: #808000; text-decoration-color: #808000\">...</span>\n",
       "</pre>\n"
      ],
      "text/plain": [
       "Re-apply subjectivity_detection skill to dataset \u001b[33m...\u001b[0m\n"
      ]
     },
     "metadata": {},
     "output_type": "display_data"
    },
    {
     "name": "stderr",
     "output_type": "stream",
     "text": [
      "100%|█████████████████| 5/5 [00:00<00:00, 35.93it/s]\n"
     ]
    },
    {
     "data": {
      "text/html": [
       "<pre style=\"white-space:pre;overflow-x:auto;line-height:normal;font-family:Menlo,'DejaVu Sans Mono',consolas,'Courier New',monospace\">\n",
       "\n",
       "=&gt; Iteration #<span style=\"color: #008080; text-decoration-color: #008080; font-weight: bold\">2</span>: Comparing to ground truth, analyzing and improving <span style=\"color: #808000; text-decoration-color: #808000\">...</span>\n",
       "</pre>\n"
      ],
      "text/plain": [
       "\n",
       "\n",
       "=> Iteration #\u001b[1;36m2\u001b[0m: Comparing to ground truth, analyzing and improving \u001b[33m...\u001b[0m\n"
      ]
     },
     "metadata": {},
     "output_type": "display_data"
    },
    {
     "data": {
      "text/html": [
       "<pre style=\"white-space:pre;overflow-x:auto;line-height:normal;font-family:Menlo,'DejaVu Sans Mono',consolas,'Courier New',monospace\">Comparing predictions to ground truth data <span style=\"color: #808000; text-decoration-color: #808000\">...</span>\n",
       "</pre>\n"
      ],
      "text/plain": [
       "Comparing predictions to ground truth data \u001b[33m...\u001b[0m\n"
      ]
     },
     "metadata": {},
     "output_type": "display_data"
    },
    {
     "data": {
      "text/html": [
       "<pre style=\"white-space:pre;overflow-x:auto;line-height:normal;font-family:Menlo,'DejaVu Sans Mono',consolas,'Courier New',monospace\">                                                                                                                   \n",
       " <span style=\"color: #800080; text-decoration-color: #800080; font-weight: bold\"> text                   </span> <span style=\"color: #800080; text-decoration-color: #800080; font-weight: bold\"> ground_truth </span> <span style=\"color: #800080; text-decoration-color: #800080; font-weight: bold\"> subjectivity_detection </span> <span style=\"color: #800080; text-decoration-color: #800080; font-weight: bold\"> score                  </span> <span style=\"color: #800080; text-decoration-color: #800080; font-weight: bold\"> ground_truth__x__sub… </span> \n",
       " ───────────────────────────────────────────────────────────────────────────────────────────────────────────────── \n",
       "  The mic is great.        Subjective     Subjective               {'Subjective':           True                   \n",
       "                                                                   -0.022607480000000055,                          \n",
       "                                                                   'Objective': -3.80076}                          \n",
       " <span style=\"color: #7f7f7f; text-decoration-color: #7f7f7f\"> Will order from them   </span> <span style=\"color: #7f7f7f; text-decoration-color: #7f7f7f\"> Subjective   </span> <span style=\"color: #7f7f7f; text-decoration-color: #7f7f7f\"> Subjective             </span> <span style=\"color: #7f7f7f; text-decoration-color: #7f7f7f\"> {'Subjective':         </span> <span style=\"color: #7f7f7f; text-decoration-color: #7f7f7f\"> True                  </span> \n",
       " <span style=\"color: #7f7f7f; text-decoration-color: #7f7f7f\"> again!                 </span> <span style=\"color: #7f7f7f; text-decoration-color: #7f7f7f\">              </span> <span style=\"color: #7f7f7f; text-decoration-color: #7f7f7f\">                        </span> <span style=\"color: #7f7f7f; text-decoration-color: #7f7f7f\"> -0.05627503599999997,  </span> <span style=\"color: #7f7f7f; text-decoration-color: #7f7f7f\">                       </span> \n",
       " <span style=\"color: #7f7f7f; text-decoration-color: #7f7f7f\">                        </span> <span style=\"color: #7f7f7f; text-decoration-color: #7f7f7f\">              </span> <span style=\"color: #7f7f7f; text-decoration-color: #7f7f7f\">                        </span> <span style=\"color: #7f7f7f; text-decoration-color: #7f7f7f\"> 'Objective':           </span> <span style=\"color: #7f7f7f; text-decoration-color: #7f7f7f\">                       </span> \n",
       " <span style=\"color: #7f7f7f; text-decoration-color: #7f7f7f\">                        </span> <span style=\"color: #7f7f7f; text-decoration-color: #7f7f7f\">              </span> <span style=\"color: #7f7f7f; text-decoration-color: #7f7f7f\">                        </span> <span style=\"color: #7f7f7f; text-decoration-color: #7f7f7f\"> -2.9055107}            </span> <span style=\"color: #7f7f7f; text-decoration-color: #7f7f7f\">                       </span> \n",
       "  Not loud enough and      Objective      Objective                {'Subjective':           True                   \n",
       "  doesn't turn on like                                             -2.897738,                                      \n",
       "  it should.                                                       'Objective':                                    \n",
       "                                                                   -0.05672692499999995}                           \n",
       " <span style=\"color: #7f7f7f; text-decoration-color: #7f7f7f\"> The phone doesn't seem </span> <span style=\"color: #7f7f7f; text-decoration-color: #7f7f7f\"> Objective    </span> <span style=\"color: #7f7f7f; text-decoration-color: #7f7f7f\"> Objective              </span> <span style=\"color: #7f7f7f; text-decoration-color: #7f7f7f\"> {'Subjective':         </span> <span style=\"color: #7f7f7f; text-decoration-color: #7f7f7f\"> True                  </span> \n",
       " <span style=\"color: #7f7f7f; text-decoration-color: #7f7f7f\"> to accept anything     </span> <span style=\"color: #7f7f7f; text-decoration-color: #7f7f7f\">              </span> <span style=\"color: #7f7f7f; text-decoration-color: #7f7f7f\">                        </span> <span style=\"color: #7f7f7f; text-decoration-color: #7f7f7f\"> -3.8168292,            </span> <span style=\"color: #7f7f7f; text-decoration-color: #7f7f7f\">                       </span> \n",
       " <span style=\"color: #7f7f7f; text-decoration-color: #7f7f7f\"> except CBR mp3s        </span> <span style=\"color: #7f7f7f; text-decoration-color: #7f7f7f\">              </span> <span style=\"color: #7f7f7f; text-decoration-color: #7f7f7f\">                        </span> <span style=\"color: #7f7f7f; text-decoration-color: #7f7f7f\"> 'Objective':           </span> <span style=\"color: #7f7f7f; text-decoration-color: #7f7f7f\">                       </span> \n",
       " <span style=\"color: #7f7f7f; text-decoration-color: #7f7f7f\">                        </span> <span style=\"color: #7f7f7f; text-decoration-color: #7f7f7f\">              </span> <span style=\"color: #7f7f7f; text-decoration-color: #7f7f7f\">                        </span> <span style=\"color: #7f7f7f; text-decoration-color: #7f7f7f\"> -0.022242965000000038} </span> <span style=\"color: #7f7f7f; text-decoration-color: #7f7f7f\">                       </span> \n",
       "  All three broke within   Objective      Objective                {'Subjective':           True                   \n",
       "  two months of use.                                               -4.800799,                                      \n",
       "                                                                   'Objective':                                    \n",
       "                                                                   -0.008257226000000043}                          \n",
       "                                                                                                                   \n",
       "</pre>\n"
      ],
      "text/plain": [
       "                                                                                                                   \n",
       " \u001b[1;35m \u001b[0m\u001b[1;35mtext                  \u001b[0m\u001b[1;35m \u001b[0m \u001b[1;35m \u001b[0m\u001b[1;35mground_truth\u001b[0m\u001b[1;35m \u001b[0m \u001b[1;35m \u001b[0m\u001b[1;35msubjectivity_detection\u001b[0m\u001b[1;35m \u001b[0m \u001b[1;35m \u001b[0m\u001b[1;35mscore                 \u001b[0m\u001b[1;35m \u001b[0m \u001b[1;35m \u001b[0m\u001b[1;35mground_truth__x__sub…\u001b[0m\u001b[1;35m \u001b[0m \n",
       " ───────────────────────────────────────────────────────────────────────────────────────────────────────────────── \n",
       "  The mic is great.        Subjective     Subjective               {'Subjective':           True                   \n",
       "                                                                   -0.022607480000000055,                          \n",
       "                                                                   'Objective': -3.80076}                          \n",
       " \u001b[2m \u001b[0m\u001b[2mWill order from them  \u001b[0m\u001b[2m \u001b[0m \u001b[2m \u001b[0m\u001b[2mSubjective  \u001b[0m\u001b[2m \u001b[0m \u001b[2m \u001b[0m\u001b[2mSubjective            \u001b[0m\u001b[2m \u001b[0m \u001b[2m \u001b[0m\u001b[2m{'Subjective':        \u001b[0m\u001b[2m \u001b[0m \u001b[2m \u001b[0m\u001b[2mTrue                 \u001b[0m\u001b[2m \u001b[0m \n",
       " \u001b[2m \u001b[0m\u001b[2magain!                \u001b[0m\u001b[2m \u001b[0m \u001b[2m              \u001b[0m \u001b[2m                        \u001b[0m \u001b[2m \u001b[0m\u001b[2m-0.05627503599999997, \u001b[0m\u001b[2m \u001b[0m \u001b[2m                       \u001b[0m \n",
       " \u001b[2m                        \u001b[0m \u001b[2m              \u001b[0m \u001b[2m                        \u001b[0m \u001b[2m \u001b[0m\u001b[2m'Objective':          \u001b[0m\u001b[2m \u001b[0m \u001b[2m                       \u001b[0m \n",
       " \u001b[2m                        \u001b[0m \u001b[2m              \u001b[0m \u001b[2m                        \u001b[0m \u001b[2m \u001b[0m\u001b[2m-2.9055107}           \u001b[0m\u001b[2m \u001b[0m \u001b[2m                       \u001b[0m \n",
       "  Not loud enough and      Objective      Objective                {'Subjective':           True                   \n",
       "  doesn't turn on like                                             -2.897738,                                      \n",
       "  it should.                                                       'Objective':                                    \n",
       "                                                                   -0.05672692499999995}                           \n",
       " \u001b[2m \u001b[0m\u001b[2mThe phone doesn't seem\u001b[0m\u001b[2m \u001b[0m \u001b[2m \u001b[0m\u001b[2mObjective   \u001b[0m\u001b[2m \u001b[0m \u001b[2m \u001b[0m\u001b[2mObjective             \u001b[0m\u001b[2m \u001b[0m \u001b[2m \u001b[0m\u001b[2m{'Subjective':        \u001b[0m\u001b[2m \u001b[0m \u001b[2m \u001b[0m\u001b[2mTrue                 \u001b[0m\u001b[2m \u001b[0m \n",
       " \u001b[2m \u001b[0m\u001b[2mto accept anything    \u001b[0m\u001b[2m \u001b[0m \u001b[2m              \u001b[0m \u001b[2m                        \u001b[0m \u001b[2m \u001b[0m\u001b[2m-3.8168292,           \u001b[0m\u001b[2m \u001b[0m \u001b[2m                       \u001b[0m \n",
       " \u001b[2m \u001b[0m\u001b[2mexcept CBR mp3s       \u001b[0m\u001b[2m \u001b[0m \u001b[2m              \u001b[0m \u001b[2m                        \u001b[0m \u001b[2m \u001b[0m\u001b[2m'Objective':          \u001b[0m\u001b[2m \u001b[0m \u001b[2m                       \u001b[0m \n",
       " \u001b[2m                        \u001b[0m \u001b[2m              \u001b[0m \u001b[2m                        \u001b[0m \u001b[2m \u001b[0m\u001b[2m-0.022242965000000038}\u001b[0m\u001b[2m \u001b[0m \u001b[2m                       \u001b[0m \n",
       "  All three broke within   Objective      Objective                {'Subjective':           True                   \n",
       "  two months of use.                                               -4.800799,                                      \n",
       "                                                                   'Objective':                                    \n",
       "                                                                   -0.008257226000000043}                          \n",
       "                                                                                                                   \n"
      ]
     },
     "metadata": {},
     "output_type": "display_data"
    },
    {
     "data": {
      "text/html": [
       "<pre style=\"white-space:pre;overflow-x:auto;line-height:normal;font-family:Menlo,'DejaVu Sans Mono',consolas,'Courier New',monospace\">Analyze evaluation experience <span style=\"color: #808000; text-decoration-color: #808000\">...</span>\n",
       "</pre>\n"
      ],
      "text/plain": [
       "Analyze evaluation experience \u001b[33m...\u001b[0m\n"
      ]
     },
     "metadata": {},
     "output_type": "display_data"
    },
    {
     "data": {
      "text/html": [
       "<pre style=\"white-space:pre;overflow-x:auto;line-height:normal;font-family:Menlo,'DejaVu Sans Mono',consolas,'Courier New',monospace\">Number of errors: <span style=\"color: #008080; text-decoration-color: #008080; font-weight: bold\">0</span>\n",
       "</pre>\n"
      ],
      "text/plain": [
       "Number of errors: \u001b[1;36m0\u001b[0m\n"
      ]
     },
     "metadata": {},
     "output_type": "display_data"
    },
    {
     "data": {
      "text/html": [
       "<pre style=\"white-space:pre;overflow-x:auto;line-height:normal;font-family:Menlo,'DejaVu Sans Mono',consolas,'Courier New',monospace\"><span style=\"color: #800000; text-decoration-color: #800000; font-weight: bold\">Accuracy = </span><span style=\"color: #008080; text-decoration-color: #008080; font-weight: bold\">100.00</span><span style=\"color: #800000; text-decoration-color: #800000; font-weight: bold\">%</span>\n",
       "</pre>\n"
      ],
      "text/plain": [
       "\u001b[1;31mAccuracy = \u001b[0m\u001b[1;36m100.00\u001b[0m\u001b[1;31m%\u001b[0m\n"
      ]
     },
     "metadata": {},
     "output_type": "display_data"
    },
    {
     "data": {
      "text/html": [
       "<pre style=\"white-space:pre;overflow-x:auto;line-height:normal;font-family:Menlo,'DejaVu Sans Mono',consolas,'Courier New',monospace\">Accuracy threshold reached <span style=\"font-weight: bold\">(</span><span style=\"color: #008080; text-decoration-color: #008080; font-weight: bold\">1.0</span> &gt;= <span style=\"color: #008080; text-decoration-color: #008080; font-weight: bold\">0.95</span><span style=\"font-weight: bold\">)</span>\n",
       "</pre>\n"
      ],
      "text/plain": [
       "Accuracy threshold reached \u001b[1m(\u001b[0m\u001b[1;36m1.0\u001b[0m >= \u001b[1;36m0.95\u001b[0m\u001b[1m)\u001b[0m\n"
      ]
     },
     "metadata": {},
     "output_type": "display_data"
    },
    {
     "data": {
      "text/html": [
       "<pre style=\"white-space:pre;overflow-x:auto;line-height:normal;font-family:Menlo,'DejaVu Sans Mono',consolas,'Courier New',monospace\">Train is done!\n",
       "</pre>\n"
      ],
      "text/plain": [
       "Train is done!\n"
      ]
     },
     "metadata": {},
     "output_type": "display_data"
    }
   ],
   "source": [
    "learning_experience = agent.learn(learning_iterations=3, accuracy_threshold=0.95)"
   ]
  },
  {
   "cell_type": "markdown",
   "id": "ee1573e3",
   "metadata": {},
   "source": [
    "Let's see the final instructions:"
   ]
  },
  {
   "cell_type": "code",
   "execution_count": 5,
   "id": "f5b67bd4",
   "metadata": {},
   "outputs": [
    {
     "data": {
      "text/html": [
       "<pre style=\"white-space:pre;overflow-x:auto;line-height:normal;font-family:Menlo,'DejaVu Sans Mono',consolas,'Courier New',monospace\"><span style=\"color: #000080; text-decoration-color: #000080; font-weight: bold\">Total Agent Skills: </span><span style=\"color: #000080; text-decoration-color: #000080; font-weight: bold\">1</span>\n",
       "\n",
       "<span style=\"color: #008000; text-decoration-color: #008000; font-weight: bold; text-decoration: underline\">subjectivity_detection</span>\n",
       "<span style=\"color: #008000; text-decoration-color: #008000\">Identify if the provided product review is </span><span style=\"color: #008000; text-decoration-color: #008000\">\"Subjective\"</span><span style=\"color: #008000; text-decoration-color: #008000\"> </span><span style=\"color: #008000; text-decoration-color: #008000; font-weight: bold\">(</span><span style=\"color: #008000; text-decoration-color: #008000\">expressing personal feelings, tastes, or opinions</span><span style=\"color: #008000; text-decoration-color: #008000; font-weight: bold\">)</span><span style=\"color: #008000; text-decoration-color: #008000\"> or </span>\n",
       "<span style=\"color: #008000; text-decoration-color: #008000\">\"Objective\"</span><span style=\"color: #008000; text-decoration-color: #008000\"> </span><span style=\"color: #008000; text-decoration-color: #008000; font-weight: bold\">(</span><span style=\"color: #008000; text-decoration-color: #008000\">based on factual information</span><span style=\"color: #008000; text-decoration-color: #008000; font-weight: bold\">)</span><span style=\"color: #008000; text-decoration-color: #008000\">. Consider a statement as subjective if it reflects personal judgment or </span>\n",
       "<span style=\"color: #008000; text-decoration-color: #008000\">preference, and as objective if it states verifiable facts or features.</span>\n",
       "\n",
       "<span style=\"color: #008000; text-decoration-color: #008000\">Examples:</span>\n",
       "\n",
       "<span style=\"color: #008000; text-decoration-color: #008000\">Input: Not loud enough and doesn't turn on like it should.</span>\n",
       "<span style=\"color: #008000; text-decoration-color: #008000\">Output: Objective</span>\n",
       "\n",
       "<span style=\"color: #008000; text-decoration-color: #008000\">Input: I personally think the sound quality is not up to the mark.</span>\n",
       "<span style=\"color: #008000; text-decoration-color: #008000\">Output: Subjective</span>\n",
       "\n",
       "<span style=\"color: #008000; text-decoration-color: #008000\">Input: The phone's battery lasts for </span><span style=\"color: #008000; text-decoration-color: #008000; font-weight: bold\">10</span><span style=\"color: #008000; text-decoration-color: #008000\"> hours.</span>\n",
       "<span style=\"color: #008000; text-decoration-color: #008000\">Output: Objective</span>\n",
       "\n",
       "<span style=\"color: #008000; text-decoration-color: #008000\">Input: The mic is great.</span>\n",
       "<span style=\"color: #008000; text-decoration-color: #008000\">Output: Subjective</span>\n",
       "\n",
       "<span style=\"color: #008000; text-decoration-color: #008000\">Input: Will order from them again!</span>\n",
       "<span style=\"color: #008000; text-decoration-color: #008000\">Output: Subjective</span>\n",
       "\n",
       "</pre>\n"
      ],
      "text/plain": [
       "\u001b[1;34mTotal Agent Skills: \u001b[0m\u001b[1;34m1\u001b[0m\n",
       "\n",
       "\u001b[1;4;32msubjectivity_detection\u001b[0m\n",
       "\u001b[32mIdentify if the provided product review is \u001b[0m\u001b[32m\"Subjective\"\u001b[0m\u001b[32m \u001b[0m\u001b[1;32m(\u001b[0m\u001b[32mexpressing personal feelings, tastes, or opinions\u001b[0m\u001b[1;32m)\u001b[0m\u001b[32m or \u001b[0m\n",
       "\u001b[32m\"Objective\"\u001b[0m\u001b[32m \u001b[0m\u001b[1;32m(\u001b[0m\u001b[32mbased on factual information\u001b[0m\u001b[1;32m)\u001b[0m\u001b[32m. Consider a statement as subjective if it reflects personal judgment or \u001b[0m\n",
       "\u001b[32mpreference, and as objective if it states verifiable facts or features.\u001b[0m\n",
       "\n",
       "\u001b[32mExamples:\u001b[0m\n",
       "\n",
       "\u001b[32mInput: Not loud enough and doesn't turn on like it should.\u001b[0m\n",
       "\u001b[32mOutput: Objective\u001b[0m\n",
       "\n",
       "\u001b[32mInput: I personally think the sound quality is not up to the mark.\u001b[0m\n",
       "\u001b[32mOutput: Subjective\u001b[0m\n",
       "\n",
       "\u001b[32mInput: The phone's battery lasts for \u001b[0m\u001b[1;32m10\u001b[0m\u001b[32m hours.\u001b[0m\n",
       "\u001b[32mOutput: Objective\u001b[0m\n",
       "\n",
       "\u001b[32mInput: The mic is great.\u001b[0m\n",
       "\u001b[32mOutput: Subjective\u001b[0m\n",
       "\n",
       "\u001b[32mInput: Will order from them again!\u001b[0m\n",
       "\u001b[32mOutput: Subjective\u001b[0m\n",
       "\n"
      ]
     },
     "metadata": {},
     "output_type": "display_data"
    }
   ],
   "source": [
    "print(agent.skills)"
   ]
  },
  {
   "cell_type": "markdown",
   "id": "54ec4568",
   "metadata": {},
   "source": [
    "... and predictions created by the skill:"
   ]
  },
  {
   "cell_type": "code",
   "execution_count": 6,
   "id": "baa69db8",
   "metadata": {},
   "outputs": [
    {
     "data": {
      "text/html": [
       "<div>\n",
       "<style scoped>\n",
       "    .dataframe tbody tr th:only-of-type {\n",
       "        vertical-align: middle;\n",
       "    }\n",
       "\n",
       "    .dataframe tbody tr th {\n",
       "        vertical-align: top;\n",
       "    }\n",
       "\n",
       "    .dataframe thead th {\n",
       "        text-align: right;\n",
       "    }\n",
       "</style>\n",
       "<table border=\"1\" class=\"dataframe\">\n",
       "  <thead>\n",
       "    <tr style=\"text-align: right;\">\n",
       "      <th></th>\n",
       "      <th>text</th>\n",
       "      <th>ground_truth</th>\n",
       "      <th>subjectivity_detection</th>\n",
       "      <th>score</th>\n",
       "    </tr>\n",
       "  </thead>\n",
       "  <tbody>\n",
       "    <tr>\n",
       "      <th>0</th>\n",
       "      <td>The mic is great.</td>\n",
       "      <td>Subjective</td>\n",
       "      <td>Subjective</td>\n",
       "      <td>{'Subjective': -0.022607480000000055, 'Objecti...</td>\n",
       "    </tr>\n",
       "    <tr>\n",
       "      <th>1</th>\n",
       "      <td>Will order from them again!</td>\n",
       "      <td>Subjective</td>\n",
       "      <td>Subjective</td>\n",
       "      <td>{'Subjective': -0.05627503599999997, 'Objectiv...</td>\n",
       "    </tr>\n",
       "    <tr>\n",
       "      <th>2</th>\n",
       "      <td>Not loud enough and doesn't turn on like it sh...</td>\n",
       "      <td>Objective</td>\n",
       "      <td>Objective</td>\n",
       "      <td>{'Subjective': -2.897738, 'Objective': -0.0567...</td>\n",
       "    </tr>\n",
       "    <tr>\n",
       "      <th>3</th>\n",
       "      <td>The phone doesn't seem to accept anything exce...</td>\n",
       "      <td>Objective</td>\n",
       "      <td>Objective</td>\n",
       "      <td>{'Subjective': -3.8168292, 'Objective': -0.022...</td>\n",
       "    </tr>\n",
       "    <tr>\n",
       "      <th>4</th>\n",
       "      <td>All three broke within two months of use.</td>\n",
       "      <td>Objective</td>\n",
       "      <td>Objective</td>\n",
       "      <td>{'Subjective': -4.800799, 'Objective': -0.0082...</td>\n",
       "    </tr>\n",
       "  </tbody>\n",
       "</table>\n",
       "</div>"
      ],
      "text/plain": [
       "                                                text ground_truth  \\\n",
       "0                                  The mic is great.   Subjective   \n",
       "1                        Will order from them again!   Subjective   \n",
       "2  Not loud enough and doesn't turn on like it sh...    Objective   \n",
       "3  The phone doesn't seem to accept anything exce...    Objective   \n",
       "4          All three broke within two months of use.    Objective   \n",
       "\n",
       "  subjectivity_detection                                              score  \n",
       "0             Subjective  {'Subjective': -0.022607480000000055, 'Objecti...  \n",
       "1             Subjective  {'Subjective': -0.05627503599999997, 'Objectiv...  \n",
       "2              Objective  {'Subjective': -2.897738, 'Objective': -0.0567...  \n",
       "3              Objective  {'Subjective': -3.8168292, 'Objective': -0.022...  \n",
       "4              Objective  {'Subjective': -4.800799, 'Objective': -0.0082...  "
      ]
     },
     "execution_count": 6,
     "metadata": {},
     "output_type": "execute_result"
    }
   ],
   "source": [
    "learning_experience.predictions"
   ]
  },
  {
   "cell_type": "markdown",
   "id": "b8d49385",
   "metadata": {},
   "source": [
    "## Applying learned skills to the real data\n",
    "\n",
    "Now as we have our Agent with evolved \"subjectivity detection\" skill, we can apply it to the real dataset without ground truth data:"
   ]
  },
  {
   "cell_type": "code",
   "execution_count": 7,
   "id": "60a79462",
   "metadata": {},
   "outputs": [
    {
     "data": {
      "text/html": [
       "<div>\n",
       "<style scoped>\n",
       "    .dataframe tbody tr th:only-of-type {\n",
       "        vertical-align: middle;\n",
       "    }\n",
       "\n",
       "    .dataframe tbody tr th {\n",
       "        vertical-align: top;\n",
       "    }\n",
       "\n",
       "    .dataframe thead th {\n",
       "        text-align: right;\n",
       "    }\n",
       "</style>\n",
       "<table border=\"1\" class=\"dataframe\">\n",
       "  <thead>\n",
       "    <tr style=\"text-align: right;\">\n",
       "      <th></th>\n",
       "      <th>text</th>\n",
       "    </tr>\n",
       "  </thead>\n",
       "  <tbody>\n",
       "    <tr>\n",
       "      <th>0</th>\n",
       "      <td>Doesn't hold charge.</td>\n",
       "    </tr>\n",
       "    <tr>\n",
       "      <th>1</th>\n",
       "      <td>Excellent bluetooth headset</td>\n",
       "    </tr>\n",
       "    <tr>\n",
       "      <th>2</th>\n",
       "      <td>I love this thing!</td>\n",
       "    </tr>\n",
       "    <tr>\n",
       "      <th>3</th>\n",
       "      <td>VERY DISAPPOINTED.</td>\n",
       "    </tr>\n",
       "  </tbody>\n",
       "</table>\n",
       "</div>"
      ],
      "text/plain": [
       "                          text\n",
       "0         Doesn't hold charge.\n",
       "1  Excellent bluetooth headset\n",
       "2           I love this thing!\n",
       "3           VERY DISAPPOINTED."
      ]
     },
     "execution_count": 7,
     "metadata": {},
     "output_type": "execute_result"
    }
   ],
   "source": [
    "test_df = pd.DataFrame([\n",
    "    \"Doesn't hold charge.\",\n",
    "    \"Excellent bluetooth headset\",\n",
    "    \"I love this thing!\",\n",
    "    \"VERY DISAPPOINTED.\"\n",
    "], columns=['text'])\n",
    "test_df"
   ]
  },
  {
   "cell_type": "code",
   "execution_count": 8,
   "id": "2f2bf273",
   "metadata": {},
   "outputs": [
    {
     "name": "stderr",
     "output_type": "stream",
     "text": [
      "100%|█████████████████| 4/4 [00:00<00:00, 32.32it/s]\n"
     ]
    }
   ],
   "source": [
    "result = agent.apply_skills(test_df)"
   ]
  },
  {
   "cell_type": "code",
   "execution_count": 9,
   "id": "e6c50ede",
   "metadata": {},
   "outputs": [
    {
     "data": {
      "text/html": [
       "<div>\n",
       "<style scoped>\n",
       "    .dataframe tbody tr th:only-of-type {\n",
       "        vertical-align: middle;\n",
       "    }\n",
       "\n",
       "    .dataframe tbody tr th {\n",
       "        vertical-align: top;\n",
       "    }\n",
       "\n",
       "    .dataframe thead th {\n",
       "        text-align: right;\n",
       "    }\n",
       "</style>\n",
       "<table border=\"1\" class=\"dataframe\">\n",
       "  <thead>\n",
       "    <tr style=\"text-align: right;\">\n",
       "      <th></th>\n",
       "      <th>text</th>\n",
       "      <th>subjectivity_detection</th>\n",
       "      <th>score</th>\n",
       "    </tr>\n",
       "  </thead>\n",
       "  <tbody>\n",
       "    <tr>\n",
       "      <th>0</th>\n",
       "      <td>Doesn't hold charge.</td>\n",
       "      <td>Objective</td>\n",
       "      <td>{'Subjective': -4.9062243, 'Objective': -0.007...</td>\n",
       "    </tr>\n",
       "    <tr>\n",
       "      <th>1</th>\n",
       "      <td>Excellent bluetooth headset</td>\n",
       "      <td>Objective</td>\n",
       "      <td>{'Subjective': -1.450324, 'Objective': -0.2672...</td>\n",
       "    </tr>\n",
       "    <tr>\n",
       "      <th>2</th>\n",
       "      <td>I love this thing!</td>\n",
       "      <td>Subjective</td>\n",
       "      <td>{'Subjective': -0.0014673689999999905, 'Object...</td>\n",
       "    </tr>\n",
       "    <tr>\n",
       "      <th>3</th>\n",
       "      <td>VERY DISAPPOINTED.</td>\n",
       "      <td>Subjective</td>\n",
       "      <td>{'Subjective': -0.17851222999999997, 'Objectiv...</td>\n",
       "    </tr>\n",
       "  </tbody>\n",
       "</table>\n",
       "</div>"
      ],
      "text/plain": [
       "                          text subjectivity_detection  \\\n",
       "0         Doesn't hold charge.              Objective   \n",
       "1  Excellent bluetooth headset              Objective   \n",
       "2           I love this thing!             Subjective   \n",
       "3           VERY DISAPPOINTED.             Subjective   \n",
       "\n",
       "                                               score  \n",
       "0  {'Subjective': -4.9062243, 'Objective': -0.007...  \n",
       "1  {'Subjective': -1.450324, 'Objective': -0.2672...  \n",
       "2  {'Subjective': -0.0014673689999999905, 'Object...  \n",
       "3  {'Subjective': -0.17851222999999997, 'Objectiv...  "
      ]
     },
     "execution_count": 9,
     "metadata": {},
     "output_type": "execute_result"
    }
   ],
   "source": [
    "result.predictions"
   ]
  },
  {
   "cell_type": "code",
   "execution_count": null,
   "id": "0922915b",
   "metadata": {},
   "outputs": [],
   "source": []
  }
 ],
 "metadata": {
  "kernelspec": {
   "display_name": "Python 3 (ipykernel)",
   "language": "python",
   "name": "python3"
  },
  "language_info": {
   "codemirror_mode": {
    "name": "ipython",
    "version": 3
   },
   "file_extension": ".py",
   "mimetype": "text/x-python",
   "name": "python",
   "nbconvert_exporter": "python",
   "pygments_lexer": "ipython3",
   "version": "3.11.4"
  }
 },
 "nbformat": 4,
 "nbformat_minor": 5
}
