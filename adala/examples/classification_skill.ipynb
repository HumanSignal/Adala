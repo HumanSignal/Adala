{
 "cells": [
  {
   "cell_type": "markdown",
   "id": "94ad15ac",
   "metadata": {},
   "source": [
    "# Classification skill"
   ]
  },
  {
   "cell_type": "code",
   "execution_count": 11,
   "id": "a2f6d99b",
   "metadata": {},
   "outputs": [
    {
     "data": {
      "text/html": [
       "<div>\n",
       "<style scoped>\n",
       "    .dataframe tbody tr th:only-of-type {\n",
       "        vertical-align: middle;\n",
       "    }\n",
       "\n",
       "    .dataframe tbody tr th {\n",
       "        vertical-align: top;\n",
       "    }\n",
       "\n",
       "    .dataframe thead th {\n",
       "        text-align: right;\n",
       "    }\n",
       "</style>\n",
       "<table border=\"1\" class=\"dataframe\">\n",
       "  <thead>\n",
       "    <tr style=\"text-align: right;\">\n",
       "      <th></th>\n",
       "      <th>text</th>\n",
       "      <th>category</th>\n",
       "    </tr>\n",
       "  </thead>\n",
       "  <tbody>\n",
       "    <tr>\n",
       "      <th>0</th>\n",
       "      <td>Apple product with a sleek design.</td>\n",
       "      <td>Electronics</td>\n",
       "    </tr>\n",
       "    <tr>\n",
       "      <th>1</th>\n",
       "      <td>Laptop stand for the kitchen.</td>\n",
       "      <td>Furniture/Home Decor</td>\n",
       "    </tr>\n",
       "    <tr>\n",
       "      <th>2</th>\n",
       "      <td>Chocolate leather boots.</td>\n",
       "      <td>Footwear/Clothing</td>\n",
       "    </tr>\n",
       "    <tr>\n",
       "      <th>3</th>\n",
       "      <td>Wooden cream for surfaces.</td>\n",
       "      <td>Furniture/Home Decor</td>\n",
       "    </tr>\n",
       "    <tr>\n",
       "      <th>4</th>\n",
       "      <td>Natural finish for your lips.</td>\n",
       "      <td>Beauty/Personal Care</td>\n",
       "    </tr>\n",
       "  </tbody>\n",
       "</table>\n",
       "</div>"
      ],
      "text/plain": [
       "                                 text              category\n",
       "0  Apple product with a sleek design.           Electronics\n",
       "1       Laptop stand for the kitchen.  Furniture/Home Decor\n",
       "2            Chocolate leather boots.     Footwear/Clothing\n",
       "3          Wooden cream for surfaces.  Furniture/Home Decor\n",
       "4       Natural finish for your lips.  Beauty/Personal Care"
      ]
     },
     "execution_count": 11,
     "metadata": {},
     "output_type": "execute_result"
    }
   ],
   "source": [
    "import pandas as pd\n",
    "df = pd.DataFrame([\n",
    "    {\"text\": \"Apple product with a sleek design.\", \"category\": \"Electronics\"},\n",
    "    {\"text\": \"Laptop stand for the kitchen.\", \"category\": \"Furniture/Home Decor\"},\n",
    "    {\"text\": \"Chocolate leather boots.\", \"category\": \"Footwear/Clothing\"},\n",
    "    {\"text\": \"Wooden cream for surfaces.\", \"category\": \"Furniture/Home Decor\"},\n",
    "    {\"text\": \"Natural finish for your lips.\", \"category\": \"Beauty/Personal Care\"}\n",
    "])\n",
    "df"
   ]
  },
  {
   "cell_type": "code",
   "execution_count": 15,
   "id": "6ee2cebf",
   "metadata": {},
   "outputs": [
    {
     "name": "stderr",
     "output_type": "stream",
     "text": [
      "100%|█████████████████| 5/5 [00:00<00:00, 45.32it/s]\n"
     ]
    },
    {
     "data": {
      "text/html": [
       "<pre style=\"white-space:pre;overflow-x:auto;line-height:normal;font-family:Menlo,'DejaVu Sans Mono',consolas,'Courier New',monospace\">\n",
       "\n",
       "=&gt; Iteration #<span style=\"color: #008080; text-decoration-color: #008080; font-weight: bold\">0</span>: Comparing to ground truth, analyzing and improving <span style=\"color: #808000; text-decoration-color: #808000\">...</span>\n",
       "</pre>\n"
      ],
      "text/plain": [
       "\n",
       "\n",
       "=> Iteration #\u001b[1;36m0\u001b[0m: Comparing to ground truth, analyzing and improving \u001b[33m...\u001b[0m\n"
      ]
     },
     "metadata": {},
     "output_type": "display_data"
    },
    {
     "data": {
      "text/html": [
       "<pre style=\"white-space:pre;overflow-x:auto;line-height:normal;font-family:Menlo,'DejaVu Sans Mono',consolas,'Courier New',monospace\">Comparing predictions to ground truth data <span style=\"color: #808000; text-decoration-color: #808000\">...</span>\n",
       "</pre>\n"
      ],
      "text/plain": [
       "Comparing predictions to ground truth data \u001b[33m...\u001b[0m\n"
      ]
     },
     "metadata": {},
     "output_type": "display_data"
    },
    {
     "data": {
      "text/html": [
       "<pre style=\"white-space:pre;overflow-x:auto;line-height:normal;font-family:Menlo,'DejaVu Sans Mono',consolas,'Courier New',monospace\">                                                                                                                   \n",
       " <span style=\"color: #800080; text-decoration-color: #800080; font-weight: bold\"> text                 </span> <span style=\"color: #800080; text-decoration-color: #800080; font-weight: bold\"> category             </span> <span style=\"color: #800080; text-decoration-color: #800080; font-weight: bold\"> product_category_cl… </span> <span style=\"color: #800080; text-decoration-color: #800080; font-weight: bold\"> score                </span> <span style=\"color: #800080; text-decoration-color: #800080; font-weight: bold\"> category__x__produ… </span> \n",
       " ───────────────────────────────────────────────────────────────────────────────────────────────────────────────── \n",
       "  Apple product with a   Electronics            Electronics            {'Footwear/Clothing…   True                 \n",
       "  sleek design.                                                        -7.4104013,                                 \n",
       "                                                                       'Electronics':                              \n",
       "                                                                       -0.0006187928400000…                        \n",
       "                                                                       'Food/Beverages':                           \n",
       "                                                                       -12.842141,                                 \n",
       "                                                                       'Furniture/Home                             \n",
       "                                                                       Decor': -13.004693,                         \n",
       "                                                                       'Beauty/Personal                            \n",
       "                                                                       Care': -11.657418}                          \n",
       " <span style=\"color: #7f7f7f; text-decoration-color: #7f7f7f\"> Laptop stand for the </span> <span style=\"color: #7f7f7f; text-decoration-color: #7f7f7f\"> Furniture/Home Decor </span> <span style=\"color: #7f7f7f; text-decoration-color: #7f7f7f\"> Electronics          </span> <span style=\"color: #7f7f7f; text-decoration-color: #7f7f7f\"> {'Footwear/Clothing… </span> <span style=\"color: #7f7f7f; text-decoration-color: #7f7f7f\"> False               </span> \n",
       " <span style=\"color: #7f7f7f; text-decoration-color: #7f7f7f\"> kitchen.             </span> <span style=\"color: #7f7f7f; text-decoration-color: #7f7f7f\">                      </span> <span style=\"color: #7f7f7f; text-decoration-color: #7f7f7f\">                      </span> <span style=\"color: #7f7f7f; text-decoration-color: #7f7f7f\"> -5.046604,           </span> <span style=\"color: #7f7f7f; text-decoration-color: #7f7f7f\">                     </span> \n",
       " <span style=\"color: #7f7f7f; text-decoration-color: #7f7f7f\">                      </span> <span style=\"color: #7f7f7f; text-decoration-color: #7f7f7f\">                      </span> <span style=\"color: #7f7f7f; text-decoration-color: #7f7f7f\">                      </span> <span style=\"color: #7f7f7f; text-decoration-color: #7f7f7f\"> 'Electronics':       </span> <span style=\"color: #7f7f7f; text-decoration-color: #7f7f7f\">                     </span> \n",
       " <span style=\"color: #7f7f7f; text-decoration-color: #7f7f7f\">                      </span> <span style=\"color: #7f7f7f; text-decoration-color: #7f7f7f\">                      </span> <span style=\"color: #7f7f7f; text-decoration-color: #7f7f7f\">                      </span> <span style=\"color: #7f7f7f; text-decoration-color: #7f7f7f\"> -0.0079155900000000… </span> <span style=\"color: #7f7f7f; text-decoration-color: #7f7f7f\">                     </span> \n",
       " <span style=\"color: #7f7f7f; text-decoration-color: #7f7f7f\">                      </span> <span style=\"color: #7f7f7f; text-decoration-color: #7f7f7f\">                      </span> <span style=\"color: #7f7f7f; text-decoration-color: #7f7f7f\">                      </span> <span style=\"color: #7f7f7f; text-decoration-color: #7f7f7f\"> 'Food/Beverages':    </span> <span style=\"color: #7f7f7f; text-decoration-color: #7f7f7f\">                     </span> \n",
       " <span style=\"color: #7f7f7f; text-decoration-color: #7f7f7f\">                      </span> <span style=\"color: #7f7f7f; text-decoration-color: #7f7f7f\">                      </span> <span style=\"color: #7f7f7f; text-decoration-color: #7f7f7f\">                      </span> <span style=\"color: #7f7f7f; text-decoration-color: #7f7f7f\"> -12.865566,          </span> <span style=\"color: #7f7f7f; text-decoration-color: #7f7f7f\">                     </span> \n",
       " <span style=\"color: #7f7f7f; text-decoration-color: #7f7f7f\">                      </span> <span style=\"color: #7f7f7f; text-decoration-color: #7f7f7f\">                      </span> <span style=\"color: #7f7f7f; text-decoration-color: #7f7f7f\">                      </span> <span style=\"color: #7f7f7f; text-decoration-color: #7f7f7f\"> 'Furniture/Home      </span> <span style=\"color: #7f7f7f; text-decoration-color: #7f7f7f\">                     </span> \n",
       " <span style=\"color: #7f7f7f; text-decoration-color: #7f7f7f\">                      </span> <span style=\"color: #7f7f7f; text-decoration-color: #7f7f7f\">                      </span> <span style=\"color: #7f7f7f; text-decoration-color: #7f7f7f\">                      </span> <span style=\"color: #7f7f7f; text-decoration-color: #7f7f7f\"> Decor': -6.5376244,  </span> <span style=\"color: #7f7f7f; text-decoration-color: #7f7f7f\">                     </span> \n",
       " <span style=\"color: #7f7f7f; text-decoration-color: #7f7f7f\">                      </span> <span style=\"color: #7f7f7f; text-decoration-color: #7f7f7f\">                      </span> <span style=\"color: #7f7f7f; text-decoration-color: #7f7f7f\">                      </span> <span style=\"color: #7f7f7f; text-decoration-color: #7f7f7f\"> 'Beauty/Personal     </span> <span style=\"color: #7f7f7f; text-decoration-color: #7f7f7f\">                     </span> \n",
       " <span style=\"color: #7f7f7f; text-decoration-color: #7f7f7f\">                      </span> <span style=\"color: #7f7f7f; text-decoration-color: #7f7f7f\">                      </span> <span style=\"color: #7f7f7f; text-decoration-color: #7f7f7f\">                      </span> <span style=\"color: #7f7f7f; text-decoration-color: #7f7f7f\"> Care': -12.865139}   </span> <span style=\"color: #7f7f7f; text-decoration-color: #7f7f7f\">                     </span> \n",
       "  Chocolate leather      Footwear/Clothing      Footwear/Clothing      {'Footwear/Clothing…   True                 \n",
       "  boots.                                                               -0.0410600639999999…                        \n",
       "                                                                       'Electronics':                              \n",
       "                                                                       -11.113914,                                 \n",
       "                                                                       'Food/Beverages':                           \n",
       "                                                                       -3.3290619999999995,                        \n",
       "                                                                       'Furniture/Home                             \n",
       "                                                                       Decor': -5.6644883,                         \n",
       "                                                                       'Beauty/Personal                            \n",
       "                                                                       Care': -6.991324}                           \n",
       " <span style=\"color: #7f7f7f; text-decoration-color: #7f7f7f\"> Wooden cream for     </span> <span style=\"color: #7f7f7f; text-decoration-color: #7f7f7f\"> Furniture/Home Decor </span> <span style=\"color: #7f7f7f; text-decoration-color: #7f7f7f\"> Furniture/Home Decor </span> <span style=\"color: #7f7f7f; text-decoration-color: #7f7f7f\"> {'Footwear/Clothing… </span> <span style=\"color: #7f7f7f; text-decoration-color: #7f7f7f\"> True                </span> \n",
       " <span style=\"color: #7f7f7f; text-decoration-color: #7f7f7f\"> surfaces.            </span> <span style=\"color: #7f7f7f; text-decoration-color: #7f7f7f\">                      </span> <span style=\"color: #7f7f7f; text-decoration-color: #7f7f7f\">                      </span> <span style=\"color: #7f7f7f; text-decoration-color: #7f7f7f\"> -5.391147,           </span> <span style=\"color: #7f7f7f; text-decoration-color: #7f7f7f\">                     </span> \n",
       " <span style=\"color: #7f7f7f; text-decoration-color: #7f7f7f\">                      </span> <span style=\"color: #7f7f7f; text-decoration-color: #7f7f7f\">                      </span> <span style=\"color: #7f7f7f; text-decoration-color: #7f7f7f\">                      </span> <span style=\"color: #7f7f7f; text-decoration-color: #7f7f7f\"> 'Electronics':       </span> <span style=\"color: #7f7f7f; text-decoration-color: #7f7f7f\">                     </span> \n",
       " <span style=\"color: #7f7f7f; text-decoration-color: #7f7f7f\">                      </span> <span style=\"color: #7f7f7f; text-decoration-color: #7f7f7f\">                      </span> <span style=\"color: #7f7f7f; text-decoration-color: #7f7f7f\">                      </span> <span style=\"color: #7f7f7f; text-decoration-color: #7f7f7f\"> -12.019984,          </span> <span style=\"color: #7f7f7f; text-decoration-color: #7f7f7f\">                     </span> \n",
       " <span style=\"color: #7f7f7f; text-decoration-color: #7f7f7f\">                      </span> <span style=\"color: #7f7f7f; text-decoration-color: #7f7f7f\">                      </span> <span style=\"color: #7f7f7f; text-decoration-color: #7f7f7f\">                      </span> <span style=\"color: #7f7f7f; text-decoration-color: #7f7f7f\"> 'Food/Beverages':    </span> <span style=\"color: #7f7f7f; text-decoration-color: #7f7f7f\">                     </span> \n",
       " <span style=\"color: #7f7f7f; text-decoration-color: #7f7f7f\">                      </span> <span style=\"color: #7f7f7f; text-decoration-color: #7f7f7f\">                      </span> <span style=\"color: #7f7f7f; text-decoration-color: #7f7f7f\">                      </span> <span style=\"color: #7f7f7f; text-decoration-color: #7f7f7f\"> -8.380702,           </span> <span style=\"color: #7f7f7f; text-decoration-color: #7f7f7f\">                     </span> \n",
       " <span style=\"color: #7f7f7f; text-decoration-color: #7f7f7f\">                      </span> <span style=\"color: #7f7f7f; text-decoration-color: #7f7f7f\">                      </span> <span style=\"color: #7f7f7f; text-decoration-color: #7f7f7f\">                      </span> <span style=\"color: #7f7f7f; text-decoration-color: #7f7f7f\"> 'Furniture/Home      </span> <span style=\"color: #7f7f7f; text-decoration-color: #7f7f7f\">                     </span> \n",
       " <span style=\"color: #7f7f7f; text-decoration-color: #7f7f7f\">                      </span> <span style=\"color: #7f7f7f; text-decoration-color: #7f7f7f\">                      </span> <span style=\"color: #7f7f7f; text-decoration-color: #7f7f7f\">                      </span> <span style=\"color: #7f7f7f; text-decoration-color: #7f7f7f\"> Decor':              </span> <span style=\"color: #7f7f7f; text-decoration-color: #7f7f7f\">                     </span> \n",
       " <span style=\"color: #7f7f7f; text-decoration-color: #7f7f7f\">                      </span> <span style=\"color: #7f7f7f; text-decoration-color: #7f7f7f\">                      </span> <span style=\"color: #7f7f7f; text-decoration-color: #7f7f7f\">                      </span> <span style=\"color: #7f7f7f; text-decoration-color: #7f7f7f\"> -0.0170855020000000… </span> <span style=\"color: #7f7f7f; text-decoration-color: #7f7f7f\">                     </span> \n",
       " <span style=\"color: #7f7f7f; text-decoration-color: #7f7f7f\">                      </span> <span style=\"color: #7f7f7f; text-decoration-color: #7f7f7f\">                      </span> <span style=\"color: #7f7f7f; text-decoration-color: #7f7f7f\">                      </span> <span style=\"color: #7f7f7f; text-decoration-color: #7f7f7f\"> 'Beauty/Personal     </span> <span style=\"color: #7f7f7f; text-decoration-color: #7f7f7f\">                     </span> \n",
       " <span style=\"color: #7f7f7f; text-decoration-color: #7f7f7f\">                      </span> <span style=\"color: #7f7f7f; text-decoration-color: #7f7f7f\">                      </span> <span style=\"color: #7f7f7f; text-decoration-color: #7f7f7f\">                      </span> <span style=\"color: #7f7f7f; text-decoration-color: #7f7f7f\"> Care': -4.4105563}   </span> <span style=\"color: #7f7f7f; text-decoration-color: #7f7f7f\">                     </span> \n",
       "  Natural finish for     Beauty/Personal Care   Beauty/Personal Care   {'Footwear/Clothing…   True                 \n",
       "  your lips.                                                           -3.9375494,                                 \n",
       "                                                                       'Electronics':                              \n",
       "                                                                       -10.5326805,                                \n",
       "                                                                       'Food/Beverages':                           \n",
       "                                                                       -9.545025,                                  \n",
       "                                                                       'Furniture/Home                             \n",
       "                                                                       Decor': -10.485508,                         \n",
       "                                                                       'Beauty/Personal                            \n",
       "                                                                       Care':                                      \n",
       "                                                                       -0.0198170879999999…                        \n",
       "                                                                                                                   \n",
       "</pre>\n"
      ],
      "text/plain": [
       "                                                                                                                   \n",
       " \u001b[1;35m \u001b[0m\u001b[1;35mtext                \u001b[0m\u001b[1;35m \u001b[0m \u001b[1;35m \u001b[0m\u001b[1;35mcategory            \u001b[0m\u001b[1;35m \u001b[0m \u001b[1;35m \u001b[0m\u001b[1;35mproduct_category_cl…\u001b[0m\u001b[1;35m \u001b[0m \u001b[1;35m \u001b[0m\u001b[1;35mscore               \u001b[0m\u001b[1;35m \u001b[0m \u001b[1;35m \u001b[0m\u001b[1;35mcategory__x__produ…\u001b[0m\u001b[1;35m \u001b[0m \n",
       " ───────────────────────────────────────────────────────────────────────────────────────────────────────────────── \n",
       "  Apple product with a   Electronics            Electronics            {'Footwear/Clothing…   True                 \n",
       "  sleek design.                                                        -7.4104013,                                 \n",
       "                                                                       'Electronics':                              \n",
       "                                                                       -0.0006187928400000…                        \n",
       "                                                                       'Food/Beverages':                           \n",
       "                                                                       -12.842141,                                 \n",
       "                                                                       'Furniture/Home                             \n",
       "                                                                       Decor': -13.004693,                         \n",
       "                                                                       'Beauty/Personal                            \n",
       "                                                                       Care': -11.657418}                          \n",
       " \u001b[2m \u001b[0m\u001b[2mLaptop stand for the\u001b[0m\u001b[2m \u001b[0m \u001b[2m \u001b[0m\u001b[2mFurniture/Home Decor\u001b[0m\u001b[2m \u001b[0m \u001b[2m \u001b[0m\u001b[2mElectronics         \u001b[0m\u001b[2m \u001b[0m \u001b[2m \u001b[0m\u001b[2m{'Footwear/Clothing…\u001b[0m\u001b[2m \u001b[0m \u001b[2m \u001b[0m\u001b[2mFalse              \u001b[0m\u001b[2m \u001b[0m \n",
       " \u001b[2m \u001b[0m\u001b[2mkitchen.            \u001b[0m\u001b[2m \u001b[0m \u001b[2m                      \u001b[0m \u001b[2m                      \u001b[0m \u001b[2m \u001b[0m\u001b[2m-5.046604,          \u001b[0m\u001b[2m \u001b[0m \u001b[2m                     \u001b[0m \n",
       " \u001b[2m                      \u001b[0m \u001b[2m                      \u001b[0m \u001b[2m                      \u001b[0m \u001b[2m \u001b[0m\u001b[2m'Electronics':      \u001b[0m\u001b[2m \u001b[0m \u001b[2m                     \u001b[0m \n",
       " \u001b[2m                      \u001b[0m \u001b[2m                      \u001b[0m \u001b[2m                      \u001b[0m \u001b[2m \u001b[0m\u001b[2m-0.0079155900000000…\u001b[0m\u001b[2m \u001b[0m \u001b[2m                     \u001b[0m \n",
       " \u001b[2m                      \u001b[0m \u001b[2m                      \u001b[0m \u001b[2m                      \u001b[0m \u001b[2m \u001b[0m\u001b[2m'Food/Beverages':   \u001b[0m\u001b[2m \u001b[0m \u001b[2m                     \u001b[0m \n",
       " \u001b[2m                      \u001b[0m \u001b[2m                      \u001b[0m \u001b[2m                      \u001b[0m \u001b[2m \u001b[0m\u001b[2m-12.865566,         \u001b[0m\u001b[2m \u001b[0m \u001b[2m                     \u001b[0m \n",
       " \u001b[2m                      \u001b[0m \u001b[2m                      \u001b[0m \u001b[2m                      \u001b[0m \u001b[2m \u001b[0m\u001b[2m'Furniture/Home     \u001b[0m\u001b[2m \u001b[0m \u001b[2m                     \u001b[0m \n",
       " \u001b[2m                      \u001b[0m \u001b[2m                      \u001b[0m \u001b[2m                      \u001b[0m \u001b[2m \u001b[0m\u001b[2mDecor': -6.5376244, \u001b[0m\u001b[2m \u001b[0m \u001b[2m                     \u001b[0m \n",
       " \u001b[2m                      \u001b[0m \u001b[2m                      \u001b[0m \u001b[2m                      \u001b[0m \u001b[2m \u001b[0m\u001b[2m'Beauty/Personal    \u001b[0m\u001b[2m \u001b[0m \u001b[2m                     \u001b[0m \n",
       " \u001b[2m                      \u001b[0m \u001b[2m                      \u001b[0m \u001b[2m                      \u001b[0m \u001b[2m \u001b[0m\u001b[2mCare': -12.865139}  \u001b[0m\u001b[2m \u001b[0m \u001b[2m                     \u001b[0m \n",
       "  Chocolate leather      Footwear/Clothing      Footwear/Clothing      {'Footwear/Clothing…   True                 \n",
       "  boots.                                                               -0.0410600639999999…                        \n",
       "                                                                       'Electronics':                              \n",
       "                                                                       -11.113914,                                 \n",
       "                                                                       'Food/Beverages':                           \n",
       "                                                                       -3.3290619999999995,                        \n",
       "                                                                       'Furniture/Home                             \n",
       "                                                                       Decor': -5.6644883,                         \n",
       "                                                                       'Beauty/Personal                            \n",
       "                                                                       Care': -6.991324}                           \n",
       " \u001b[2m \u001b[0m\u001b[2mWooden cream for    \u001b[0m\u001b[2m \u001b[0m \u001b[2m \u001b[0m\u001b[2mFurniture/Home Decor\u001b[0m\u001b[2m \u001b[0m \u001b[2m \u001b[0m\u001b[2mFurniture/Home Decor\u001b[0m\u001b[2m \u001b[0m \u001b[2m \u001b[0m\u001b[2m{'Footwear/Clothing…\u001b[0m\u001b[2m \u001b[0m \u001b[2m \u001b[0m\u001b[2mTrue               \u001b[0m\u001b[2m \u001b[0m \n",
       " \u001b[2m \u001b[0m\u001b[2msurfaces.           \u001b[0m\u001b[2m \u001b[0m \u001b[2m                      \u001b[0m \u001b[2m                      \u001b[0m \u001b[2m \u001b[0m\u001b[2m-5.391147,          \u001b[0m\u001b[2m \u001b[0m \u001b[2m                     \u001b[0m \n",
       " \u001b[2m                      \u001b[0m \u001b[2m                      \u001b[0m \u001b[2m                      \u001b[0m \u001b[2m \u001b[0m\u001b[2m'Electronics':      \u001b[0m\u001b[2m \u001b[0m \u001b[2m                     \u001b[0m \n",
       " \u001b[2m                      \u001b[0m \u001b[2m                      \u001b[0m \u001b[2m                      \u001b[0m \u001b[2m \u001b[0m\u001b[2m-12.019984,         \u001b[0m\u001b[2m \u001b[0m \u001b[2m                     \u001b[0m \n",
       " \u001b[2m                      \u001b[0m \u001b[2m                      \u001b[0m \u001b[2m                      \u001b[0m \u001b[2m \u001b[0m\u001b[2m'Food/Beverages':   \u001b[0m\u001b[2m \u001b[0m \u001b[2m                     \u001b[0m \n",
       " \u001b[2m                      \u001b[0m \u001b[2m                      \u001b[0m \u001b[2m                      \u001b[0m \u001b[2m \u001b[0m\u001b[2m-8.380702,          \u001b[0m\u001b[2m \u001b[0m \u001b[2m                     \u001b[0m \n",
       " \u001b[2m                      \u001b[0m \u001b[2m                      \u001b[0m \u001b[2m                      \u001b[0m \u001b[2m \u001b[0m\u001b[2m'Furniture/Home     \u001b[0m\u001b[2m \u001b[0m \u001b[2m                     \u001b[0m \n",
       " \u001b[2m                      \u001b[0m \u001b[2m                      \u001b[0m \u001b[2m                      \u001b[0m \u001b[2m \u001b[0m\u001b[2mDecor':             \u001b[0m\u001b[2m \u001b[0m \u001b[2m                     \u001b[0m \n",
       " \u001b[2m                      \u001b[0m \u001b[2m                      \u001b[0m \u001b[2m                      \u001b[0m \u001b[2m \u001b[0m\u001b[2m-0.0170855020000000…\u001b[0m\u001b[2m \u001b[0m \u001b[2m                     \u001b[0m \n",
       " \u001b[2m                      \u001b[0m \u001b[2m                      \u001b[0m \u001b[2m                      \u001b[0m \u001b[2m \u001b[0m\u001b[2m'Beauty/Personal    \u001b[0m\u001b[2m \u001b[0m \u001b[2m                     \u001b[0m \n",
       " \u001b[2m                      \u001b[0m \u001b[2m                      \u001b[0m \u001b[2m                      \u001b[0m \u001b[2m \u001b[0m\u001b[2mCare': -4.4105563}  \u001b[0m\u001b[2m \u001b[0m \u001b[2m                     \u001b[0m \n",
       "  Natural finish for     Beauty/Personal Care   Beauty/Personal Care   {'Footwear/Clothing…   True                 \n",
       "  your lips.                                                           -3.9375494,                                 \n",
       "                                                                       'Electronics':                              \n",
       "                                                                       -10.5326805,                                \n",
       "                                                                       'Food/Beverages':                           \n",
       "                                                                       -9.545025,                                  \n",
       "                                                                       'Furniture/Home                             \n",
       "                                                                       Decor': -10.485508,                         \n",
       "                                                                       'Beauty/Personal                            \n",
       "                                                                       Care':                                      \n",
       "                                                                       -0.0198170879999999…                        \n",
       "                                                                                                                   \n"
      ]
     },
     "metadata": {},
     "output_type": "display_data"
    },
    {
     "data": {
      "text/html": [
       "<pre style=\"white-space:pre;overflow-x:auto;line-height:normal;font-family:Menlo,'DejaVu Sans Mono',consolas,'Courier New',monospace\">Analyze evaluation experience <span style=\"color: #808000; text-decoration-color: #808000\">...</span>\n",
       "</pre>\n"
      ],
      "text/plain": [
       "Analyze evaluation experience \u001b[33m...\u001b[0m\n"
      ]
     },
     "metadata": {},
     "output_type": "display_data"
    },
    {
     "name": "stderr",
     "output_type": "stream",
     "text": [
      "100%|████████████████| 1/1 [00:00<00:00, 137.21it/s]\n",
      "100%|█████████████████| 1/1 [00:04<00:00,  4.85s/it]\n"
     ]
    },
    {
     "data": {
      "text/html": [
       "<pre style=\"white-space:pre;overflow-x:auto;line-height:normal;font-family:Menlo,'DejaVu Sans Mono',consolas,'Courier New',monospace\">Number of errors: <span style=\"color: #008080; text-decoration-color: #008080; font-weight: bold\">1</span>\n",
       "</pre>\n"
      ],
      "text/plain": [
       "Number of errors: \u001b[1;36m1\u001b[0m\n"
      ]
     },
     "metadata": {},
     "output_type": "display_data"
    },
    {
     "data": {
      "text/html": [
       "<pre style=\"white-space:pre;overflow-x:auto;line-height:normal;font-family:Menlo,'DejaVu Sans Mono',consolas,'Courier New',monospace\"><span style=\"color: #800000; text-decoration-color: #800000; font-weight: bold\">Accuracy = </span><span style=\"color: #008080; text-decoration-color: #008080; font-weight: bold\">80.00</span><span style=\"color: #800000; text-decoration-color: #800000; font-weight: bold\">%</span>\n",
       "</pre>\n"
      ],
      "text/plain": [
       "\u001b[1;31mAccuracy = \u001b[0m\u001b[1;36m80.00\u001b[0m\u001b[1;31m%\u001b[0m\n"
      ]
     },
     "metadata": {},
     "output_type": "display_data"
    },
    {
     "data": {
      "text/html": [
       "<pre style=\"white-space:pre;overflow-x:auto;line-height:normal;font-family:Menlo,'DejaVu Sans Mono',consolas,'Courier New',monospace\">Improve <span style=\"color: #008000; text-decoration-color: #008000\">\"product_category_classification\"</span> skill based on analysis <span style=\"color: #808000; text-decoration-color: #808000\">...</span>\n",
       "</pre>\n"
      ],
      "text/plain": [
       "Improve \u001b[32m\"product_category_classification\"\u001b[0m skill based on analysis \u001b[33m...\u001b[0m\n"
      ]
     },
     "metadata": {},
     "output_type": "display_data"
    },
    {
     "data": {
      "text/html": [
       "<pre style=\"white-space:pre;overflow-x:auto;line-height:normal;font-family:Menlo,'DejaVu Sans Mono',consolas,'Courier New',monospace\">Updated instructions for skill <span style=\"color: #008000; text-decoration-color: #008000\">\"product_category_classification\"</span>:\n",
       "\n",
       "</pre>\n"
      ],
      "text/plain": [
       "Updated instructions for skill \u001b[32m\"product_category_classification\"\u001b[0m:\n",
       "\n"
      ]
     },
     "metadata": {},
     "output_type": "display_data"
    },
    {
     "data": {
      "text/html": [
       "<pre style=\"white-space:pre;overflow-x:auto;line-height:normal;font-family:Menlo,'DejaVu Sans Mono',consolas,'Courier New',monospace\"><span style=\"color: #008000; text-decoration-color: #008000; font-weight: bold\">Categorize the input text into one of the following labels: [</span><span style=\"color: #008000; text-decoration-color: #008000\">'Footwear/Clothing'</span><span style=\"color: #008000; text-decoration-color: #008000; font-weight: bold\">, </span><span style=\"color: #008000; text-decoration-color: #008000\">'Electronics'</span><span style=\"color: #008000; text-decoration-color: #008000; font-weight: bold\">, </span><span style=\"color: #008000; text-decoration-color: #008000\">'Food/Beverages'</span><span style=\"color: #008000; text-decoration-color: #008000; font-weight: bold\">, </span>\n",
       "<span style=\"color: #008000; text-decoration-color: #008000\">'Furniture/Home Decor'</span><span style=\"color: #008000; text-decoration-color: #008000; font-weight: bold\">, </span><span style=\"color: #008000; text-decoration-color: #008000\">'Beauty/Personal Care'</span><span style=\"color: #008000; text-decoration-color: #008000; font-weight: bold\">]. Choose the label that best represents the main category of the </span>\n",
       "<span style=\"color: #008000; text-decoration-color: #008000; font-weight: bold\">input text.</span>\n",
       "\n",
       "<span style=\"color: #008000; text-decoration-color: #008000; font-weight: bold\">Examples:</span>\n",
       "\n",
       "<span style=\"color: #008000; text-decoration-color: #008000; font-weight: bold\">Input: Laptop stand for the kitchen.</span>\n",
       "<span style=\"color: #008000; text-decoration-color: #008000; font-weight: bold\">Output: Furniture/Home Decor</span>\n",
       "\n",
       "<span style=\"color: #008000; text-decoration-color: #008000; font-weight: bold\">Input: Running shoes for men.</span>\n",
       "<span style=\"color: #008000; text-decoration-color: #008000; font-weight: bold\">Output: Footwear/Clothing</span>\n",
       "\n",
       "<span style=\"color: #008000; text-decoration-color: #008000; font-weight: bold\">Input: Organic shampoo for dry hair.</span>\n",
       "<span style=\"color: #008000; text-decoration-color: #008000; font-weight: bold\">Output: Beauty/Personal Care</span>\n",
       "</pre>\n"
      ],
      "text/plain": [
       "\u001b[1;32mCategorize the input text into one of the following labels: \u001b[0m\u001b[1;32m[\u001b[0m\u001b[32m'Footwear/Clothing'\u001b[0m\u001b[1;32m, \u001b[0m\u001b[32m'Electronics'\u001b[0m\u001b[1;32m, \u001b[0m\u001b[32m'Food/Beverages'\u001b[0m\u001b[1;32m, \u001b[0m\n",
       "\u001b[32m'Furniture/Home Decor'\u001b[0m\u001b[1;32m, \u001b[0m\u001b[32m'Beauty/Personal Care'\u001b[0m\u001b[1;32m]\u001b[0m\u001b[1;32m. Choose the label that best represents the main category of the \u001b[0m\n",
       "\u001b[1;32minput text.\u001b[0m\n",
       "\n",
       "\u001b[1;32mExamples:\u001b[0m\n",
       "\n",
       "\u001b[1;32mInput: Laptop stand for the kitchen.\u001b[0m\n",
       "\u001b[1;32mOutput: Furniture/Home Decor\u001b[0m\n",
       "\n",
       "\u001b[1;32mInput: Running shoes for men.\u001b[0m\n",
       "\u001b[1;32mOutput: Footwear/Clothing\u001b[0m\n",
       "\n",
       "\u001b[1;32mInput: Organic shampoo for dry hair.\u001b[0m\n",
       "\u001b[1;32mOutput: Beauty/Personal Care\u001b[0m\n"
      ]
     },
     "metadata": {},
     "output_type": "display_data"
    },
    {
     "data": {
      "text/html": [
       "<pre style=\"white-space:pre;overflow-x:auto;line-height:normal;font-family:Menlo,'DejaVu Sans Mono',consolas,'Courier New',monospace\">Re-apply product_category_classification skill to dataset <span style=\"color: #808000; text-decoration-color: #808000\">...</span>\n",
       "</pre>\n"
      ],
      "text/plain": [
       "Re-apply product_category_classification skill to dataset \u001b[33m...\u001b[0m\n"
      ]
     },
     "metadata": {},
     "output_type": "display_data"
    },
    {
     "name": "stderr",
     "output_type": "stream",
     "text": [
      "100%|█████████████████| 5/5 [00:03<00:00,  1.48it/s]\n"
     ]
    },
    {
     "data": {
      "text/html": [
       "<pre style=\"white-space:pre;overflow-x:auto;line-height:normal;font-family:Menlo,'DejaVu Sans Mono',consolas,'Courier New',monospace\">\n",
       "\n",
       "=&gt; Iteration #<span style=\"color: #008080; text-decoration-color: #008080; font-weight: bold\">1</span>: Comparing to ground truth, analyzing and improving <span style=\"color: #808000; text-decoration-color: #808000\">...</span>\n",
       "</pre>\n"
      ],
      "text/plain": [
       "\n",
       "\n",
       "=> Iteration #\u001b[1;36m1\u001b[0m: Comparing to ground truth, analyzing and improving \u001b[33m...\u001b[0m\n"
      ]
     },
     "metadata": {},
     "output_type": "display_data"
    },
    {
     "data": {
      "text/html": [
       "<pre style=\"white-space:pre;overflow-x:auto;line-height:normal;font-family:Menlo,'DejaVu Sans Mono',consolas,'Courier New',monospace\">Comparing predictions to ground truth data <span style=\"color: #808000; text-decoration-color: #808000\">...</span>\n",
       "</pre>\n"
      ],
      "text/plain": [
       "Comparing predictions to ground truth data \u001b[33m...\u001b[0m\n"
      ]
     },
     "metadata": {},
     "output_type": "display_data"
    },
    {
     "data": {
      "text/html": [
       "<pre style=\"white-space:pre;overflow-x:auto;line-height:normal;font-family:Menlo,'DejaVu Sans Mono',consolas,'Courier New',monospace\">                                                                                                                   \n",
       " <span style=\"color: #800080; text-decoration-color: #800080; font-weight: bold\"> text                 </span> <span style=\"color: #800080; text-decoration-color: #800080; font-weight: bold\"> category             </span> <span style=\"color: #800080; text-decoration-color: #800080; font-weight: bold\"> product_category_cl… </span> <span style=\"color: #800080; text-decoration-color: #800080; font-weight: bold\"> score                </span> <span style=\"color: #800080; text-decoration-color: #800080; font-weight: bold\"> category__x__produ… </span> \n",
       " ───────────────────────────────────────────────────────────────────────────────────────────────────────────────── \n",
       "  Apple product with a   Electronics            Electronics            {'Footwear/Clothing…   True                 \n",
       "  sleek design.                                                        -13.669698,                                 \n",
       "                                                                       'Electronics':                              \n",
       "                                                                       -4.4849444000336985…                        \n",
       "                                                                       'Food/Beverages':                           \n",
       "                                                                       -14.937825,                                 \n",
       "                                                                       'Furniture/Home                             \n",
       "                                                                       Decor': -13.595754,                         \n",
       "                                                                       'Beauty/Personal                            \n",
       "                                                                       Care': -13.327497}                          \n",
       " <span style=\"color: #7f7f7f; text-decoration-color: #7f7f7f\"> Laptop stand for the </span> <span style=\"color: #7f7f7f; text-decoration-color: #7f7f7f\"> Furniture/Home Decor </span> <span style=\"color: #7f7f7f; text-decoration-color: #7f7f7f\"> Furniture/Home Decor </span> <span style=\"color: #7f7f7f; text-decoration-color: #7f7f7f\"> {'Footwear/Clothing… </span> <span style=\"color: #7f7f7f; text-decoration-color: #7f7f7f\"> True                </span> \n",
       " <span style=\"color: #7f7f7f; text-decoration-color: #7f7f7f\"> kitchen.             </span> <span style=\"color: #7f7f7f; text-decoration-color: #7f7f7f\">                      </span> <span style=\"color: #7f7f7f; text-decoration-color: #7f7f7f\">                      </span> <span style=\"color: #7f7f7f; text-decoration-color: #7f7f7f\"> -9.9471035,          </span> <span style=\"color: #7f7f7f; text-decoration-color: #7f7f7f\">                     </span> \n",
       " <span style=\"color: #7f7f7f; text-decoration-color: #7f7f7f\">                      </span> <span style=\"color: #7f7f7f; text-decoration-color: #7f7f7f\">                      </span> <span style=\"color: #7f7f7f; text-decoration-color: #7f7f7f\">                      </span> <span style=\"color: #7f7f7f; text-decoration-color: #7f7f7f\"> 'Electronics':       </span> <span style=\"color: #7f7f7f; text-decoration-color: #7f7f7f\">                     </span> \n",
       " <span style=\"color: #7f7f7f; text-decoration-color: #7f7f7f\">                      </span> <span style=\"color: #7f7f7f; text-decoration-color: #7f7f7f\">                      </span> <span style=\"color: #7f7f7f; text-decoration-color: #7f7f7f\">                      </span> <span style=\"color: #7f7f7f; text-decoration-color: #7f7f7f\"> -4.787397,           </span> <span style=\"color: #7f7f7f; text-decoration-color: #7f7f7f\">                     </span> \n",
       " <span style=\"color: #7f7f7f; text-decoration-color: #7f7f7f\">                      </span> <span style=\"color: #7f7f7f; text-decoration-color: #7f7f7f\">                      </span> <span style=\"color: #7f7f7f; text-decoration-color: #7f7f7f\">                      </span> <span style=\"color: #7f7f7f; text-decoration-color: #7f7f7f\"> 'Food/Beverages':    </span> <span style=\"color: #7f7f7f; text-decoration-color: #7f7f7f\">                     </span> \n",
       " <span style=\"color: #7f7f7f; text-decoration-color: #7f7f7f\">                      </span> <span style=\"color: #7f7f7f; text-decoration-color: #7f7f7f\">                      </span> <span style=\"color: #7f7f7f; text-decoration-color: #7f7f7f\">                      </span> <span style=\"color: #7f7f7f; text-decoration-color: #7f7f7f\"> -12.115164,          </span> <span style=\"color: #7f7f7f; text-decoration-color: #7f7f7f\">                     </span> \n",
       " <span style=\"color: #7f7f7f; text-decoration-color: #7f7f7f\">                      </span> <span style=\"color: #7f7f7f; text-decoration-color: #7f7f7f\">                      </span> <span style=\"color: #7f7f7f; text-decoration-color: #7f7f7f\">                      </span> <span style=\"color: #7f7f7f; text-decoration-color: #7f7f7f\"> 'Furniture/Home      </span> <span style=\"color: #7f7f7f; text-decoration-color: #7f7f7f\">                     </span> \n",
       " <span style=\"color: #7f7f7f; text-decoration-color: #7f7f7f\">                      </span> <span style=\"color: #7f7f7f; text-decoration-color: #7f7f7f\">                      </span> <span style=\"color: #7f7f7f; text-decoration-color: #7f7f7f\">                      </span> <span style=\"color: #7f7f7f; text-decoration-color: #7f7f7f\"> Decor':              </span> <span style=\"color: #7f7f7f; text-decoration-color: #7f7f7f\">                     </span> \n",
       " <span style=\"color: #7f7f7f; text-decoration-color: #7f7f7f\">                      </span> <span style=\"color: #7f7f7f; text-decoration-color: #7f7f7f\">                      </span> <span style=\"color: #7f7f7f; text-decoration-color: #7f7f7f\">                      </span> <span style=\"color: #7f7f7f; text-decoration-color: #7f7f7f\"> -0.0084281690000000… </span> <span style=\"color: #7f7f7f; text-decoration-color: #7f7f7f\">                     </span> \n",
       " <span style=\"color: #7f7f7f; text-decoration-color: #7f7f7f\">                      </span> <span style=\"color: #7f7f7f; text-decoration-color: #7f7f7f\">                      </span> <span style=\"color: #7f7f7f; text-decoration-color: #7f7f7f\">                      </span> <span style=\"color: #7f7f7f; text-decoration-color: #7f7f7f\"> 'Beauty/Personal     </span> <span style=\"color: #7f7f7f; text-decoration-color: #7f7f7f\">                     </span> \n",
       " <span style=\"color: #7f7f7f; text-decoration-color: #7f7f7f\">                      </span> <span style=\"color: #7f7f7f; text-decoration-color: #7f7f7f\">                      </span> <span style=\"color: #7f7f7f; text-decoration-color: #7f7f7f\">                      </span> <span style=\"color: #7f7f7f; text-decoration-color: #7f7f7f\"> Care': -12.145201}   </span> <span style=\"color: #7f7f7f; text-decoration-color: #7f7f7f\">                     </span> \n",
       "  Chocolate leather      Footwear/Clothing      Footwear/Clothing      {'Footwear/Clothing…   True                 \n",
       "  boots.                                                               -0.0003247375000000…                        \n",
       "                                                                       'Electronics':                              \n",
       "                                                                       -17.322811,                                 \n",
       "                                                                       'Food/Beverages':                           \n",
       "                                                                       -8.062444,                                  \n",
       "                                                                       'Furniture/Home                             \n",
       "                                                                       Decor': -12.040547,                         \n",
       "                                                                       'Beauty/Personal                            \n",
       "                                                                       Care': -12.584134}                          \n",
       " <span style=\"color: #7f7f7f; text-decoration-color: #7f7f7f\"> Wooden cream for     </span> <span style=\"color: #7f7f7f; text-decoration-color: #7f7f7f\"> Furniture/Home Decor </span> <span style=\"color: #7f7f7f; text-decoration-color: #7f7f7f\"> Furniture/Home Decor </span> <span style=\"color: #7f7f7f; text-decoration-color: #7f7f7f\"> {'Footwear/Clothing… </span> <span style=\"color: #7f7f7f; text-decoration-color: #7f7f7f\"> True                </span> \n",
       " <span style=\"color: #7f7f7f; text-decoration-color: #7f7f7f\"> surfaces.            </span> <span style=\"color: #7f7f7f; text-decoration-color: #7f7f7f\">                      </span> <span style=\"color: #7f7f7f; text-decoration-color: #7f7f7f\">                      </span> <span style=\"color: #7f7f7f; text-decoration-color: #7f7f7f\"> -15.480099,          </span> <span style=\"color: #7f7f7f; text-decoration-color: #7f7f7f\">                     </span> \n",
       " <span style=\"color: #7f7f7f; text-decoration-color: #7f7f7f\">                      </span> <span style=\"color: #7f7f7f; text-decoration-color: #7f7f7f\">                      </span> <span style=\"color: #7f7f7f; text-decoration-color: #7f7f7f\">                      </span> <span style=\"color: #7f7f7f; text-decoration-color: #7f7f7f\"> 'Electronics':       </span> <span style=\"color: #7f7f7f; text-decoration-color: #7f7f7f\">                     </span> \n",
       " <span style=\"color: #7f7f7f; text-decoration-color: #7f7f7f\">                      </span> <span style=\"color: #7f7f7f; text-decoration-color: #7f7f7f\">                      </span> <span style=\"color: #7f7f7f; text-decoration-color: #7f7f7f\">                      </span> <span style=\"color: #7f7f7f; text-decoration-color: #7f7f7f\"> -17.015057,          </span> <span style=\"color: #7f7f7f; text-decoration-color: #7f7f7f\">                     </span> \n",
       " <span style=\"color: #7f7f7f; text-decoration-color: #7f7f7f\">                      </span> <span style=\"color: #7f7f7f; text-decoration-color: #7f7f7f\">                      </span> <span style=\"color: #7f7f7f; text-decoration-color: #7f7f7f\">                      </span> <span style=\"color: #7f7f7f; text-decoration-color: #7f7f7f\"> 'Food/Beverages':    </span> <span style=\"color: #7f7f7f; text-decoration-color: #7f7f7f\">                     </span> \n",
       " <span style=\"color: #7f7f7f; text-decoration-color: #7f7f7f\">                      </span> <span style=\"color: #7f7f7f; text-decoration-color: #7f7f7f\">                      </span> <span style=\"color: #7f7f7f; text-decoration-color: #7f7f7f\">                      </span> <span style=\"color: #7f7f7f; text-decoration-color: #7f7f7f\"> -13.499149,          </span> <span style=\"color: #7f7f7f; text-decoration-color: #7f7f7f\">                     </span> \n",
       " <span style=\"color: #7f7f7f; text-decoration-color: #7f7f7f\">                      </span> <span style=\"color: #7f7f7f; text-decoration-color: #7f7f7f\">                      </span> <span style=\"color: #7f7f7f; text-decoration-color: #7f7f7f\">                      </span> <span style=\"color: #7f7f7f; text-decoration-color: #7f7f7f\"> 'Furniture/Home      </span> <span style=\"color: #7f7f7f; text-decoration-color: #7f7f7f\">                     </span> \n",
       " <span style=\"color: #7f7f7f; text-decoration-color: #7f7f7f\">                      </span> <span style=\"color: #7f7f7f; text-decoration-color: #7f7f7f\">                      </span> <span style=\"color: #7f7f7f; text-decoration-color: #7f7f7f\">                      </span> <span style=\"color: #7f7f7f; text-decoration-color: #7f7f7f\"> Decor':              </span> <span style=\"color: #7f7f7f; text-decoration-color: #7f7f7f\">                     </span> \n",
       " <span style=\"color: #7f7f7f; text-decoration-color: #7f7f7f\">                      </span> <span style=\"color: #7f7f7f; text-decoration-color: #7f7f7f\">                      </span> <span style=\"color: #7f7f7f; text-decoration-color: #7f7f7f\">                      </span> <span style=\"color: #7f7f7f; text-decoration-color: #7f7f7f\"> -0.0001718358800000… </span> <span style=\"color: #7f7f7f; text-decoration-color: #7f7f7f\">                     </span> \n",
       " <span style=\"color: #7f7f7f; text-decoration-color: #7f7f7f\">                      </span> <span style=\"color: #7f7f7f; text-decoration-color: #7f7f7f\">                      </span> <span style=\"color: #7f7f7f; text-decoration-color: #7f7f7f\">                      </span> <span style=\"color: #7f7f7f; text-decoration-color: #7f7f7f\"> 'Beauty/Personal     </span> <span style=\"color: #7f7f7f; text-decoration-color: #7f7f7f\">                     </span> \n",
       " <span style=\"color: #7f7f7f; text-decoration-color: #7f7f7f\">                      </span> <span style=\"color: #7f7f7f; text-decoration-color: #7f7f7f\">                      </span> <span style=\"color: #7f7f7f; text-decoration-color: #7f7f7f\">                      </span> <span style=\"color: #7f7f7f; text-decoration-color: #7f7f7f\"> Care': -8.679317}    </span> <span style=\"color: #7f7f7f; text-decoration-color: #7f7f7f\">                     </span> \n",
       "  Natural finish for     Beauty/Personal Care   Beauty/Personal Care   {'Footwear/Clothing…   True                 \n",
       "  your lips.                                                           -11.842119,                                 \n",
       "                                                                       'Electronics':                              \n",
       "                                                                       -14.539164,                                 \n",
       "                                                                       'Food/Beverages':                           \n",
       "                                                                       -13.285265,                                 \n",
       "                                                                       'Furniture/Home                             \n",
       "                                                                       Decor': -14.923815,                         \n",
       "                                                                       'Beauty/Personal                            \n",
       "                                                                       Care':                                      \n",
       "                                                                       -9.72990600003512e-…                        \n",
       "                                                                                                                   \n",
       "</pre>\n"
      ],
      "text/plain": [
       "                                                                                                                   \n",
       " \u001b[1;35m \u001b[0m\u001b[1;35mtext                \u001b[0m\u001b[1;35m \u001b[0m \u001b[1;35m \u001b[0m\u001b[1;35mcategory            \u001b[0m\u001b[1;35m \u001b[0m \u001b[1;35m \u001b[0m\u001b[1;35mproduct_category_cl…\u001b[0m\u001b[1;35m \u001b[0m \u001b[1;35m \u001b[0m\u001b[1;35mscore               \u001b[0m\u001b[1;35m \u001b[0m \u001b[1;35m \u001b[0m\u001b[1;35mcategory__x__produ…\u001b[0m\u001b[1;35m \u001b[0m \n",
       " ───────────────────────────────────────────────────────────────────────────────────────────────────────────────── \n",
       "  Apple product with a   Electronics            Electronics            {'Footwear/Clothing…   True                 \n",
       "  sleek design.                                                        -13.669698,                                 \n",
       "                                                                       'Electronics':                              \n",
       "                                                                       -4.4849444000336985…                        \n",
       "                                                                       'Food/Beverages':                           \n",
       "                                                                       -14.937825,                                 \n",
       "                                                                       'Furniture/Home                             \n",
       "                                                                       Decor': -13.595754,                         \n",
       "                                                                       'Beauty/Personal                            \n",
       "                                                                       Care': -13.327497}                          \n",
       " \u001b[2m \u001b[0m\u001b[2mLaptop stand for the\u001b[0m\u001b[2m \u001b[0m \u001b[2m \u001b[0m\u001b[2mFurniture/Home Decor\u001b[0m\u001b[2m \u001b[0m \u001b[2m \u001b[0m\u001b[2mFurniture/Home Decor\u001b[0m\u001b[2m \u001b[0m \u001b[2m \u001b[0m\u001b[2m{'Footwear/Clothing…\u001b[0m\u001b[2m \u001b[0m \u001b[2m \u001b[0m\u001b[2mTrue               \u001b[0m\u001b[2m \u001b[0m \n",
       " \u001b[2m \u001b[0m\u001b[2mkitchen.            \u001b[0m\u001b[2m \u001b[0m \u001b[2m                      \u001b[0m \u001b[2m                      \u001b[0m \u001b[2m \u001b[0m\u001b[2m-9.9471035,         \u001b[0m\u001b[2m \u001b[0m \u001b[2m                     \u001b[0m \n",
       " \u001b[2m                      \u001b[0m \u001b[2m                      \u001b[0m \u001b[2m                      \u001b[0m \u001b[2m \u001b[0m\u001b[2m'Electronics':      \u001b[0m\u001b[2m \u001b[0m \u001b[2m                     \u001b[0m \n",
       " \u001b[2m                      \u001b[0m \u001b[2m                      \u001b[0m \u001b[2m                      \u001b[0m \u001b[2m \u001b[0m\u001b[2m-4.787397,          \u001b[0m\u001b[2m \u001b[0m \u001b[2m                     \u001b[0m \n",
       " \u001b[2m                      \u001b[0m \u001b[2m                      \u001b[0m \u001b[2m                      \u001b[0m \u001b[2m \u001b[0m\u001b[2m'Food/Beverages':   \u001b[0m\u001b[2m \u001b[0m \u001b[2m                     \u001b[0m \n",
       " \u001b[2m                      \u001b[0m \u001b[2m                      \u001b[0m \u001b[2m                      \u001b[0m \u001b[2m \u001b[0m\u001b[2m-12.115164,         \u001b[0m\u001b[2m \u001b[0m \u001b[2m                     \u001b[0m \n",
       " \u001b[2m                      \u001b[0m \u001b[2m                      \u001b[0m \u001b[2m                      \u001b[0m \u001b[2m \u001b[0m\u001b[2m'Furniture/Home     \u001b[0m\u001b[2m \u001b[0m \u001b[2m                     \u001b[0m \n",
       " \u001b[2m                      \u001b[0m \u001b[2m                      \u001b[0m \u001b[2m                      \u001b[0m \u001b[2m \u001b[0m\u001b[2mDecor':             \u001b[0m\u001b[2m \u001b[0m \u001b[2m                     \u001b[0m \n",
       " \u001b[2m                      \u001b[0m \u001b[2m                      \u001b[0m \u001b[2m                      \u001b[0m \u001b[2m \u001b[0m\u001b[2m-0.0084281690000000…\u001b[0m\u001b[2m \u001b[0m \u001b[2m                     \u001b[0m \n",
       " \u001b[2m                      \u001b[0m \u001b[2m                      \u001b[0m \u001b[2m                      \u001b[0m \u001b[2m \u001b[0m\u001b[2m'Beauty/Personal    \u001b[0m\u001b[2m \u001b[0m \u001b[2m                     \u001b[0m \n",
       " \u001b[2m                      \u001b[0m \u001b[2m                      \u001b[0m \u001b[2m                      \u001b[0m \u001b[2m \u001b[0m\u001b[2mCare': -12.145201}  \u001b[0m\u001b[2m \u001b[0m \u001b[2m                     \u001b[0m \n",
       "  Chocolate leather      Footwear/Clothing      Footwear/Clothing      {'Footwear/Clothing…   True                 \n",
       "  boots.                                                               -0.0003247375000000…                        \n",
       "                                                                       'Electronics':                              \n",
       "                                                                       -17.322811,                                 \n",
       "                                                                       'Food/Beverages':                           \n",
       "                                                                       -8.062444,                                  \n",
       "                                                                       'Furniture/Home                             \n",
       "                                                                       Decor': -12.040547,                         \n",
       "                                                                       'Beauty/Personal                            \n",
       "                                                                       Care': -12.584134}                          \n",
       " \u001b[2m \u001b[0m\u001b[2mWooden cream for    \u001b[0m\u001b[2m \u001b[0m \u001b[2m \u001b[0m\u001b[2mFurniture/Home Decor\u001b[0m\u001b[2m \u001b[0m \u001b[2m \u001b[0m\u001b[2mFurniture/Home Decor\u001b[0m\u001b[2m \u001b[0m \u001b[2m \u001b[0m\u001b[2m{'Footwear/Clothing…\u001b[0m\u001b[2m \u001b[0m \u001b[2m \u001b[0m\u001b[2mTrue               \u001b[0m\u001b[2m \u001b[0m \n",
       " \u001b[2m \u001b[0m\u001b[2msurfaces.           \u001b[0m\u001b[2m \u001b[0m \u001b[2m                      \u001b[0m \u001b[2m                      \u001b[0m \u001b[2m \u001b[0m\u001b[2m-15.480099,         \u001b[0m\u001b[2m \u001b[0m \u001b[2m                     \u001b[0m \n",
       " \u001b[2m                      \u001b[0m \u001b[2m                      \u001b[0m \u001b[2m                      \u001b[0m \u001b[2m \u001b[0m\u001b[2m'Electronics':      \u001b[0m\u001b[2m \u001b[0m \u001b[2m                     \u001b[0m \n",
       " \u001b[2m                      \u001b[0m \u001b[2m                      \u001b[0m \u001b[2m                      \u001b[0m \u001b[2m \u001b[0m\u001b[2m-17.015057,         \u001b[0m\u001b[2m \u001b[0m \u001b[2m                     \u001b[0m \n",
       " \u001b[2m                      \u001b[0m \u001b[2m                      \u001b[0m \u001b[2m                      \u001b[0m \u001b[2m \u001b[0m\u001b[2m'Food/Beverages':   \u001b[0m\u001b[2m \u001b[0m \u001b[2m                     \u001b[0m \n",
       " \u001b[2m                      \u001b[0m \u001b[2m                      \u001b[0m \u001b[2m                      \u001b[0m \u001b[2m \u001b[0m\u001b[2m-13.499149,         \u001b[0m\u001b[2m \u001b[0m \u001b[2m                     \u001b[0m \n",
       " \u001b[2m                      \u001b[0m \u001b[2m                      \u001b[0m \u001b[2m                      \u001b[0m \u001b[2m \u001b[0m\u001b[2m'Furniture/Home     \u001b[0m\u001b[2m \u001b[0m \u001b[2m                     \u001b[0m \n",
       " \u001b[2m                      \u001b[0m \u001b[2m                      \u001b[0m \u001b[2m                      \u001b[0m \u001b[2m \u001b[0m\u001b[2mDecor':             \u001b[0m\u001b[2m \u001b[0m \u001b[2m                     \u001b[0m \n",
       " \u001b[2m                      \u001b[0m \u001b[2m                      \u001b[0m \u001b[2m                      \u001b[0m \u001b[2m \u001b[0m\u001b[2m-0.0001718358800000…\u001b[0m\u001b[2m \u001b[0m \u001b[2m                     \u001b[0m \n",
       " \u001b[2m                      \u001b[0m \u001b[2m                      \u001b[0m \u001b[2m                      \u001b[0m \u001b[2m \u001b[0m\u001b[2m'Beauty/Personal    \u001b[0m\u001b[2m \u001b[0m \u001b[2m                     \u001b[0m \n",
       " \u001b[2m                      \u001b[0m \u001b[2m                      \u001b[0m \u001b[2m                      \u001b[0m \u001b[2m \u001b[0m\u001b[2mCare': -8.679317}   \u001b[0m\u001b[2m \u001b[0m \u001b[2m                     \u001b[0m \n",
       "  Natural finish for     Beauty/Personal Care   Beauty/Personal Care   {'Footwear/Clothing…   True                 \n",
       "  your lips.                                                           -11.842119,                                 \n",
       "                                                                       'Electronics':                              \n",
       "                                                                       -14.539164,                                 \n",
       "                                                                       'Food/Beverages':                           \n",
       "                                                                       -13.285265,                                 \n",
       "                                                                       'Furniture/Home                             \n",
       "                                                                       Decor': -14.923815,                         \n",
       "                                                                       'Beauty/Personal                            \n",
       "                                                                       Care':                                      \n",
       "                                                                       -9.72990600003512e-…                        \n",
       "                                                                                                                   \n"
      ]
     },
     "metadata": {},
     "output_type": "display_data"
    },
    {
     "data": {
      "text/html": [
       "<pre style=\"white-space:pre;overflow-x:auto;line-height:normal;font-family:Menlo,'DejaVu Sans Mono',consolas,'Courier New',monospace\">Analyze evaluation experience <span style=\"color: #808000; text-decoration-color: #808000\">...</span>\n",
       "</pre>\n"
      ],
      "text/plain": [
       "Analyze evaluation experience \u001b[33m...\u001b[0m\n"
      ]
     },
     "metadata": {},
     "output_type": "display_data"
    },
    {
     "data": {
      "text/html": [
       "<pre style=\"white-space:pre;overflow-x:auto;line-height:normal;font-family:Menlo,'DejaVu Sans Mono',consolas,'Courier New',monospace\">Number of errors: <span style=\"color: #008080; text-decoration-color: #008080; font-weight: bold\">0</span>\n",
       "</pre>\n"
      ],
      "text/plain": [
       "Number of errors: \u001b[1;36m0\u001b[0m\n"
      ]
     },
     "metadata": {},
     "output_type": "display_data"
    },
    {
     "data": {
      "text/html": [
       "<pre style=\"white-space:pre;overflow-x:auto;line-height:normal;font-family:Menlo,'DejaVu Sans Mono',consolas,'Courier New',monospace\"><span style=\"color: #800000; text-decoration-color: #800000; font-weight: bold\">Accuracy = </span><span style=\"color: #008080; text-decoration-color: #008080; font-weight: bold\">100.00</span><span style=\"color: #800000; text-decoration-color: #800000; font-weight: bold\">%</span>\n",
       "</pre>\n"
      ],
      "text/plain": [
       "\u001b[1;31mAccuracy = \u001b[0m\u001b[1;36m100.00\u001b[0m\u001b[1;31m%\u001b[0m\n"
      ]
     },
     "metadata": {},
     "output_type": "display_data"
    },
    {
     "data": {
      "text/html": [
       "<pre style=\"white-space:pre;overflow-x:auto;line-height:normal;font-family:Menlo,'DejaVu Sans Mono',consolas,'Courier New',monospace\">Accuracy threshold reached <span style=\"font-weight: bold\">(</span><span style=\"color: #008080; text-decoration-color: #008080; font-weight: bold\">1.0</span> &gt;= <span style=\"color: #008080; text-decoration-color: #008080; font-weight: bold\">0.9</span><span style=\"font-weight: bold\">)</span>\n",
       "</pre>\n"
      ],
      "text/plain": [
       "Accuracy threshold reached \u001b[1m(\u001b[0m\u001b[1;36m1.0\u001b[0m >= \u001b[1;36m0.9\u001b[0m\u001b[1m)\u001b[0m\n"
      ]
     },
     "metadata": {},
     "output_type": "display_data"
    },
    {
     "data": {
      "text/html": [
       "<pre style=\"white-space:pre;overflow-x:auto;line-height:normal;font-family:Menlo,'DejaVu Sans Mono',consolas,'Courier New',monospace\">Train is done!\n",
       "</pre>\n"
      ],
      "text/plain": [
       "Train is done!\n"
      ]
     },
     "metadata": {},
     "output_type": "display_data"
    },
    {
     "data": {
      "text/plain": [
       "ShortTermMemory(dataset=DataFrameDataset(df=                                 text              category\n",
       "0  Apple product with a sleek design.           Electronics\n",
       "1       Laptop stand for the kitchen.  Furniture/Home Decor\n",
       "2            Chocolate leather boots.     Footwear/Clothing\n",
       "3          Wooden cream for surfaces.  Furniture/Home Decor\n",
       "4       Natural finish for your lips.  Beauty/Personal Care), predictions=                                 text              category  \\\n",
       "0  Apple product with a sleek design.           Electronics   \n",
       "1       Laptop stand for the kitchen.  Furniture/Home Decor   \n",
       "2            Chocolate leather boots.     Footwear/Clothing   \n",
       "3          Wooden cream for surfaces.  Furniture/Home Decor   \n",
       "4       Natural finish for your lips.  Beauty/Personal Care   \n",
       "\n",
       "  product_category_classification  \\\n",
       "0                     Electronics   \n",
       "1            Furniture/Home Decor   \n",
       "2               Footwear/Clothing   \n",
       "3            Furniture/Home Decor   \n",
       "4            Beauty/Personal Care   \n",
       "\n",
       "                                               score  \n",
       "0  {'Footwear/Clothing': -13.669698, 'Electronics...  \n",
       "1  {'Footwear/Clothing': -9.9471035, 'Electronics...  \n",
       "2  {'Footwear/Clothing': -0.0003247375000000436, ...  \n",
       "3  {'Footwear/Clothing': -15.480099, 'Electronics...  \n",
       "4  {'Footwear/Clothing': -11.842119, 'Electronics...  , evaluations=                                 text              category  \\\n",
       "0  Apple product with a sleek design.           Electronics   \n",
       "1       Laptop stand for the kitchen.  Furniture/Home Decor   \n",
       "2            Chocolate leather boots.     Footwear/Clothing   \n",
       "3          Wooden cream for surfaces.  Furniture/Home Decor   \n",
       "4       Natural finish for your lips.  Beauty/Personal Care   \n",
       "\n",
       "  product_category_classification  \\\n",
       "0                     Electronics   \n",
       "1            Furniture/Home Decor   \n",
       "2               Footwear/Clothing   \n",
       "3            Furniture/Home Decor   \n",
       "4            Beauty/Personal Care   \n",
       "\n",
       "                                               score  \\\n",
       "0  {'Footwear/Clothing': -13.669698, 'Electronics...   \n",
       "1  {'Footwear/Clothing': -9.9471035, 'Electronics...   \n",
       "2  {'Footwear/Clothing': -0.0003247375000000436, ...   \n",
       "3  {'Footwear/Clothing': -15.480099, 'Electronics...   \n",
       "4  {'Footwear/Clothing': -11.842119, 'Electronics...   \n",
       "\n",
       "   category__x__product_category_classification  \n",
       "0                                          True  \n",
       "1                                          True  \n",
       "2                                          True  \n",
       "3                                          True  \n",
       "4                                          True  , ground_truth_column_name='category', match_column_name='category__x__product_category_classification', errors=Empty DataFrame\n",
       "Columns: [text, category, product_category_classification, score, category__x__product_category_classification]\n",
       "Index: [], accuracy=1.0, initial_instructions='Label the input text with the following labels: {{labels}}', updated_instructions=\"Categorize the input text into one of the following labels: ['Footwear/Clothing', 'Electronics', 'Food/Beverages', 'Furniture/Home Decor', 'Beauty/Personal Care']. Choose the label that best represents the main category of the input text.\\n\\nExamples:\\n\\nInput: Laptop stand for the kitchen.\\nOutput: Furniture/Home Decor\\n\\nInput: Running shoes for men.\\nOutput: Footwear/Clothing\\n\\nInput: Organic shampoo for dry hair.\\nOutput: Beauty/Personal Care\")"
      ]
     },
     "execution_count": 15,
     "metadata": {},
     "output_type": "execute_result"
    }
   ],
   "source": [
    "from adala.agents import Agent\n",
    "from adala.environments import BasicEnvironment\n",
    "from adala.skills.labeling.classification import ClassificationSkill\n",
    "\n",
    "agent = Agent(\n",
    "    skills=ClassificationSkill(\n",
    "        name='product_category_classification',\n",
    "        input_data_field='text',\n",
    "        labels=[\n",
    "            \"Footwear/Clothing\",\n",
    "            \"Electronics\",\n",
    "            \"Food/Beverages\",\n",
    "            \"Furniture/Home Decor\",\n",
    "            \"Beauty/Personal Care\"\n",
    "        ],\n",
    "    ),\n",
    "    environment=BasicEnvironment(\n",
    "        ground_truth_dataset=df,\n",
    "        ground_truth_column='category'\n",
    "    )\n",
    ")\n",
    "\n",
    "agent.learn()"
   ]
  },
  {
   "cell_type": "code",
   "execution_count": 17,
   "id": "4a876f3d",
   "metadata": {},
   "outputs": [
    {
     "data": {
      "text/html": [
       "<pre style=\"white-space:pre;overflow-x:auto;line-height:normal;font-family:Menlo,'DejaVu Sans Mono',consolas,'Courier New',monospace\"><span style=\"color: #000080; text-decoration-color: #000080; font-weight: bold\">Total Agent Skills: </span><span style=\"color: #000080; text-decoration-color: #000080; font-weight: bold\">1</span>\n",
       "\n",
       "<span style=\"color: #008000; text-decoration-color: #008000; font-weight: bold; text-decoration: underline\">product_category_classification</span>\n",
       "<span style=\"color: #008000; text-decoration-color: #008000\">Categorize the input text into one of the following labels: </span><span style=\"color: #008000; text-decoration-color: #008000; font-weight: bold\">[</span><span style=\"color: #008000; text-decoration-color: #008000\">'Footwear/Clothing'</span><span style=\"color: #008000; text-decoration-color: #008000\">, </span><span style=\"color: #008000; text-decoration-color: #008000\">'Electronics'</span><span style=\"color: #008000; text-decoration-color: #008000\">, </span><span style=\"color: #008000; text-decoration-color: #008000\">'Food/Beverages'</span><span style=\"color: #008000; text-decoration-color: #008000\">, </span>\n",
       "<span style=\"color: #008000; text-decoration-color: #008000\">'Furniture/Home Decor'</span><span style=\"color: #008000; text-decoration-color: #008000\">, </span><span style=\"color: #008000; text-decoration-color: #008000\">'Beauty/Personal Care'</span><span style=\"color: #008000; text-decoration-color: #008000; font-weight: bold\">]</span><span style=\"color: #008000; text-decoration-color: #008000\">. Choose the label that best represents the main category of the </span>\n",
       "<span style=\"color: #008000; text-decoration-color: #008000\">input text.</span>\n",
       "\n",
       "<span style=\"color: #008000; text-decoration-color: #008000\">Examples:</span>\n",
       "\n",
       "<span style=\"color: #008000; text-decoration-color: #008000\">Input: Laptop stand for the kitchen.</span>\n",
       "<span style=\"color: #008000; text-decoration-color: #008000\">Output: Furniture/Home Decor</span>\n",
       "\n",
       "<span style=\"color: #008000; text-decoration-color: #008000\">Input: Running shoes for men.</span>\n",
       "<span style=\"color: #008000; text-decoration-color: #008000\">Output: Footwear/Clothing</span>\n",
       "\n",
       "<span style=\"color: #008000; text-decoration-color: #008000\">Input: Organic shampoo for dry hair.</span>\n",
       "<span style=\"color: #008000; text-decoration-color: #008000\">Output: Beauty/Personal Care</span>\n",
       "\n",
       "</pre>\n"
      ],
      "text/plain": [
       "\u001b[1;34mTotal Agent Skills: \u001b[0m\u001b[1;34m1\u001b[0m\n",
       "\n",
       "\u001b[1;4;32mproduct_category_classification\u001b[0m\n",
       "\u001b[32mCategorize the input text into one of the following labels: \u001b[0m\u001b[1;32m[\u001b[0m\u001b[32m'Footwear/Clothing'\u001b[0m\u001b[32m, \u001b[0m\u001b[32m'Electronics'\u001b[0m\u001b[32m, \u001b[0m\u001b[32m'Food/Beverages'\u001b[0m\u001b[32m, \u001b[0m\n",
       "\u001b[32m'Furniture/Home Decor'\u001b[0m\u001b[32m, \u001b[0m\u001b[32m'Beauty/Personal Care'\u001b[0m\u001b[1;32m]\u001b[0m\u001b[32m. Choose the label that best represents the main category of the \u001b[0m\n",
       "\u001b[32minput text.\u001b[0m\n",
       "\n",
       "\u001b[32mExamples:\u001b[0m\n",
       "\n",
       "\u001b[32mInput: Laptop stand for the kitchen.\u001b[0m\n",
       "\u001b[32mOutput: Furniture/Home Decor\u001b[0m\n",
       "\n",
       "\u001b[32mInput: Running shoes for men.\u001b[0m\n",
       "\u001b[32mOutput: Footwear/Clothing\u001b[0m\n",
       "\n",
       "\u001b[32mInput: Organic shampoo for dry hair.\u001b[0m\n",
       "\u001b[32mOutput: Beauty/Personal Care\u001b[0m\n",
       "\n"
      ]
     },
     "metadata": {},
     "output_type": "display_data"
    }
   ],
   "source": [
    "from rich import print\n",
    "\n",
    "print(agent.skills)"
   ]
  },
  {
   "cell_type": "code",
   "execution_count": 18,
   "id": "ee97ee22",
   "metadata": {},
   "outputs": [
    {
     "name": "stderr",
     "output_type": "stream",
     "text": [
      "100%|█████████████████| 5/5 [00:02<00:00,  2.37it/s]\n"
     ]
    }
   ],
   "source": [
    "test_df = pd.DataFrame([\n",
    "    \"Stainless steel apple peeler.\",  # Potential categories: Electronics or Food/Beverages\n",
    "    \"Silk finish touch screen.\",      # Potential categories: Electronics or Beauty/Personal Care\n",
    "    \"Chocolate coated boots.\",        # Potential categories: Footwear/Clothing or Food/Beverages\n",
    "    \"Natural wood fragrance.\",        # Potential categories: Beauty/Personal Care or Furniture/Home Decor\n",
    "    \"Leather grain snack bar.\"        # Potential categories: Footwear/Clothing or Food/Beverages\n",
    "], columns=['text'])\n",
    "\n",
    "run = agent.apply_skills(test_df)"
   ]
  },
  {
   "cell_type": "code",
   "execution_count": 20,
   "id": "03cce2a7",
   "metadata": {},
   "outputs": [
    {
     "data": {
      "text/html": [
       "<div>\n",
       "<style scoped>\n",
       "    .dataframe tbody tr th:only-of-type {\n",
       "        vertical-align: middle;\n",
       "    }\n",
       "\n",
       "    .dataframe tbody tr th {\n",
       "        vertical-align: top;\n",
       "    }\n",
       "\n",
       "    .dataframe thead th {\n",
       "        text-align: right;\n",
       "    }\n",
       "</style>\n",
       "<table border=\"1\" class=\"dataframe\">\n",
       "  <thead>\n",
       "    <tr style=\"text-align: right;\">\n",
       "      <th></th>\n",
       "      <th>text</th>\n",
       "      <th>product_category_classification</th>\n",
       "      <th>score</th>\n",
       "    </tr>\n",
       "  </thead>\n",
       "  <tbody>\n",
       "    <tr>\n",
       "      <th>0</th>\n",
       "      <td>Stainless steel apple peeler.</td>\n",
       "      <td>Food/Beverages</td>\n",
       "      <td>{'Footwear/Clothing': -5.903179, 'Electronics'...</td>\n",
       "    </tr>\n",
       "    <tr>\n",
       "      <th>1</th>\n",
       "      <td>Silk finish touch screen.</td>\n",
       "      <td>Electronics</td>\n",
       "      <td>{'Footwear/Clothing': -11.517515, 'Electronics...</td>\n",
       "    </tr>\n",
       "    <tr>\n",
       "      <th>2</th>\n",
       "      <td>Chocolate coated boots.</td>\n",
       "      <td>Footwear/Clothing</td>\n",
       "      <td>{'Footwear/Clothing': -0.074807025, 'Electroni...</td>\n",
       "    </tr>\n",
       "    <tr>\n",
       "      <th>3</th>\n",
       "      <td>Natural wood fragrance.</td>\n",
       "      <td>Furniture/Home Decor</td>\n",
       "      <td>{'Footwear/Clothing': -15.117043, 'Electronics...</td>\n",
       "    </tr>\n",
       "    <tr>\n",
       "      <th>4</th>\n",
       "      <td>Leather grain snack bar.</td>\n",
       "      <td>Food/Beverages</td>\n",
       "      <td>{'Footwear/Clothing': -9.763915, 'Electronics'...</td>\n",
       "    </tr>\n",
       "  </tbody>\n",
       "</table>\n",
       "</div>"
      ],
      "text/plain": [
       "                            text product_category_classification  \\\n",
       "0  Stainless steel apple peeler.                  Food/Beverages   \n",
       "1      Silk finish touch screen.                     Electronics   \n",
       "2        Chocolate coated boots.               Footwear/Clothing   \n",
       "3        Natural wood fragrance.            Furniture/Home Decor   \n",
       "4       Leather grain snack bar.                  Food/Beverages   \n",
       "\n",
       "                                               score  \n",
       "0  {'Footwear/Clothing': -5.903179, 'Electronics'...  \n",
       "1  {'Footwear/Clothing': -11.517515, 'Electronics...  \n",
       "2  {'Footwear/Clothing': -0.074807025, 'Electroni...  \n",
       "3  {'Footwear/Clothing': -15.117043, 'Electronics...  \n",
       "4  {'Footwear/Clothing': -9.763915, 'Electronics'...  "
      ]
     },
     "execution_count": 20,
     "metadata": {},
     "output_type": "execute_result"
    }
   ],
   "source": [
    "run.predictions"
   ]
  }
 ],
 "metadata": {
  "kernelspec": {
   "display_name": "Python 3 (ipykernel)",
   "language": "python",
   "name": "python3"
  },
  "language_info": {
   "codemirror_mode": {
    "name": "ipython",
    "version": 3
   },
   "file_extension": ".py",
   "mimetype": "text/x-python",
   "name": "python",
   "nbconvert_exporter": "python",
   "pygments_lexer": "ipython3",
   "version": "3.11.4"
  }
 },
 "nbformat": 4,
 "nbformat_minor": 5
}
