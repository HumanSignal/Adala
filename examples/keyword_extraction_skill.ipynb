{
 "cells": [
  {
   "cell_type": "markdown",
   "id": "c8464364-f179-4901-89aa-ae2839a890f4",
   "metadata": {
    "pycharm": {
     "name": "#%% md\n"
    }
   },
   "source": [
    "# Keyword Extraction skill"
   ]
  },
  {
   "cell_type": "code",
   "execution_count": 3,
   "id": "ad8cb70d",
   "metadata": {
    "collapsed": false,
    "jupyter": {
     "outputs_hidden": false
    },
    "pycharm": {
     "name": "#%%\n"
    }
   },
   "outputs": [],
   "source": [
    "import openai\n",
    "import pandas as pd\n",
    "openai.api_key = '<your-api-key>'\n",
    "\n",
    "df = pd.DataFrame([\n",
    "    {\n",
    "      \"text\": \"Boening 747 is reliable airplane. A320 is too.\"\n",
    "    },\n",
    "\n",
    "    {\n",
    "      \"text\": \"BMW, Audi, Mercedes are really cool Germany cars. However, chinese cars like Kia are good too.\"\n",
    "    },\n",
    "])"
   ]
  },
  {
   "cell_type": "code",
   "execution_count": 4,
   "id": "8a72e42d",
   "metadata": {
    "collapsed": false,
    "jupyter": {
     "outputs_hidden": false
    },
    "pycharm": {
     "name": "#%%\n"
    }
   },
   "outputs": [
    {
     "data": {
      "text/html": [
       "<div id=\"guidance-stop-button-bdf2cc04-e599-4186-8482-10b35170f234\" style=\"cursor: pointer; margin: 0px; display: none; float: right; padding: 3px; border-radius: 4px 4px 4px 4px; border: 0px solid rgba(127, 127, 127, 1); padding-left: 10px; padding-right: 10px; font-size: 13px; background-color: rgba(127, 127, 127, 0.25);\">Stop program</div><div id=\"guidance-content-bdf2cc04-e599-4186-8482-10b35170f234\"><pre style='margin: 0px; padding: 0px; padding-left: 8px; margin-left: -8px; border-radius: 0px; border-left: 1px solid rgba(127, 127, 127, 0.2); white-space: pre-wrap; font-family: ColfaxAI, Arial; font-size: 15px; line-height: 23px;'> \n",
       "## LABELS\n",
       "0. &quot;Car&quot; - use this label for any car model mentions, countries can&#x27;t be labeled with this label.\n",
       "1. &quot;Airplane&quot; - use this label for any aircraft model mentions, countries can&#x27;t be labeled with this label.    \n",
       "    \n",
       "## Instructions:\n",
       "\n",
       "1. Read the Provided Text Thoroughly: Carefully examine the entire content of the text you are given.\n",
       "2. Identify Keywords: Detect and note down the keywords within the text. Keywords are defined as words or phrases that carry significant meaning or relevance in relation to the context of the text and are directly associated with the LABELS specified.\n",
       "3. Preserve Original Order and Spelling: List the identified keywords in the exact sequence they occur within the text, maintaining their original spelling and capitalization.\n",
       "4. Assign Labels to Keywords: For each identified keyword, you must allocate an appropriate label from the LABELS listed. Each label should closely match the context or category the keyword pertains to.\n",
       "5. Explanation: For each identified keyword, you must write a short explanation why you used this label.\n",
       "6. Handle Multiple Occurrences: If a keyword is found multiple times in the text, and its context or form varies, you should list and label each instance separately, treating them as distinct entries.\n",
       "7. Format Your Response: Present the keywords and their respective labels in the format &#x27;keyword-or-phrase // label // explanation&#x27;. Your response should solely consist of a list of these entries, each on a new line, arranged in the order they appear within the text.\n",
       "8. Exclusive Output Requirement: Your output should exclusively contain the list of identified keywords and their corresponding labels, formatted as instructed. Exclude any additional text or commentary from your response.\n",
       "9. Label Format: LABELS can include per-label instructions on how to use this label in format: &lt;number_of_label&gt;. &quot;&lt;label_name&gt;&quot; - &lt;instructions&gt;. \n",
       "10. If no label is assigned to a keyword, you don&#x27;t need to list this keyword. \n",
       "11. If two or more keywords go together, you can stack them to keyword phrase and label together.  \n",
       "\n",
       "Input:\n",
       "&quot;&quot;&quot;\n",
       "<span style='background-color: rgba(0, 138.56128016, 250.76166089, 0.25); display: inline;' title='{{text_}}'>BMW, Audi, Mercedes are really cool Germany cars. However, chinese cars like Kia are good too.</span>\n",
       "&quot;&quot;&quot;\n",
       "Output:\n",
       "<span style='background-color: rgba(0, 165, 0, 0.25); opacity: 1.0; display: inline;' title='{{gen &#x27;keywords&#x27;}}'>BMW // Car // BMW is a car model mention.\n",
       "Audi // Car // Audi is a car model mention.\n",
       "Mercedes // Car // Mercedes is a car model mention.\n",
       "Germany // None // Germany is a country and can&#x27;t be labeled with &quot;Car&quot; or &quot;Airplane&quot;.\n",
       "Kia // Car // Kia is a car model mention.</span></pre></div>\n",
       "<script type=\"text/javascript\">(()=>{var t={296:(t,e,n)=>{var i=NaN,o=\"[object Symbol]\",r=/^\\s+|\\s+$/g,a=/^[-+]0x[0-9a-f]+$/i,s=/^0b[01]+$/i,c=/^0o[0-7]+$/i,d=parseInt,u=\"object\"==typeof n.g&&n.g&&n.g.Object===Object&&n.g,l=\"object\"==typeof self&&self&&self.Object===Object&&self,f=u||l||Function(\"return this\")(),h=Object.prototype.toString,p=Math.max,m=Math.min,g=function(){return f.Date.now()};function b(t){var e=typeof t;return!!t&&(\"object\"==e||\"function\"==e)}function y(t){if(\"number\"==typeof t)return t;if(function(t){return\"symbol\"==typeof t||function(t){return!!t&&\"object\"==typeof t}(t)&&h.call(t)==o}(t))return i;if(b(t)){var e=\"function\"==typeof t.valueOf?t.valueOf():t;t=b(e)?e+\"\":e}if(\"string\"!=typeof t)return 0===t?t:+t;t=t.replace(r,\"\");var n=s.test(t);return n||c.test(t)?d(t.slice(2),n?2:8):a.test(t)?i:+t}t.exports=function(t,e,n){var i,o,r,a,s,c,d=0,u=!1,l=!1,f=!0;if(\"function\"!=typeof t)throw new TypeError(\"Expected a function\");function h(e){var n=i,r=o;return i=o=void 0,d=e,a=t.apply(r,n)}function v(t){var n=t-c;return void 0===c||n>=e||n<0||l&&t-d>=r}function _(){var t=g();if(v(t))return w(t);s=setTimeout(_,function(t){var n=e-(t-c);return l?m(n,r-(t-d)):n}(t))}function w(t){return s=void 0,f&&i?h(t):(i=o=void 0,a)}function j(){var t=g(),n=v(t);if(i=arguments,o=this,c=t,n){if(void 0===s)return function(t){return d=t,s=setTimeout(_,e),u?h(t):a}(c);if(l)return s=setTimeout(_,e),h(c)}return void 0===s&&(s=setTimeout(_,e)),a}return e=y(e)||0,b(n)&&(u=!!n.leading,r=(l=\"maxWait\"in n)?p(y(n.maxWait)||0,e):r,f=\"trailing\"in n?!!n.trailing:f),j.cancel=function(){void 0!==s&&clearTimeout(s),d=0,i=c=o=s=void 0},j.flush=function(){return void 0===s?a:w(g())},j}},777:t=>{var e,n,i=Math.max,o=(e=function(t,e){return function(t,e,n){if(\"function\"!=typeof t)throw new TypeError(\"Expected a function\");return setTimeout((function(){t.apply(void 0,n)}),1)}(t,0,e)},n=i(void 0===n?e.length-1:n,0),function(){for(var t=arguments,o=-1,r=i(t.length-n,0),a=Array(r);++o<r;)a[o]=t[n+o];o=-1;for(var s=Array(n+1);++o<n;)s[o]=t[o];return s[n]=a,function(t,e,n){switch(n.length){case 0:return t.call(e);case 1:return t.call(e,n[0]);case 2:return t.call(e,n[0],n[1]);case 3:return t.call(e,n[0],n[1],n[2])}return t.apply(e,n)}(e,this,s)});t.exports=o}},e={};function n(i){var o=e[i];if(void 0!==o)return o.exports;var r=e[i]={exports:{}};return t[i](r,r.exports,n),r.exports}n.n=t=>{var e=t&&t.__esModule?()=>t.default:()=>t;return n.d(e,{a:e}),e},n.d=(t,e)=>{for(var i in e)n.o(e,i)&&!n.o(t,i)&&Object.defineProperty(t,i,{enumerable:!0,get:e[i]})},n.g=function(){if(\"object\"==typeof globalThis)return globalThis;try{return this||new Function(\"return this\")()}catch(t){if(\"object\"==typeof window)return window}}(),n.o=(t,e)=>Object.prototype.hasOwnProperty.call(t,e),(()=>{\"use strict\";const t=t=>{const e=new Set;do{for(const n of Reflect.ownKeys(t))e.add([t,n])}while((t=Reflect.getPrototypeOf(t))&&t!==Object.prototype);return e};function e(e,{include:n,exclude:i}={}){const o=t=>{const e=e=>\"string\"==typeof e?t===e:e.test(t);return n?n.some(e):!i||!i.some(e)};for(const[n,i]of t(e.constructor.prototype)){if(\"constructor\"===i||!o(i))continue;const t=Reflect.getOwnPropertyDescriptor(n,i);t&&\"function\"==typeof t.value&&(e[i]=e[i].bind(e))}return e}var i=n(777),o=n.n(i),r=n(296),a=n.n(r);class s{constructor(t,n){e(this),this.interfaceId=t,this.callbackMap={},this.data={},this.pendingData={},this.jcomm=new c(\"guidance_interface_target_\"+this.interfaceId,this.updateData,\"open\"),this.debouncedSendPendingData500=a()(this.sendPendingData,500),this.debouncedSendPendingData1000=a()(this.sendPendingData,1e3),n&&o()(n)}send(t,e){this.addPendingData(t,e),this.sendPendingData()}sendEvent(t){for(const e of Object.keys(t))this.addPendingData(e,t[e]);this.sendPendingData()}debouncedSendEvent500(t){for(const e of Object.keys(t))this.addPendingData(e,t[e]);this.debouncedSendPendingData500()}debouncedSend500(t,e){this.addPendingData(t,e),this.debouncedSendPendingData500()}debouncedSend1000(t,e){this.addPendingData(t,e),this.debouncedSendPendingData1000()}addPendingData(t,e){Array.isArray(t)||(t=[t]);for(const n in t)this.pendingData[t[n]]=e}updateData(t){t=JSON.parse(t.data);for(const e in t)this.data[e]=t[e];for(const e in t)e in this.callbackMap&&this.callbackMap[e](this.data[e])}subscribe(t,e){this.callbackMap[t]=e,o()((e=>this.callbackMap[t](this.data[t])))}sendPendingData(){this.jcomm.send_data(this.pendingData),this.pendingData={}}}class c{constructor(t,e,n=\"open\"){this._fire_callback=this._fire_callback.bind(this),this._register=this._register.bind(this),this.jcomm=void 0,this.callback=e,void 0!==window.Jupyter?\"register\"===n?Jupyter.notebook.kernel.comm_manager.register_target(t,this._register):(this.jcomm=Jupyter.notebook.kernel.comm_manager.new_comm(t),this.jcomm.on_msg(this._fire_callback)):void 0!==window._mgr&&(\"register\"===n?window._mgr.widgetManager.proxyKernel.registerCommTarget(t,this._register):(this.jcomm=window._mgr.widgetManager.proxyKernel.createComm(t),this.jcomm.open({},\"\"),this.jcomm.onMsg=this._fire_callback))}send_data(t){void 0!==this.jcomm?this.jcomm.send(t):console.error(\"Jupyter comm module not yet loaded! So we can't send the message.\")}_register(t,e){this.jcomm=t,this.jcomm.on_msg(this._fire_callback)}_fire_callback(t){this.callback(t.content.data)}}class d{constructor(t,n){e(this),this.id=t,this.comm=new s(t),this.comm.subscribe(\"append\",this.appendData),this.comm.subscribe(\"replace\",this.replaceData),this.comm.subscribe(\"event\",this.eventOccurred),this.element=document.getElementById(\"guidance-content-\"+t),this.stop_button=document.getElementById(\"guidance-stop-button-\"+t),this.stop_button.onclick=()=>this.comm.send(\"event\",\"stop\")}appendData(t){t&&(this.stop_button.style.display=\"inline-block\",this.element.innerHTML+=t)}replaceData(t){t&&(this.stop_button.style.display=\"inline-block\",this.element.innerHTML=t)}eventOccurred(t){\"complete\"===t&&(this.stop_button.style.display=\"none\")}}window._guidanceDisplay=function(t,e){return new d(t,e)}})()})();; window._guidanceDisplay(\"bdf2cc04-e599-4186-8482-10b35170f234\");</script>"
      ]
     },
     "metadata": {},
     "output_type": "display_data"
    },
    {
     "name": "stderr",
     "output_type": "stream",
     "text": [
      "100%|█████████████████████████████████████████████████████████████████████| 2/2 [00:00<00:00,  6.07it/s]\n"
     ]
    },
    {
     "data": {
      "text/html": [
       "<pre style=\"white-space:pre;overflow-x:auto;line-height:normal;font-family:Menlo,'DejaVu Sans Mono',consolas,'Courier New',monospace\"><span style=\"color: #800000; text-decoration-color: #800000; font-weight: bold\">Label </span><span style=\"color: #008000; text-decoration-color: #008000\">'None'</span><span style=\"color: #800000; text-decoration-color: #800000; font-weight: bold\"> not in provided labels: [</span><span style=\"color: #008000; text-decoration-color: #008000\">'Car'</span><span style=\"color: #800000; text-decoration-color: #800000; font-weight: bold\">, </span><span style=\"color: #008000; text-decoration-color: #008000\">'Airplane'</span><span style=\"color: #800000; text-decoration-color: #800000; font-weight: bold\">]</span>\n",
       "</pre>\n"
      ],
      "text/plain": [
       "\u001b[1;31mLabel \u001b[0m\u001b[32m'None'\u001b[0m\u001b[1;31m not in provided labels: \u001b[0m\u001b[1;31m[\u001b[0m\u001b[32m'Car'\u001b[0m\u001b[1;31m, \u001b[0m\u001b[32m'Airplane'\u001b[0m\u001b[1;31m]\u001b[0m\n"
      ]
     },
     "metadata": {},
     "output_type": "display_data"
    },
    {
     "data": {
      "text/html": [
       "<pre style=\"white-space:pre;overflow-x:auto;line-height:normal;font-family:Menlo,'DejaVu Sans Mono',consolas,'Courier New',monospace\">                                                                                                                   \n",
       " <span style=\"color: #800080; text-decoration-color: #800080; font-weight: bold\"> keywords                                                                                                        </span> \n",
       " ───────────────────────────────────────────────────────────────────────────────────────────────────────────────── \n",
       "  [{'start': 0, 'end': 11, 'labels': ['Airplane'], 'text': 'Boening 747', 'explain': 'The Boening 747 is a         \n",
       "  specific aircraft model, so it should be labeled as an airplane.'}, {'start': 34, 'end': 38, 'labels':           \n",
       "  ['Airplane'], 'text': 'A320', 'explain': 'The A320 is a specific aircraft model, so it should be labeled as an   \n",
       "  airplane.'}]                                                                                                     \n",
       " <span style=\"color: #7f7f7f; text-decoration-color: #7f7f7f\"> [{'start': 0, 'end': 3, 'labels': ['Car'], 'text': 'BMW', 'explain': 'BMW is a car model mention.'}, {'start':  </span> \n",
       " <span style=\"color: #7f7f7f; text-decoration-color: #7f7f7f\"> 5, 'end': 9, 'labels': ['Car'], 'text': 'Audi', 'explain': 'Audi is a car model mention.'}, {'start': 11,       </span> \n",
       " <span style=\"color: #7f7f7f; text-decoration-color: #7f7f7f\"> 'end': 19, 'labels': ['Car'], 'text': 'Mercedes', 'explain': 'Mercedes is a car model mention.'}, {'start': 77, </span> \n",
       " <span style=\"color: #7f7f7f; text-decoration-color: #7f7f7f\"> 'end': 80, 'labels': ['Car'], 'text': 'Kia', 'explain': 'Kia is a car model mention.'}]                         </span> \n",
       "                                                                                                                   \n",
       "</pre>\n"
      ],
      "text/plain": [
       "                                                                                                                   \n",
       " \u001b[1;35m \u001b[0m\u001b[1;35mkeywords                                                                                                       \u001b[0m\u001b[1;35m \u001b[0m \n",
       " ───────────────────────────────────────────────────────────────────────────────────────────────────────────────── \n",
       "  [{'start': 0, 'end': 11, 'labels': ['Airplane'], 'text': 'Boening 747', 'explain': 'The Boening 747 is a         \n",
       "  specific aircraft model, so it should be labeled as an airplane.'}, {'start': 34, 'end': 38, 'labels':           \n",
       "  ['Airplane'], 'text': 'A320', 'explain': 'The A320 is a specific aircraft model, so it should be labeled as an   \n",
       "  airplane.'}]                                                                                                     \n",
       " \u001b[2m \u001b[0m\u001b[2m[{'start': 0, 'end': 3, 'labels': ['Car'], 'text': 'BMW', 'explain': 'BMW is a car model mention.'}, {'start': \u001b[0m\u001b[2m \u001b[0m \n",
       " \u001b[2m \u001b[0m\u001b[2m5, 'end': 9, 'labels': ['Car'], 'text': 'Audi', 'explain': 'Audi is a car model mention.'}, {'start': 11,      \u001b[0m\u001b[2m \u001b[0m \n",
       " \u001b[2m \u001b[0m\u001b[2m'end': 19, 'labels': ['Car'], 'text': 'Mercedes', 'explain': 'Mercedes is a car model mention.'}, {'start': 77,\u001b[0m\u001b[2m \u001b[0m \n",
       " \u001b[2m \u001b[0m\u001b[2m'end': 80, 'labels': ['Car'], 'text': 'Kia', 'explain': 'Kia is a car model mention.'}]                        \u001b[0m\u001b[2m \u001b[0m \n",
       "                                                                                                                   \n"
      ]
     },
     "metadata": {},
     "output_type": "display_data"
    },
    {
     "data": {
      "text/html": [
       "<div>\n",
       "<style scoped>\n",
       "    .dataframe tbody tr th:only-of-type {\n",
       "        vertical-align: middle;\n",
       "    }\n",
       "\n",
       "    .dataframe tbody tr th {\n",
       "        vertical-align: top;\n",
       "    }\n",
       "\n",
       "    .dataframe thead th {\n",
       "        text-align: right;\n",
       "    }\n",
       "</style>\n",
       "<table border=\"1\" class=\"dataframe\">\n",
       "  <thead>\n",
       "    <tr style=\"text-align: right;\">\n",
       "      <th></th>\n",
       "      <th>text</th>\n",
       "      <th>keywords</th>\n",
       "    </tr>\n",
       "  </thead>\n",
       "  <tbody>\n",
       "    <tr>\n",
       "      <th>0</th>\n",
       "      <td>Boening 747 is reliable airplane. A320 is too.</td>\n",
       "      <td>[{'start': 0, 'end': 11, 'labels': ['Airplane'...</td>\n",
       "    </tr>\n",
       "    <tr>\n",
       "      <th>1</th>\n",
       "      <td>BMW, Audi, Mercedes are really cool Germany ca...</td>\n",
       "      <td>[{'start': 0, 'end': 3, 'labels': ['Car'], 'te...</td>\n",
       "    </tr>\n",
       "  </tbody>\n",
       "</table>\n",
       "</div>"
      ],
      "text/plain": [
       "                                                text  \\\n",
       "0     Boening 747 is reliable airplane. A320 is too.   \n",
       "1  BMW, Audi, Mercedes are really cool Germany ca...   \n",
       "\n",
       "                                            keywords  \n",
       "0  [{'start': 0, 'end': 11, 'labels': ['Airplane'...  \n",
       "1  [{'start': 0, 'end': 3, 'labels': ['Car'], 'te...  "
      ]
     },
     "execution_count": 4,
     "metadata": {},
     "output_type": "execute_result"
    }
   ],
   "source": [
    "\n",
    "from adala.agents import Agent\n",
    "from adala.skills.collection.keyword_extraction import KeywordExtractionSkill\n",
    "from adala.runtimes import OpenAIChatRuntime\n",
    "\n",
    "agent = Agent(skills=KeywordExtractionSkill(\n",
    "    labels={\n",
    "        'keywords': [\n",
    "            {'name': 'Car', 'instruction': 'use this label for any car model mentions, countries can\\'t be labeled with this label'},\n",
    "            {'name': 'Airplane', 'instruction': 'use this label for any aircraft model mentions, countries can\\'t be labeled with this label'},\n",
    "        ]\n",
    "    },\n",
    "\n",
    "    # define all the different runtimes your skills may use\n",
    "    # runtimes={\n",
    "    #    'openai': OpenAIChatRuntime(model='gpt-4-1106-preview'),\n",
    "    # },\n",
    "))\n",
    "\n",
    "agent.run(df)"
   ]
  },
  {
   "cell_type": "code",
   "execution_count": null,
   "id": "550d1aa6",
   "metadata": {
    "collapsed": false,
    "jupyter": {
     "outputs_hidden": false
    },
    "pycharm": {
     "name": "#%%\n"
    }
   },
   "outputs": [],
   "source": [
    "\n"
   ]
  }
 ],
 "metadata": {
  "kernelspec": {
   "display_name": "Python 3 (ipykernel)",
   "language": "python",
   "name": "python3"
  },
  "language_info": {
   "codemirror_mode": {
    "name": "ipython",
    "version": 3
   },
   "file_extension": ".py",
   "mimetype": "text/x-python",
   "name": "python",
   "nbconvert_exporter": "python",
   "pygments_lexer": "ipython3",
   "version": "3.8.10"
  },
  "pycharm": {
   "stem_cell": {
    "cell_type": "raw",
    "metadata": {
     "collapsed": false
    },
    "source": []
   }
  }
 },
 "nbformat": 4,
 "nbformat_minor": 5
}
