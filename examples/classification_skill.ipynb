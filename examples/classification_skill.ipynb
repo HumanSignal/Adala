{
 "cells": [
  {
   "cell_type": "markdown",
   "metadata": {},
   "source": [
    "# Classification skill"
   ]
  },
  {
   "cell_type": "code",
   "execution_count": 1,
   "metadata": {},
   "outputs": [
    {
     "data": {
      "text/html": [
       "<div>\n",
       "<style scoped>\n",
       "    .dataframe tbody tr th:only-of-type {\n",
       "        vertical-align: middle;\n",
       "    }\n",
       "\n",
       "    .dataframe tbody tr th {\n",
       "        vertical-align: top;\n",
       "    }\n",
       "\n",
       "    .dataframe thead th {\n",
       "        text-align: right;\n",
       "    }\n",
       "</style>\n",
       "<table border=\"1\" class=\"dataframe\">\n",
       "  <thead>\n",
       "    <tr style=\"text-align: right;\">\n",
       "      <th></th>\n",
       "      <th>text</th>\n",
       "      <th>category</th>\n",
       "    </tr>\n",
       "  </thead>\n",
       "  <tbody>\n",
       "    <tr>\n",
       "      <th>0</th>\n",
       "      <td>Apple product with a sleek design.</td>\n",
       "      <td>Electronics</td>\n",
       "    </tr>\n",
       "    <tr>\n",
       "      <th>1</th>\n",
       "      <td>Laptop stand for the kitchen.</td>\n",
       "      <td>Furniture/Home Decor</td>\n",
       "    </tr>\n",
       "    <tr>\n",
       "      <th>2</th>\n",
       "      <td>Chocolate leather boots.</td>\n",
       "      <td>Footwear/Clothing</td>\n",
       "    </tr>\n",
       "    <tr>\n",
       "      <th>3</th>\n",
       "      <td>Wooden cream for surfaces.</td>\n",
       "      <td>Furniture/Home Decor</td>\n",
       "    </tr>\n",
       "    <tr>\n",
       "      <th>4</th>\n",
       "      <td>Natural finish for your lips.</td>\n",
       "      <td>Beauty/Personal Care</td>\n",
       "    </tr>\n",
       "  </tbody>\n",
       "</table>\n",
       "</div>"
      ],
      "text/plain": [
       "                                 text              category\n",
       "0  Apple product with a sleek design.           Electronics\n",
       "1       Laptop stand for the kitchen.  Furniture/Home Decor\n",
       "2            Chocolate leather boots.     Footwear/Clothing\n",
       "3          Wooden cream for surfaces.  Furniture/Home Decor\n",
       "4       Natural finish for your lips.  Beauty/Personal Care"
      ]
     },
     "execution_count": 1,
     "metadata": {},
     "output_type": "execute_result"
    }
   ],
   "source": [
    "import pandas as pd\n",
    "df = pd.DataFrame([\n",
    "    {\"text\": \"Apple product with a sleek design.\", \"category\": \"Electronics\"},\n",
    "    {\"text\": \"Laptop stand for the kitchen.\", \"category\": \"Furniture/Home Decor\"},\n",
    "    {\"text\": \"Chocolate leather boots.\", \"category\": \"Footwear/Clothing\"},\n",
    "    {\"text\": \"Wooden cream for surfaces.\", \"category\": \"Furniture/Home Decor\"},\n",
    "    {\"text\": \"Natural finish for your lips.\", \"category\": \"Beauty/Personal Care\"}\n",
    "])\n",
    "df"
   ]
  },
  {
   "cell_type": "code",
   "execution_count": 2,
   "metadata": {},
   "outputs": [
    {
     "data": {
      "text/html": [
       "<pre style=\"white-space:pre;overflow-x:auto;line-height:normal;font-family:Menlo,'DejaVu Sans Mono',consolas,'Courier New',monospace\">\n",
       "\n",
       "=&gt; Iteration #<span style=\"color: #008080; text-decoration-color: #008080; font-weight: bold\">0</span>: Getting feedback, analyzing and improving <span style=\"color: #808000; text-decoration-color: #808000\">...</span>\n",
       "</pre>\n"
      ],
      "text/plain": [
       "\n",
       "\n",
       "=> Iteration #\u001b[1;36m0\u001b[0m: Getting feedback, analyzing and improving \u001b[33m...\u001b[0m\n"
      ]
     },
     "metadata": {},
     "output_type": "display_data"
    },
    {
     "data": {
      "text/html": [
       "<pre style=\"white-space:pre;overflow-x:auto;line-height:normal;font-family:Menlo,'DejaVu Sans Mono',consolas,'Courier New',monospace\">Applying skill: product_category_classification\n",
       "</pre>\n"
      ],
      "text/plain": [
       "Applying skill: product_category_classification\n"
      ]
     },
     "metadata": {},
     "output_type": "display_data"
    },
    {
     "name": "stderr",
     "output_type": "stream",
     "text": [
      "100%|██████████| 5/5 [00:00<00:00, 86.91it/s]\n"
     ]
    },
    {
     "data": {
      "text/html": [
       "<pre style=\"white-space:pre;overflow-x:auto;line-height:normal;font-family:Menlo,'DejaVu Sans Mono',consolas,'Courier New',monospace\">Predictions and feedback:\n",
       "</pre>\n"
      ],
      "text/plain": [
       "Predictions and feedback:\n"
      ]
     },
     "metadata": {},
     "output_type": "display_data"
    },
    {
     "data": {
      "text/html": [
       "<pre style=\"white-space:pre;overflow-x:auto;line-height:normal;font-family:Menlo,'DejaVu Sans Mono',consolas,'Courier New',monospace\">                                                                                                                   \n",
       " <span style=\"color: #800080; text-decoration-color: #800080; font-weight: bold\"> text                 </span> <span style=\"color: #800080; text-decoration-color: #800080; font-weight: bold\"> category             </span> <span style=\"color: #800080; text-decoration-color: #800080; font-weight: bold\"> predicted_category   </span> <span style=\"color: #800080; text-decoration-color: #800080; font-weight: bold\"> predicted_category </span> <span style=\"color: #800080; text-decoration-color: #800080; font-weight: bold\"> predicted_category__… </span> \n",
       " ───────────────────────────────────────────────────────────────────────────────────────────────────────────────── \n",
       "  Apple product with a   Electronics            Electronics            True                 Correct.               \n",
       "  sleek design.                                                                                                    \n",
       " <span style=\"color: #7f7f7f; text-decoration-color: #7f7f7f\"> Laptop stand for the </span> <span style=\"color: #7f7f7f; text-decoration-color: #7f7f7f\"> Furniture/Home Decor </span> <span style=\"color: #7f7f7f; text-decoration-color: #7f7f7f\"> Electronics          </span> <span style=\"color: #7f7f7f; text-decoration-color: #7f7f7f\"> False              </span> <span style=\"color: #7f7f7f; text-decoration-color: #7f7f7f\"> Incorrect. Must be    </span> \n",
       " <span style=\"color: #7f7f7f; text-decoration-color: #7f7f7f\"> kitchen.             </span> <span style=\"color: #7f7f7f; text-decoration-color: #7f7f7f\">                      </span> <span style=\"color: #7f7f7f; text-decoration-color: #7f7f7f\">                      </span> <span style=\"color: #7f7f7f; text-decoration-color: #7f7f7f\">                    </span> <span style=\"color: #7f7f7f; text-decoration-color: #7f7f7f\"> equal to              </span> \n",
       " <span style=\"color: #7f7f7f; text-decoration-color: #7f7f7f\">                      </span> <span style=\"color: #7f7f7f; text-decoration-color: #7f7f7f\">                      </span> <span style=\"color: #7f7f7f; text-decoration-color: #7f7f7f\">                      </span> <span style=\"color: #7f7f7f; text-decoration-color: #7f7f7f\">                    </span> <span style=\"color: #7f7f7f; text-decoration-color: #7f7f7f\"> Furniture/Home Decor  </span> \n",
       "  Chocolate leather      Footwear/Clothing      Footwear/Clothing      True                 Correct.               \n",
       "  boots.                                                                                                           \n",
       " <span style=\"color: #7f7f7f; text-decoration-color: #7f7f7f\"> Wooden cream for     </span> <span style=\"color: #7f7f7f; text-decoration-color: #7f7f7f\"> Furniture/Home Decor </span> <span style=\"color: #7f7f7f; text-decoration-color: #7f7f7f\"> Furniture/Home Decor </span> <span style=\"color: #7f7f7f; text-decoration-color: #7f7f7f\"> True               </span> <span style=\"color: #7f7f7f; text-decoration-color: #7f7f7f\"> Correct.              </span> \n",
       " <span style=\"color: #7f7f7f; text-decoration-color: #7f7f7f\"> surfaces.            </span> <span style=\"color: #7f7f7f; text-decoration-color: #7f7f7f\">                      </span> <span style=\"color: #7f7f7f; text-decoration-color: #7f7f7f\">                      </span> <span style=\"color: #7f7f7f; text-decoration-color: #7f7f7f\">                    </span> <span style=\"color: #7f7f7f; text-decoration-color: #7f7f7f\">                       </span> \n",
       "  Natural finish for     Beauty/Personal Care   Beauty/Personal Care   True                 Correct.               \n",
       "  your lips.                                                                                                       \n",
       "                                                                                                                   \n",
       "</pre>\n"
      ],
      "text/plain": [
       "                                                                                                                   \n",
       " \u001b[1;35m \u001b[0m\u001b[1;35mtext                \u001b[0m\u001b[1;35m \u001b[0m \u001b[1;35m \u001b[0m\u001b[1;35mcategory            \u001b[0m\u001b[1;35m \u001b[0m \u001b[1;35m \u001b[0m\u001b[1;35mpredicted_category  \u001b[0m\u001b[1;35m \u001b[0m \u001b[1;35m \u001b[0m\u001b[1;35mpredicted_category\u001b[0m\u001b[1;35m \u001b[0m \u001b[1;35m \u001b[0m\u001b[1;35mpredicted_category__…\u001b[0m\u001b[1;35m \u001b[0m \n",
       " ───────────────────────────────────────────────────────────────────────────────────────────────────────────────── \n",
       "  Apple product with a   Electronics            Electronics            True                 Correct.               \n",
       "  sleek design.                                                                                                    \n",
       " \u001b[2m \u001b[0m\u001b[2mLaptop stand for the\u001b[0m\u001b[2m \u001b[0m \u001b[2m \u001b[0m\u001b[2mFurniture/Home Decor\u001b[0m\u001b[2m \u001b[0m \u001b[2m \u001b[0m\u001b[2mElectronics         \u001b[0m\u001b[2m \u001b[0m \u001b[2m \u001b[0m\u001b[2mFalse             \u001b[0m\u001b[2m \u001b[0m \u001b[2m \u001b[0m\u001b[2mIncorrect. Must be   \u001b[0m\u001b[2m \u001b[0m \n",
       " \u001b[2m \u001b[0m\u001b[2mkitchen.            \u001b[0m\u001b[2m \u001b[0m \u001b[2m                      \u001b[0m \u001b[2m                      \u001b[0m \u001b[2m                    \u001b[0m \u001b[2m \u001b[0m\u001b[2mequal to             \u001b[0m\u001b[2m \u001b[0m \n",
       " \u001b[2m                      \u001b[0m \u001b[2m                      \u001b[0m \u001b[2m                      \u001b[0m \u001b[2m                    \u001b[0m \u001b[2m \u001b[0m\u001b[2mFurniture/Home Decor \u001b[0m\u001b[2m \u001b[0m \n",
       "  Chocolate leather      Footwear/Clothing      Footwear/Clothing      True                 Correct.               \n",
       "  boots.                                                                                                           \n",
       " \u001b[2m \u001b[0m\u001b[2mWooden cream for    \u001b[0m\u001b[2m \u001b[0m \u001b[2m \u001b[0m\u001b[2mFurniture/Home Decor\u001b[0m\u001b[2m \u001b[0m \u001b[2m \u001b[0m\u001b[2mFurniture/Home Decor\u001b[0m\u001b[2m \u001b[0m \u001b[2m \u001b[0m\u001b[2mTrue              \u001b[0m\u001b[2m \u001b[0m \u001b[2m \u001b[0m\u001b[2mCorrect.             \u001b[0m\u001b[2m \u001b[0m \n",
       " \u001b[2m \u001b[0m\u001b[2msurfaces.           \u001b[0m\u001b[2m \u001b[0m \u001b[2m                      \u001b[0m \u001b[2m                      \u001b[0m \u001b[2m                    \u001b[0m \u001b[2m                       \u001b[0m \n",
       "  Natural finish for     Beauty/Personal Care   Beauty/Personal Care   True                 Correct.               \n",
       "  your lips.                                                                                                       \n",
       "                                                                                                                   \n"
      ]
     },
     "metadata": {},
     "output_type": "display_data"
    },
    {
     "data": {
      "text/html": [
       "<pre style=\"white-space:pre;overflow-x:auto;line-height:normal;font-family:Menlo,'DejaVu Sans Mono',consolas,'Courier New',monospace\"><span style=\"color: #800000; text-decoration-color: #800000; font-weight: bold\">Output to improve: </span><span style=\"color: #008000; text-decoration-color: #008000\">\"predicted_category\"</span><span style=\"color: #800000; text-decoration-color: #800000; font-weight: bold\"> (</span><span style=\"color: #808000; text-decoration-color: #808000; font-weight: bold\">Skill</span><span style=\"color: #800000; text-decoration-color: #800000; font-weight: bold\">=</span><span style=\"color: #008000; text-decoration-color: #008000\">\"product_category_classification\"</span><span style=\"color: #800000; text-decoration-color: #800000; font-weight: bold\">)</span>\n",
       "<span style=\"color: #800000; text-decoration-color: #800000; font-weight: bold\">Accuracy = </span><span style=\"color: #008080; text-decoration-color: #008080; font-weight: bold\">80.00</span><span style=\"color: #800000; text-decoration-color: #800000; font-weight: bold\">%</span>\n",
       "</pre>\n"
      ],
      "text/plain": [
       "\u001b[1;31mOutput to improve: \u001b[0m\u001b[32m\"predicted_category\"\u001b[0m\u001b[1;31m \u001b[0m\u001b[1;31m(\u001b[0m\u001b[1;33mSkill\u001b[0m\u001b[1;31m=\u001b[0m\u001b[32m\"product_category_classification\"\u001b[0m\u001b[1;31m)\u001b[0m\n",
       "\u001b[1;31mAccuracy = \u001b[0m\u001b[1;36m80.00\u001b[0m\u001b[1;31m%\u001b[0m\n"
      ]
     },
     "metadata": {},
     "output_type": "display_data"
    },
    {
     "data": {
      "text/html": [
       "<pre style=\"white-space:pre;overflow-x:auto;line-height:normal;font-family:Menlo,'DejaVu Sans Mono',consolas,'Courier New',monospace\"><span style=\"color: #008000; text-decoration-color: #008000; font-weight: bold\">Label the input text with the following labels: {labels}</span>\n",
       "\n",
       "<span style=\"color: #008000; text-decoration-color: #008000; font-weight: bold\">For improved accuracy, please pay attention to specific keywords or phrases that indicate the category. Also, </span>\n",
       "<span style=\"color: #008000; text-decoration-color: #008000; font-weight: bold\">consider the context in which the text is presented to determine the appropriate category.</span>\n",
       "\n",
       "<span style=\"color: #008000; text-decoration-color: #008000; font-weight: bold\">Few-shot examples:</span>\n",
       "\n",
       "<span style=\"color: #008000; text-decoration-color: #008000; font-weight: bold\">Text: Laptop stand for the kitchen.</span>\n",
       "<span style=\"color: #008000; text-decoration-color: #008000; font-weight: bold\">Category: Furniture/Home Decor</span>\n",
       "\n",
       "<span style=\"color: #008000; text-decoration-color: #008000; font-weight: bold\">Text: Shirt with a floral pattern.</span>\n",
       "<span style=\"color: #008000; text-decoration-color: #008000; font-weight: bold\">Category: Footwear/Clothing</span>\n",
       "\n",
       "<span style=\"color: #008000; text-decoration-color: #008000; font-weight: bold\">Text: Organic shampoo for shiny hair.</span>\n",
       "<span style=\"color: #008000; text-decoration-color: #008000; font-weight: bold\">Category: Beauty/Personal Care</span>\n",
       "\n",
       "<span style=\"color: #008000; text-decoration-color: #008000; font-weight: bold\">---</span>\n",
       "\n",
       "<span style=\"color: #008000; text-decoration-color: #008000; font-weight: bold\">Instructions:</span>\n",
       "<span style=\"color: #008080; text-decoration-color: #008080; font-weight: bold\">1</span><span style=\"color: #008000; text-decoration-color: #008000; font-weight: bold\">. Always label the input text with the correct category based on the provided keywords or phrases.</span>\n",
       "<span style=\"color: #008080; text-decoration-color: #008080; font-weight: bold\">2</span><span style=\"color: #008000; text-decoration-color: #008000; font-weight: bold\">. Take into account the context and semantics of the text when assigning the category.</span>\n",
       "<span style=\"color: #008080; text-decoration-color: #008080; font-weight: bold\">3</span><span style=\"color: #008000; text-decoration-color: #008000; font-weight: bold\">. If there is ambiguity, choose the category that is most appropriate given the overall meaning and purpose of the</span>\n",
       "<span style=\"color: #008000; text-decoration-color: #008000; font-weight: bold\">text.</span>\n",
       "\n",
       "<span style=\"color: #008000; text-decoration-color: #008000; font-weight: bold\">Remember to incorporate the updated instructions into the LLM prompt for future iterations.</span>\n",
       "</pre>\n"
      ],
      "text/plain": [
       "\u001b[1;32mLabel the input text with the following labels: \u001b[0m\u001b[1;32m{\u001b[0m\u001b[1;32mlabels\u001b[0m\u001b[1;32m}\u001b[0m\n",
       "\n",
       "\u001b[1;32mFor improved accuracy, please pay attention to specific keywords or phrases that indicate the category. Also, \u001b[0m\n",
       "\u001b[1;32mconsider the context in which the text is presented to determine the appropriate category.\u001b[0m\n",
       "\n",
       "\u001b[1;32mFew-shot examples:\u001b[0m\n",
       "\n",
       "\u001b[1;32mText: Laptop stand for the kitchen.\u001b[0m\n",
       "\u001b[1;32mCategory: Furniture/Home Decor\u001b[0m\n",
       "\n",
       "\u001b[1;32mText: Shirt with a floral pattern.\u001b[0m\n",
       "\u001b[1;32mCategory: Footwear/Clothing\u001b[0m\n",
       "\n",
       "\u001b[1;32mText: Organic shampoo for shiny hair.\u001b[0m\n",
       "\u001b[1;32mCategory: Beauty/Personal Care\u001b[0m\n",
       "\n",
       "\u001b[1;32m---\u001b[0m\n",
       "\n",
       "\u001b[1;32mInstructions:\u001b[0m\n",
       "\u001b[1;36m1\u001b[0m\u001b[1;32m. Always label the input text with the correct category based on the provided keywords or phrases.\u001b[0m\n",
       "\u001b[1;36m2\u001b[0m\u001b[1;32m. Take into account the context and semantics of the text when assigning the category.\u001b[0m\n",
       "\u001b[1;36m3\u001b[0m\u001b[1;32m. If there is ambiguity, choose the category that is most appropriate given the overall meaning and purpose of the\u001b[0m\n",
       "\u001b[1;32mtext.\u001b[0m\n",
       "\n",
       "\u001b[1;32mRemember to incorporate the updated instructions into the LLM prompt for future iterations.\u001b[0m\n"
      ]
     },
     "metadata": {},
     "output_type": "display_data"
    },
    {
     "data": {
      "text/html": [
       "<pre style=\"white-space:pre;overflow-x:auto;line-height:normal;font-family:Menlo,'DejaVu Sans Mono',consolas,'Courier New',monospace\">\n",
       "\n",
       "=&gt; Iteration #<span style=\"color: #008080; text-decoration-color: #008080; font-weight: bold\">1</span>: Getting feedback, analyzing and improving <span style=\"color: #808000; text-decoration-color: #808000\">...</span>\n",
       "</pre>\n"
      ],
      "text/plain": [
       "\n",
       "\n",
       "=> Iteration #\u001b[1;36m1\u001b[0m: Getting feedback, analyzing and improving \u001b[33m...\u001b[0m\n"
      ]
     },
     "metadata": {},
     "output_type": "display_data"
    },
    {
     "data": {
      "text/html": [
       "<pre style=\"white-space:pre;overflow-x:auto;line-height:normal;font-family:Menlo,'DejaVu Sans Mono',consolas,'Courier New',monospace\">Applying skill: product_category_classification\n",
       "</pre>\n"
      ],
      "text/plain": [
       "Applying skill: product_category_classification\n"
      ]
     },
     "metadata": {},
     "output_type": "display_data"
    },
    {
     "name": "stderr",
     "output_type": "stream",
     "text": [
      "100%|██████████| 5/5 [00:01<00:00,  3.05it/s]\n"
     ]
    },
    {
     "data": {
      "text/html": [
       "<pre style=\"white-space:pre;overflow-x:auto;line-height:normal;font-family:Menlo,'DejaVu Sans Mono',consolas,'Courier New',monospace\">Predictions and feedback:\n",
       "</pre>\n"
      ],
      "text/plain": [
       "Predictions and feedback:\n"
      ]
     },
     "metadata": {},
     "output_type": "display_data"
    },
    {
     "data": {
      "text/html": [
       "<pre style=\"white-space:pre;overflow-x:auto;line-height:normal;font-family:Menlo,'DejaVu Sans Mono',consolas,'Courier New',monospace\">                                                                                                                   \n",
       " <span style=\"color: #800080; text-decoration-color: #800080; font-weight: bold\"> text                 </span> <span style=\"color: #800080; text-decoration-color: #800080; font-weight: bold\"> category             </span> <span style=\"color: #800080; text-decoration-color: #800080; font-weight: bold\"> predicted_category   </span> <span style=\"color: #800080; text-decoration-color: #800080; font-weight: bold\"> predicted_category </span> <span style=\"color: #800080; text-decoration-color: #800080; font-weight: bold\"> predicted_category__… </span> \n",
       " ───────────────────────────────────────────────────────────────────────────────────────────────────────────────── \n",
       "  Apple product with a   Electronics            Electronics            True                 Correct.               \n",
       "  sleek design.                                                                                                    \n",
       " <span style=\"color: #7f7f7f; text-decoration-color: #7f7f7f\"> Laptop stand for the </span> <span style=\"color: #7f7f7f; text-decoration-color: #7f7f7f\"> Furniture/Home Decor </span> <span style=\"color: #7f7f7f; text-decoration-color: #7f7f7f\"> Furniture/Home Decor </span> <span style=\"color: #7f7f7f; text-decoration-color: #7f7f7f\"> True               </span> <span style=\"color: #7f7f7f; text-decoration-color: #7f7f7f\"> Correct.              </span> \n",
       " <span style=\"color: #7f7f7f; text-decoration-color: #7f7f7f\"> kitchen.             </span> <span style=\"color: #7f7f7f; text-decoration-color: #7f7f7f\">                      </span> <span style=\"color: #7f7f7f; text-decoration-color: #7f7f7f\">                      </span> <span style=\"color: #7f7f7f; text-decoration-color: #7f7f7f\">                    </span> <span style=\"color: #7f7f7f; text-decoration-color: #7f7f7f\">                       </span> \n",
       "  Chocolate leather      Footwear/Clothing      Footwear/Clothing      True                 Correct.               \n",
       "  boots.                                                                                                           \n",
       " <span style=\"color: #7f7f7f; text-decoration-color: #7f7f7f\"> Wooden cream for     </span> <span style=\"color: #7f7f7f; text-decoration-color: #7f7f7f\"> Furniture/Home Decor </span> <span style=\"color: #7f7f7f; text-decoration-color: #7f7f7f\"> Furniture/Home Decor </span> <span style=\"color: #7f7f7f; text-decoration-color: #7f7f7f\"> True               </span> <span style=\"color: #7f7f7f; text-decoration-color: #7f7f7f\"> Correct.              </span> \n",
       " <span style=\"color: #7f7f7f; text-decoration-color: #7f7f7f\"> surfaces.            </span> <span style=\"color: #7f7f7f; text-decoration-color: #7f7f7f\">                      </span> <span style=\"color: #7f7f7f; text-decoration-color: #7f7f7f\">                      </span> <span style=\"color: #7f7f7f; text-decoration-color: #7f7f7f\">                    </span> <span style=\"color: #7f7f7f; text-decoration-color: #7f7f7f\">                       </span> \n",
       "  Natural finish for     Beauty/Personal Care   Beauty/Personal Care   True                 Correct.               \n",
       "  your lips.                                                                                                       \n",
       "                                                                                                                   \n",
       "</pre>\n"
      ],
      "text/plain": [
       "                                                                                                                   \n",
       " \u001b[1;35m \u001b[0m\u001b[1;35mtext                \u001b[0m\u001b[1;35m \u001b[0m \u001b[1;35m \u001b[0m\u001b[1;35mcategory            \u001b[0m\u001b[1;35m \u001b[0m \u001b[1;35m \u001b[0m\u001b[1;35mpredicted_category  \u001b[0m\u001b[1;35m \u001b[0m \u001b[1;35m \u001b[0m\u001b[1;35mpredicted_category\u001b[0m\u001b[1;35m \u001b[0m \u001b[1;35m \u001b[0m\u001b[1;35mpredicted_category__…\u001b[0m\u001b[1;35m \u001b[0m \n",
       " ───────────────────────────────────────────────────────────────────────────────────────────────────────────────── \n",
       "  Apple product with a   Electronics            Electronics            True                 Correct.               \n",
       "  sleek design.                                                                                                    \n",
       " \u001b[2m \u001b[0m\u001b[2mLaptop stand for the\u001b[0m\u001b[2m \u001b[0m \u001b[2m \u001b[0m\u001b[2mFurniture/Home Decor\u001b[0m\u001b[2m \u001b[0m \u001b[2m \u001b[0m\u001b[2mFurniture/Home Decor\u001b[0m\u001b[2m \u001b[0m \u001b[2m \u001b[0m\u001b[2mTrue              \u001b[0m\u001b[2m \u001b[0m \u001b[2m \u001b[0m\u001b[2mCorrect.             \u001b[0m\u001b[2m \u001b[0m \n",
       " \u001b[2m \u001b[0m\u001b[2mkitchen.            \u001b[0m\u001b[2m \u001b[0m \u001b[2m                      \u001b[0m \u001b[2m                      \u001b[0m \u001b[2m                    \u001b[0m \u001b[2m                       \u001b[0m \n",
       "  Chocolate leather      Footwear/Clothing      Footwear/Clothing      True                 Correct.               \n",
       "  boots.                                                                                                           \n",
       " \u001b[2m \u001b[0m\u001b[2mWooden cream for    \u001b[0m\u001b[2m \u001b[0m \u001b[2m \u001b[0m\u001b[2mFurniture/Home Decor\u001b[0m\u001b[2m \u001b[0m \u001b[2m \u001b[0m\u001b[2mFurniture/Home Decor\u001b[0m\u001b[2m \u001b[0m \u001b[2m \u001b[0m\u001b[2mTrue              \u001b[0m\u001b[2m \u001b[0m \u001b[2m \u001b[0m\u001b[2mCorrect.             \u001b[0m\u001b[2m \u001b[0m \n",
       " \u001b[2m \u001b[0m\u001b[2msurfaces.           \u001b[0m\u001b[2m \u001b[0m \u001b[2m                      \u001b[0m \u001b[2m                      \u001b[0m \u001b[2m                    \u001b[0m \u001b[2m                       \u001b[0m \n",
       "  Natural finish for     Beauty/Personal Care   Beauty/Personal Care   True                 Correct.               \n",
       "  your lips.                                                                                                       \n",
       "                                                                                                                   \n"
      ]
     },
     "metadata": {},
     "output_type": "display_data"
    },
    {
     "data": {
      "text/html": [
       "<pre style=\"white-space:pre;overflow-x:auto;line-height:normal;font-family:Menlo,'DejaVu Sans Mono',consolas,'Courier New',monospace\">No skill to improve found. Continue learning<span style=\"color: #808000; text-decoration-color: #808000\">...</span>\n",
       "</pre>\n"
      ],
      "text/plain": [
       "No skill to improve found. Continue learning\u001b[33m...\u001b[0m\n"
      ]
     },
     "metadata": {},
     "output_type": "display_data"
    },
    {
     "data": {
      "text/html": [
       "<pre style=\"white-space:pre;overflow-x:auto;line-height:normal;font-family:Menlo,'DejaVu Sans Mono',consolas,'Courier New',monospace\">\n",
       "\n",
       "=&gt; Iteration #<span style=\"color: #008080; text-decoration-color: #008080; font-weight: bold\">2</span>: Getting feedback, analyzing and improving <span style=\"color: #808000; text-decoration-color: #808000\">...</span>\n",
       "</pre>\n"
      ],
      "text/plain": [
       "\n",
       "\n",
       "=> Iteration #\u001b[1;36m2\u001b[0m: Getting feedback, analyzing and improving \u001b[33m...\u001b[0m\n"
      ]
     },
     "metadata": {},
     "output_type": "display_data"
    },
    {
     "data": {
      "text/html": [
       "<pre style=\"white-space:pre;overflow-x:auto;line-height:normal;font-family:Menlo,'DejaVu Sans Mono',consolas,'Courier New',monospace\">Applying skill: product_category_classification\n",
       "</pre>\n"
      ],
      "text/plain": [
       "Applying skill: product_category_classification\n"
      ]
     },
     "metadata": {},
     "output_type": "display_data"
    },
    {
     "name": "stderr",
     "output_type": "stream",
     "text": [
      "100%|██████████| 5/5 [00:00<00:00, 59.58it/s]\n"
     ]
    },
    {
     "data": {
      "text/html": [
       "<pre style=\"white-space:pre;overflow-x:auto;line-height:normal;font-family:Menlo,'DejaVu Sans Mono',consolas,'Courier New',monospace\">Predictions and feedback:\n",
       "</pre>\n"
      ],
      "text/plain": [
       "Predictions and feedback:\n"
      ]
     },
     "metadata": {},
     "output_type": "display_data"
    },
    {
     "data": {
      "text/html": [
       "<pre style=\"white-space:pre;overflow-x:auto;line-height:normal;font-family:Menlo,'DejaVu Sans Mono',consolas,'Courier New',monospace\">                                                                                                                   \n",
       " <span style=\"color: #800080; text-decoration-color: #800080; font-weight: bold\"> text                 </span> <span style=\"color: #800080; text-decoration-color: #800080; font-weight: bold\"> category             </span> <span style=\"color: #800080; text-decoration-color: #800080; font-weight: bold\"> predicted_category   </span> <span style=\"color: #800080; text-decoration-color: #800080; font-weight: bold\"> predicted_category </span> <span style=\"color: #800080; text-decoration-color: #800080; font-weight: bold\"> predicted_category__… </span> \n",
       " ───────────────────────────────────────────────────────────────────────────────────────────────────────────────── \n",
       "  Apple product with a   Electronics            Electronics            True                 Correct.               \n",
       "  sleek design.                                                                                                    \n",
       " <span style=\"color: #7f7f7f; text-decoration-color: #7f7f7f\"> Laptop stand for the </span> <span style=\"color: #7f7f7f; text-decoration-color: #7f7f7f\"> Furniture/Home Decor </span> <span style=\"color: #7f7f7f; text-decoration-color: #7f7f7f\"> Furniture/Home Decor </span> <span style=\"color: #7f7f7f; text-decoration-color: #7f7f7f\"> True               </span> <span style=\"color: #7f7f7f; text-decoration-color: #7f7f7f\"> Correct.              </span> \n",
       " <span style=\"color: #7f7f7f; text-decoration-color: #7f7f7f\"> kitchen.             </span> <span style=\"color: #7f7f7f; text-decoration-color: #7f7f7f\">                      </span> <span style=\"color: #7f7f7f; text-decoration-color: #7f7f7f\">                      </span> <span style=\"color: #7f7f7f; text-decoration-color: #7f7f7f\">                    </span> <span style=\"color: #7f7f7f; text-decoration-color: #7f7f7f\">                       </span> \n",
       "  Chocolate leather      Footwear/Clothing      Footwear/Clothing      True                 Correct.               \n",
       "  boots.                                                                                                           \n",
       " <span style=\"color: #7f7f7f; text-decoration-color: #7f7f7f\"> Wooden cream for     </span> <span style=\"color: #7f7f7f; text-decoration-color: #7f7f7f\"> Furniture/Home Decor </span> <span style=\"color: #7f7f7f; text-decoration-color: #7f7f7f\"> Furniture/Home Decor </span> <span style=\"color: #7f7f7f; text-decoration-color: #7f7f7f\"> True               </span> <span style=\"color: #7f7f7f; text-decoration-color: #7f7f7f\"> Correct.              </span> \n",
       " <span style=\"color: #7f7f7f; text-decoration-color: #7f7f7f\"> surfaces.            </span> <span style=\"color: #7f7f7f; text-decoration-color: #7f7f7f\">                      </span> <span style=\"color: #7f7f7f; text-decoration-color: #7f7f7f\">                      </span> <span style=\"color: #7f7f7f; text-decoration-color: #7f7f7f\">                    </span> <span style=\"color: #7f7f7f; text-decoration-color: #7f7f7f\">                       </span> \n",
       "  Natural finish for     Beauty/Personal Care   Beauty/Personal Care   True                 Correct.               \n",
       "  your lips.                                                                                                       \n",
       "                                                                                                                   \n",
       "</pre>\n"
      ],
      "text/plain": [
       "                                                                                                                   \n",
       " \u001b[1;35m \u001b[0m\u001b[1;35mtext                \u001b[0m\u001b[1;35m \u001b[0m \u001b[1;35m \u001b[0m\u001b[1;35mcategory            \u001b[0m\u001b[1;35m \u001b[0m \u001b[1;35m \u001b[0m\u001b[1;35mpredicted_category  \u001b[0m\u001b[1;35m \u001b[0m \u001b[1;35m \u001b[0m\u001b[1;35mpredicted_category\u001b[0m\u001b[1;35m \u001b[0m \u001b[1;35m \u001b[0m\u001b[1;35mpredicted_category__…\u001b[0m\u001b[1;35m \u001b[0m \n",
       " ───────────────────────────────────────────────────────────────────────────────────────────────────────────────── \n",
       "  Apple product with a   Electronics            Electronics            True                 Correct.               \n",
       "  sleek design.                                                                                                    \n",
       " \u001b[2m \u001b[0m\u001b[2mLaptop stand for the\u001b[0m\u001b[2m \u001b[0m \u001b[2m \u001b[0m\u001b[2mFurniture/Home Decor\u001b[0m\u001b[2m \u001b[0m \u001b[2m \u001b[0m\u001b[2mFurniture/Home Decor\u001b[0m\u001b[2m \u001b[0m \u001b[2m \u001b[0m\u001b[2mTrue              \u001b[0m\u001b[2m \u001b[0m \u001b[2m \u001b[0m\u001b[2mCorrect.             \u001b[0m\u001b[2m \u001b[0m \n",
       " \u001b[2m \u001b[0m\u001b[2mkitchen.            \u001b[0m\u001b[2m \u001b[0m \u001b[2m                      \u001b[0m \u001b[2m                      \u001b[0m \u001b[2m                    \u001b[0m \u001b[2m                       \u001b[0m \n",
       "  Chocolate leather      Footwear/Clothing      Footwear/Clothing      True                 Correct.               \n",
       "  boots.                                                                                                           \n",
       " \u001b[2m \u001b[0m\u001b[2mWooden cream for    \u001b[0m\u001b[2m \u001b[0m \u001b[2m \u001b[0m\u001b[2mFurniture/Home Decor\u001b[0m\u001b[2m \u001b[0m \u001b[2m \u001b[0m\u001b[2mFurniture/Home Decor\u001b[0m\u001b[2m \u001b[0m \u001b[2m \u001b[0m\u001b[2mTrue              \u001b[0m\u001b[2m \u001b[0m \u001b[2m \u001b[0m\u001b[2mCorrect.             \u001b[0m\u001b[2m \u001b[0m \n",
       " \u001b[2m \u001b[0m\u001b[2msurfaces.           \u001b[0m\u001b[2m \u001b[0m \u001b[2m                      \u001b[0m \u001b[2m                      \u001b[0m \u001b[2m                    \u001b[0m \u001b[2m                       \u001b[0m \n",
       "  Natural finish for     Beauty/Personal Care   Beauty/Personal Care   True                 Correct.               \n",
       "  your lips.                                                                                                       \n",
       "                                                                                                                   \n"
      ]
     },
     "metadata": {},
     "output_type": "display_data"
    },
    {
     "data": {
      "text/html": [
       "<pre style=\"white-space:pre;overflow-x:auto;line-height:normal;font-family:Menlo,'DejaVu Sans Mono',consolas,'Courier New',monospace\">No skill to improve found. Continue learning<span style=\"color: #808000; text-decoration-color: #808000\">...</span>\n",
       "</pre>\n"
      ],
      "text/plain": [
       "No skill to improve found. Continue learning\u001b[33m...\u001b[0m\n"
      ]
     },
     "metadata": {},
     "output_type": "display_data"
    },
    {
     "data": {
      "text/html": [
       "<pre style=\"white-space:pre;overflow-x:auto;line-height:normal;font-family:Menlo,'DejaVu Sans Mono',consolas,'Courier New',monospace\">Train is done!\n",
       "</pre>\n"
      ],
      "text/plain": [
       "Train is done!\n"
      ]
     },
     "metadata": {},
     "output_type": "display_data"
    }
   ],
   "source": [
    "from adala.agents import Agent\n",
    "from adala.environments import StaticEnvironment\n",
    "from adala.skills import ClassificationSkill\n",
    "\n",
    "agent = Agent(\n",
    "    skills=ClassificationSkill(\n",
    "        name='product_category_classification',\n",
    "        input_template='Text: {text}',\n",
    "        output_template='Category: {predicted_category}',\n",
    "        labels={'predicted_category':[\n",
    "            \"Footwear/Clothing\",\n",
    "            \"Electronics\",\n",
    "            \"Food/Beverages\",\n",
    "            \"Furniture/Home Decor\",\n",
    "            \"Beauty/Personal Care\"\n",
    "        ]},\n",
    "    ),\n",
    "    environment=StaticEnvironment(\n",
    "        df=df,\n",
    "        ground_truth_columns={'predicted_category': 'category'}\n",
    "    )\n",
    ")\n",
    "\n",
    "agent.learn()"
   ]
  },
  {
   "cell_type": "code",
   "execution_count": 3,
   "metadata": {},
   "outputs": [
    {
     "data": {
      "text/html": [
       "<pre style=\"white-space:pre;overflow-x:auto;line-height:normal;font-family:Menlo,'DejaVu Sans Mono',consolas,'Courier New',monospace\"><span style=\"color: #000080; text-decoration-color: #000080; font-weight: bold\">Total Agent Skills: </span><span style=\"color: #000080; text-decoration-color: #000080; font-weight: bold\">1</span>\n",
       "\n",
       "<span style=\"color: #008000; text-decoration-color: #008000; font-weight: bold; text-decoration: underline\">product_category_classification</span>\n",
       "<span style=\"color: #008000; text-decoration-color: #008000\">Label the input text with the following labels: </span><span style=\"color: #008000; text-decoration-color: #008000; font-weight: bold\">{</span><span style=\"color: #008000; text-decoration-color: #008000\">labels</span><span style=\"color: #008000; text-decoration-color: #008000; font-weight: bold\">}</span>\n",
       "\n",
       "<span style=\"color: #008000; text-decoration-color: #008000\">For improved accuracy, please pay attention to specific keywords or phrases that indicate the category. Also, </span>\n",
       "<span style=\"color: #008000; text-decoration-color: #008000\">consider the context in which the text is presented to determine the appropriate category.</span>\n",
       "\n",
       "<span style=\"color: #008000; text-decoration-color: #008000\">Few-shot examples:</span>\n",
       "\n",
       "<span style=\"color: #008000; text-decoration-color: #008000\">Text: Laptop stand for the kitchen.</span>\n",
       "<span style=\"color: #008000; text-decoration-color: #008000\">Category: Furniture/Home Decor</span>\n",
       "\n",
       "<span style=\"color: #008000; text-decoration-color: #008000\">Text: Shirt with a floral pattern.</span>\n",
       "<span style=\"color: #008000; text-decoration-color: #008000\">Category: Footwear/Clothing</span>\n",
       "\n",
       "<span style=\"color: #008000; text-decoration-color: #008000\">Text: Organic shampoo for shiny hair.</span>\n",
       "<span style=\"color: #008000; text-decoration-color: #008000\">Category: Beauty/Personal Care</span>\n",
       "\n",
       "<span style=\"color: #008000; text-decoration-color: #008000\">---</span>\n",
       "\n",
       "<span style=\"color: #008000; text-decoration-color: #008000\">Instructions:</span>\n",
       "<span style=\"color: #008000; text-decoration-color: #008000; font-weight: bold\">1</span><span style=\"color: #008000; text-decoration-color: #008000\">. Always label the input text with the correct category based on the provided keywords or phrases.</span>\n",
       "<span style=\"color: #008000; text-decoration-color: #008000; font-weight: bold\">2</span><span style=\"color: #008000; text-decoration-color: #008000\">. Take into account the context and semantics of the text when assigning the category.</span>\n",
       "<span style=\"color: #008000; text-decoration-color: #008000; font-weight: bold\">3</span><span style=\"color: #008000; text-decoration-color: #008000\">. If there is ambiguity, choose the category that is most appropriate given the overall meaning and purpose of the</span>\n",
       "<span style=\"color: #008000; text-decoration-color: #008000\">text.</span>\n",
       "\n",
       "<span style=\"color: #008000; text-decoration-color: #008000\">Remember to incorporate the updated instructions into the LLM prompt for future iterations.</span>\n",
       "\n",
       "</pre>\n"
      ],
      "text/plain": [
       "\u001b[1;34mTotal Agent Skills: \u001b[0m\u001b[1;34m1\u001b[0m\n",
       "\n",
       "\u001b[1;4;32mproduct_category_classification\u001b[0m\n",
       "\u001b[32mLabel the input text with the following labels: \u001b[0m\u001b[1;32m{\u001b[0m\u001b[32mlabels\u001b[0m\u001b[1;32m}\u001b[0m\n",
       "\n",
       "\u001b[32mFor improved accuracy, please pay attention to specific keywords or phrases that indicate the category. Also, \u001b[0m\n",
       "\u001b[32mconsider the context in which the text is presented to determine the appropriate category.\u001b[0m\n",
       "\n",
       "\u001b[32mFew-shot examples:\u001b[0m\n",
       "\n",
       "\u001b[32mText: Laptop stand for the kitchen.\u001b[0m\n",
       "\u001b[32mCategory: Furniture/Home Decor\u001b[0m\n",
       "\n",
       "\u001b[32mText: Shirt with a floral pattern.\u001b[0m\n",
       "\u001b[32mCategory: Footwear/Clothing\u001b[0m\n",
       "\n",
       "\u001b[32mText: Organic shampoo for shiny hair.\u001b[0m\n",
       "\u001b[32mCategory: Beauty/Personal Care\u001b[0m\n",
       "\n",
       "\u001b[32m---\u001b[0m\n",
       "\n",
       "\u001b[32mInstructions:\u001b[0m\n",
       "\u001b[1;32m1\u001b[0m\u001b[32m. Always label the input text with the correct category based on the provided keywords or phrases.\u001b[0m\n",
       "\u001b[1;32m2\u001b[0m\u001b[32m. Take into account the context and semantics of the text when assigning the category.\u001b[0m\n",
       "\u001b[1;32m3\u001b[0m\u001b[32m. If there is ambiguity, choose the category that is most appropriate given the overall meaning and purpose of the\u001b[0m\n",
       "\u001b[32mtext.\u001b[0m\n",
       "\n",
       "\u001b[32mRemember to incorporate the updated instructions into the LLM prompt for future iterations.\u001b[0m\n",
       "\n"
      ]
     },
     "metadata": {},
     "output_type": "display_data"
    }
   ],
   "source": [
    "from rich import print\n",
    "\n",
    "print(agent.skills)"
   ]
  },
  {
   "cell_type": "code",
   "execution_count": 4,
   "metadata": {},
   "outputs": [
    {
     "data": {
      "text/html": [
       "<pre style=\"white-space:pre;overflow-x:auto;line-height:normal;font-family:Menlo,'DejaVu Sans Mono',consolas,'Courier New',monospace\">Applying skill: product_category_classification\n",
       "</pre>\n"
      ],
      "text/plain": [
       "Applying skill: product_category_classification\n"
      ]
     },
     "metadata": {},
     "output_type": "display_data"
    },
    {
     "name": "stderr",
     "output_type": "stream",
     "text": [
      "100%|██████████| 5/5 [00:01<00:00,  4.29it/s]\n"
     ]
    }
   ],
   "source": [
    "test_df = pd.DataFrame([\n",
    "    \"Stainless steel apple peeler.\",  # Potential categories: Electronics or Food/Beverages\n",
    "    \"Silk finish touch screen.\",      # Potential categories: Electronics or Beauty/Personal Care\n",
    "    \"Chocolate coated boots.\",        # Potential categories: Footwear/Clothing or Food/Beverages\n",
    "    \"Natural wood fragrance.\",        # Potential categories: Beauty/Personal Care or Furniture/Home Decor\n",
    "    \"Leather grain snack bar.\"        # Potential categories: Footwear/Clothing or Food/Beverages\n",
    "], columns=['text'])\n",
    "\n",
    "predictions = agent.run(test_df)"
   ]
  },
  {
   "cell_type": "code",
   "execution_count": 5,
   "metadata": {},
   "outputs": [
    {
     "data": {
      "text/html": [
       "<div>\n",
       "<style scoped>\n",
       "    .dataframe tbody tr th:only-of-type {\n",
       "        vertical-align: middle;\n",
       "    }\n",
       "\n",
       "    .dataframe tbody tr th {\n",
       "        vertical-align: top;\n",
       "    }\n",
       "\n",
       "    .dataframe thead th {\n",
       "        text-align: right;\n",
       "    }\n",
       "</style>\n",
       "<table border=\"1\" class=\"dataframe\">\n",
       "  <thead>\n",
       "    <tr style=\"text-align: right;\">\n",
       "      <th></th>\n",
       "      <th>text</th>\n",
       "      <th>predicted_category</th>\n",
       "    </tr>\n",
       "  </thead>\n",
       "  <tbody>\n",
       "    <tr>\n",
       "      <th>0</th>\n",
       "      <td>Stainless steel apple peeler.</td>\n",
       "      <td>Food/Beverages</td>\n",
       "    </tr>\n",
       "    <tr>\n",
       "      <th>1</th>\n",
       "      <td>Silk finish touch screen.</td>\n",
       "      <td>Electronics</td>\n",
       "    </tr>\n",
       "    <tr>\n",
       "      <th>2</th>\n",
       "      <td>Chocolate coated boots.</td>\n",
       "      <td>Footwear/Clothing</td>\n",
       "    </tr>\n",
       "    <tr>\n",
       "      <th>3</th>\n",
       "      <td>Natural wood fragrance.</td>\n",
       "      <td>Furniture/Home Decor</td>\n",
       "    </tr>\n",
       "    <tr>\n",
       "      <th>4</th>\n",
       "      <td>Leather grain snack bar.</td>\n",
       "      <td>Food/Beverages</td>\n",
       "    </tr>\n",
       "  </tbody>\n",
       "</table>\n",
       "</div>"
      ],
      "text/plain": [
       "                            text    predicted_category\n",
       "0  Stainless steel apple peeler.        Food/Beverages\n",
       "1      Silk finish touch screen.           Electronics\n",
       "2        Chocolate coated boots.     Footwear/Clothing\n",
       "3        Natural wood fragrance.  Furniture/Home Decor\n",
       "4       Leather grain snack bar.        Food/Beverages"
      ]
     },
     "execution_count": 5,
     "metadata": {},
     "output_type": "execute_result"
    }
   ],
   "source": [
    "predictions"
   ]
  },
  {
   "cell_type": "code",
   "execution_count": null,
   "id": "56e65070",
   "metadata": {},
   "outputs": [],
   "source": []
  }
 ],
 "metadata": {
  "kernelspec": {
   "display_name": "base",
   "language": "python",
   "name": "python3"
  },
  "language_info": {
   "codemirror_mode": {
    "name": "ipython",
    "version": 3
   },
   "file_extension": ".py",
   "mimetype": "text/x-python",
   "name": "python",
   "nbconvert_exporter": "python",
   "pygments_lexer": "ipython3",
   "version": "3.11.4"
  }
 },
 "nbformat": 4,
 "nbformat_minor": 5
}
