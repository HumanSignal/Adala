{
 "cells": [
  {
   "cell_type": "markdown",
   "metadata": {},
   "source": [
    "# Classification skill"
   ]
  },
  {
   "cell_type": "code",
   "execution_count": 1,
   "metadata": {},
   "outputs": [
    {
     "data": {
      "text/html": [
       "<div>\n",
       "<style scoped>\n",
       "    .dataframe tbody tr th:only-of-type {\n",
       "        vertical-align: middle;\n",
       "    }\n",
       "\n",
       "    .dataframe tbody tr th {\n",
       "        vertical-align: top;\n",
       "    }\n",
       "\n",
       "    .dataframe thead th {\n",
       "        text-align: right;\n",
       "    }\n",
       "</style>\n",
       "<table border=\"1\" class=\"dataframe\">\n",
       "  <thead>\n",
       "    <tr style=\"text-align: right;\">\n",
       "      <th></th>\n",
       "      <th>text</th>\n",
       "      <th>category</th>\n",
       "    </tr>\n",
       "  </thead>\n",
       "  <tbody>\n",
       "    <tr>\n",
       "      <th>0</th>\n",
       "      <td>Apple product with a sleek design.</td>\n",
       "      <td>Electronics</td>\n",
       "    </tr>\n",
       "    <tr>\n",
       "      <th>1</th>\n",
       "      <td>Laptop stand for the kitchen.</td>\n",
       "      <td>Furniture/Home Decor</td>\n",
       "    </tr>\n",
       "    <tr>\n",
       "      <th>2</th>\n",
       "      <td>Chocolate leather boots.</td>\n",
       "      <td>Footwear/Clothing</td>\n",
       "    </tr>\n",
       "    <tr>\n",
       "      <th>3</th>\n",
       "      <td>Wooden cream for surfaces.</td>\n",
       "      <td>Furniture/Home Decor</td>\n",
       "    </tr>\n",
       "    <tr>\n",
       "      <th>4</th>\n",
       "      <td>Natural finish for your lips.</td>\n",
       "      <td>Beauty/Personal Care</td>\n",
       "    </tr>\n",
       "  </tbody>\n",
       "</table>\n",
       "</div>"
      ],
      "text/plain": [
       "                                 text              category\n",
       "0  Apple product with a sleek design.           Electronics\n",
       "1       Laptop stand for the kitchen.  Furniture/Home Decor\n",
       "2            Chocolate leather boots.     Footwear/Clothing\n",
       "3          Wooden cream for surfaces.  Furniture/Home Decor\n",
       "4       Natural finish for your lips.  Beauty/Personal Care"
      ]
     },
     "execution_count": 1,
     "metadata": {},
     "output_type": "execute_result"
    }
   ],
   "source": [
    "import pandas as pd\n",
    "df = pd.DataFrame([\n",
    "    {\"text\": \"Apple product with a sleek design.\", \"category\": \"Electronics\"},\n",
    "    {\"text\": \"Laptop stand for the kitchen.\", \"category\": \"Furniture/Home Decor\"},\n",
    "    {\"text\": \"Chocolate leather boots.\", \"category\": \"Footwear/Clothing\"},\n",
    "    {\"text\": \"Wooden cream for surfaces.\", \"category\": \"Furniture/Home Decor\"},\n",
    "    {\"text\": \"Natural finish for your lips.\", \"category\": \"Beauty/Personal Care\"}\n",
    "])\n",
    "df"
   ]
  },
  {
   "cell_type": "code",
   "execution_count": 2,
   "metadata": {},
   "outputs": [
    {
     "data": {
      "text/html": [
       "<pre style=\"white-space:pre;overflow-x:auto;line-height:normal;font-family:Menlo,'DejaVu Sans Mono',consolas,'Courier New',monospace\">Applying skill: product_category_classification\n",
       "</pre>\n"
      ],
      "text/plain": [
       "Applying skill: product_category_classification\n"
      ]
     },
     "metadata": {},
     "output_type": "display_data"
    },
    {
     "name": "stderr",
     "output_type": "stream",
     "text": [
      "100%|████████████████████████████████| 5/5 [00:00<00:00, 40.72it/s]\n"
     ]
    },
    {
     "data": {
      "text/html": [
       "<pre style=\"white-space:pre;overflow-x:auto;line-height:normal;font-family:Menlo,'DejaVu Sans Mono',consolas,'Courier New',monospace\">\n",
       "\n",
       "=&gt; Iteration #<span style=\"color: #008080; text-decoration-color: #008080; font-weight: bold\">0</span>: Comparing to ground truth, analyzing and improving <span style=\"color: #808000; text-decoration-color: #808000\">...</span>\n",
       "</pre>\n"
      ],
      "text/plain": [
       "\n",
       "\n",
       "=> Iteration #\u001b[1;36m0\u001b[0m: Comparing to ground truth, analyzing and improving \u001b[33m...\u001b[0m\n"
      ]
     },
     "metadata": {},
     "output_type": "display_data"
    },
    {
     "data": {
      "text/html": [
       "<pre style=\"white-space:pre;overflow-x:auto;line-height:normal;font-family:Menlo,'DejaVu Sans Mono',consolas,'Courier New',monospace\">Comparing predictions to ground truth data <span style=\"color: #808000; text-decoration-color: #808000\">...</span>\n",
       "</pre>\n"
      ],
      "text/plain": [
       "Comparing predictions to ground truth data \u001b[33m...\u001b[0m\n"
      ]
     },
     "metadata": {},
     "output_type": "display_data"
    },
    {
     "data": {
      "text/html": [
       "<pre style=\"white-space:pre;overflow-x:auto;line-height:normal;font-family:Menlo,'DejaVu Sans Mono',consolas,'Courier New',monospace\">                                                                                                                   \n",
       " <span style=\"color: #800080; text-decoration-color: #800080; font-weight: bold\"> text                 </span> <span style=\"color: #800080; text-decoration-color: #800080; font-weight: bold\"> category             </span> <span style=\"color: #800080; text-decoration-color: #800080; font-weight: bold\"> product_category_cl… </span> <span style=\"color: #800080; text-decoration-color: #800080; font-weight: bold\"> score                </span> <span style=\"color: #800080; text-decoration-color: #800080; font-weight: bold\"> product_category_c… </span> \n",
       " ───────────────────────────────────────────────────────────────────────────────────────────────────────────────── \n",
       "  Apple product with a   Electronics            Electronics            {'Footwear/Clothing…   True                 \n",
       "  sleek design.                                                        -7.4104013,                                 \n",
       "                                                                       'Electronics':                              \n",
       "                                                                       -0.0006187928400000…                        \n",
       "                                                                       'Food/Beverages':                           \n",
       "                                                                       -12.842141,                                 \n",
       "                                                                       'Furniture/Home                             \n",
       "                                                                       Decor': -13.004693,                         \n",
       "                                                                       'Beauty/Personal                            \n",
       "                                                                       Care': -11.657418}                          \n",
       " <span style=\"color: #7f7f7f; text-decoration-color: #7f7f7f\"> Laptop stand for the </span> <span style=\"color: #7f7f7f; text-decoration-color: #7f7f7f\"> Furniture/Home Decor </span> <span style=\"color: #7f7f7f; text-decoration-color: #7f7f7f\"> Electronics          </span> <span style=\"color: #7f7f7f; text-decoration-color: #7f7f7f\"> {'Footwear/Clothing… </span> <span style=\"color: #7f7f7f; text-decoration-color: #7f7f7f\"> False               </span> \n",
       " <span style=\"color: #7f7f7f; text-decoration-color: #7f7f7f\"> kitchen.             </span> <span style=\"color: #7f7f7f; text-decoration-color: #7f7f7f\">                      </span> <span style=\"color: #7f7f7f; text-decoration-color: #7f7f7f\">                      </span> <span style=\"color: #7f7f7f; text-decoration-color: #7f7f7f\"> -5.046604,           </span> <span style=\"color: #7f7f7f; text-decoration-color: #7f7f7f\">                     </span> \n",
       " <span style=\"color: #7f7f7f; text-decoration-color: #7f7f7f\">                      </span> <span style=\"color: #7f7f7f; text-decoration-color: #7f7f7f\">                      </span> <span style=\"color: #7f7f7f; text-decoration-color: #7f7f7f\">                      </span> <span style=\"color: #7f7f7f; text-decoration-color: #7f7f7f\"> 'Electronics':       </span> <span style=\"color: #7f7f7f; text-decoration-color: #7f7f7f\">                     </span> \n",
       " <span style=\"color: #7f7f7f; text-decoration-color: #7f7f7f\">                      </span> <span style=\"color: #7f7f7f; text-decoration-color: #7f7f7f\">                      </span> <span style=\"color: #7f7f7f; text-decoration-color: #7f7f7f\">                      </span> <span style=\"color: #7f7f7f; text-decoration-color: #7f7f7f\"> -0.0079155900000000… </span> <span style=\"color: #7f7f7f; text-decoration-color: #7f7f7f\">                     </span> \n",
       " <span style=\"color: #7f7f7f; text-decoration-color: #7f7f7f\">                      </span> <span style=\"color: #7f7f7f; text-decoration-color: #7f7f7f\">                      </span> <span style=\"color: #7f7f7f; text-decoration-color: #7f7f7f\">                      </span> <span style=\"color: #7f7f7f; text-decoration-color: #7f7f7f\"> 'Food/Beverages':    </span> <span style=\"color: #7f7f7f; text-decoration-color: #7f7f7f\">                     </span> \n",
       " <span style=\"color: #7f7f7f; text-decoration-color: #7f7f7f\">                      </span> <span style=\"color: #7f7f7f; text-decoration-color: #7f7f7f\">                      </span> <span style=\"color: #7f7f7f; text-decoration-color: #7f7f7f\">                      </span> <span style=\"color: #7f7f7f; text-decoration-color: #7f7f7f\"> -12.865566,          </span> <span style=\"color: #7f7f7f; text-decoration-color: #7f7f7f\">                     </span> \n",
       " <span style=\"color: #7f7f7f; text-decoration-color: #7f7f7f\">                      </span> <span style=\"color: #7f7f7f; text-decoration-color: #7f7f7f\">                      </span> <span style=\"color: #7f7f7f; text-decoration-color: #7f7f7f\">                      </span> <span style=\"color: #7f7f7f; text-decoration-color: #7f7f7f\"> 'Furniture/Home      </span> <span style=\"color: #7f7f7f; text-decoration-color: #7f7f7f\">                     </span> \n",
       " <span style=\"color: #7f7f7f; text-decoration-color: #7f7f7f\">                      </span> <span style=\"color: #7f7f7f; text-decoration-color: #7f7f7f\">                      </span> <span style=\"color: #7f7f7f; text-decoration-color: #7f7f7f\">                      </span> <span style=\"color: #7f7f7f; text-decoration-color: #7f7f7f\"> Decor': -6.5376244,  </span> <span style=\"color: #7f7f7f; text-decoration-color: #7f7f7f\">                     </span> \n",
       " <span style=\"color: #7f7f7f; text-decoration-color: #7f7f7f\">                      </span> <span style=\"color: #7f7f7f; text-decoration-color: #7f7f7f\">                      </span> <span style=\"color: #7f7f7f; text-decoration-color: #7f7f7f\">                      </span> <span style=\"color: #7f7f7f; text-decoration-color: #7f7f7f\"> 'Beauty/Personal     </span> <span style=\"color: #7f7f7f; text-decoration-color: #7f7f7f\">                     </span> \n",
       " <span style=\"color: #7f7f7f; text-decoration-color: #7f7f7f\">                      </span> <span style=\"color: #7f7f7f; text-decoration-color: #7f7f7f\">                      </span> <span style=\"color: #7f7f7f; text-decoration-color: #7f7f7f\">                      </span> <span style=\"color: #7f7f7f; text-decoration-color: #7f7f7f\"> Care': -12.865139}   </span> <span style=\"color: #7f7f7f; text-decoration-color: #7f7f7f\">                     </span> \n",
       "  Chocolate leather      Footwear/Clothing      Footwear/Clothing      {'Footwear/Clothing…   True                 \n",
       "  boots.                                                               -0.0410600639999999…                        \n",
       "                                                                       'Electronics':                              \n",
       "                                                                       -11.113914,                                 \n",
       "                                                                       'Food/Beverages':                           \n",
       "                                                                       -3.3290619999999995,                        \n",
       "                                                                       'Furniture/Home                             \n",
       "                                                                       Decor': -5.6644883,                         \n",
       "                                                                       'Beauty/Personal                            \n",
       "                                                                       Care': -6.991324}                           \n",
       " <span style=\"color: #7f7f7f; text-decoration-color: #7f7f7f\"> Wooden cream for     </span> <span style=\"color: #7f7f7f; text-decoration-color: #7f7f7f\"> Furniture/Home Decor </span> <span style=\"color: #7f7f7f; text-decoration-color: #7f7f7f\"> Furniture/Home Decor </span> <span style=\"color: #7f7f7f; text-decoration-color: #7f7f7f\"> {'Footwear/Clothing… </span> <span style=\"color: #7f7f7f; text-decoration-color: #7f7f7f\"> True                </span> \n",
       " <span style=\"color: #7f7f7f; text-decoration-color: #7f7f7f\"> surfaces.            </span> <span style=\"color: #7f7f7f; text-decoration-color: #7f7f7f\">                      </span> <span style=\"color: #7f7f7f; text-decoration-color: #7f7f7f\">                      </span> <span style=\"color: #7f7f7f; text-decoration-color: #7f7f7f\"> -5.391147,           </span> <span style=\"color: #7f7f7f; text-decoration-color: #7f7f7f\">                     </span> \n",
       " <span style=\"color: #7f7f7f; text-decoration-color: #7f7f7f\">                      </span> <span style=\"color: #7f7f7f; text-decoration-color: #7f7f7f\">                      </span> <span style=\"color: #7f7f7f; text-decoration-color: #7f7f7f\">                      </span> <span style=\"color: #7f7f7f; text-decoration-color: #7f7f7f\"> 'Electronics':       </span> <span style=\"color: #7f7f7f; text-decoration-color: #7f7f7f\">                     </span> \n",
       " <span style=\"color: #7f7f7f; text-decoration-color: #7f7f7f\">                      </span> <span style=\"color: #7f7f7f; text-decoration-color: #7f7f7f\">                      </span> <span style=\"color: #7f7f7f; text-decoration-color: #7f7f7f\">                      </span> <span style=\"color: #7f7f7f; text-decoration-color: #7f7f7f\"> -12.019984,          </span> <span style=\"color: #7f7f7f; text-decoration-color: #7f7f7f\">                     </span> \n",
       " <span style=\"color: #7f7f7f; text-decoration-color: #7f7f7f\">                      </span> <span style=\"color: #7f7f7f; text-decoration-color: #7f7f7f\">                      </span> <span style=\"color: #7f7f7f; text-decoration-color: #7f7f7f\">                      </span> <span style=\"color: #7f7f7f; text-decoration-color: #7f7f7f\"> 'Food/Beverages':    </span> <span style=\"color: #7f7f7f; text-decoration-color: #7f7f7f\">                     </span> \n",
       " <span style=\"color: #7f7f7f; text-decoration-color: #7f7f7f\">                      </span> <span style=\"color: #7f7f7f; text-decoration-color: #7f7f7f\">                      </span> <span style=\"color: #7f7f7f; text-decoration-color: #7f7f7f\">                      </span> <span style=\"color: #7f7f7f; text-decoration-color: #7f7f7f\"> -8.380702,           </span> <span style=\"color: #7f7f7f; text-decoration-color: #7f7f7f\">                     </span> \n",
       " <span style=\"color: #7f7f7f; text-decoration-color: #7f7f7f\">                      </span> <span style=\"color: #7f7f7f; text-decoration-color: #7f7f7f\">                      </span> <span style=\"color: #7f7f7f; text-decoration-color: #7f7f7f\">                      </span> <span style=\"color: #7f7f7f; text-decoration-color: #7f7f7f\"> 'Furniture/Home      </span> <span style=\"color: #7f7f7f; text-decoration-color: #7f7f7f\">                     </span> \n",
       " <span style=\"color: #7f7f7f; text-decoration-color: #7f7f7f\">                      </span> <span style=\"color: #7f7f7f; text-decoration-color: #7f7f7f\">                      </span> <span style=\"color: #7f7f7f; text-decoration-color: #7f7f7f\">                      </span> <span style=\"color: #7f7f7f; text-decoration-color: #7f7f7f\"> Decor':              </span> <span style=\"color: #7f7f7f; text-decoration-color: #7f7f7f\">                     </span> \n",
       " <span style=\"color: #7f7f7f; text-decoration-color: #7f7f7f\">                      </span> <span style=\"color: #7f7f7f; text-decoration-color: #7f7f7f\">                      </span> <span style=\"color: #7f7f7f; text-decoration-color: #7f7f7f\">                      </span> <span style=\"color: #7f7f7f; text-decoration-color: #7f7f7f\"> -0.0170855020000000… </span> <span style=\"color: #7f7f7f; text-decoration-color: #7f7f7f\">                     </span> \n",
       " <span style=\"color: #7f7f7f; text-decoration-color: #7f7f7f\">                      </span> <span style=\"color: #7f7f7f; text-decoration-color: #7f7f7f\">                      </span> <span style=\"color: #7f7f7f; text-decoration-color: #7f7f7f\">                      </span> <span style=\"color: #7f7f7f; text-decoration-color: #7f7f7f\"> 'Beauty/Personal     </span> <span style=\"color: #7f7f7f; text-decoration-color: #7f7f7f\">                     </span> \n",
       " <span style=\"color: #7f7f7f; text-decoration-color: #7f7f7f\">                      </span> <span style=\"color: #7f7f7f; text-decoration-color: #7f7f7f\">                      </span> <span style=\"color: #7f7f7f; text-decoration-color: #7f7f7f\">                      </span> <span style=\"color: #7f7f7f; text-decoration-color: #7f7f7f\"> Care': -4.4105563}   </span> <span style=\"color: #7f7f7f; text-decoration-color: #7f7f7f\">                     </span> \n",
       "  Natural finish for     Beauty/Personal Care   Beauty/Personal Care   {'Footwear/Clothing…   True                 \n",
       "  your lips.                                                           -3.9375494,                                 \n",
       "                                                                       'Electronics':                              \n",
       "                                                                       -10.5326805,                                \n",
       "                                                                       'Food/Beverages':                           \n",
       "                                                                       -9.545025,                                  \n",
       "                                                                       'Furniture/Home                             \n",
       "                                                                       Decor': -10.485508,                         \n",
       "                                                                       'Beauty/Personal                            \n",
       "                                                                       Care':                                      \n",
       "                                                                       -0.0198170879999999…                        \n",
       "                                                                                                                   \n",
       "</pre>\n"
      ],
      "text/plain": [
       "                                                                                                                   \n",
       " \u001b[1;35m \u001b[0m\u001b[1;35mtext                \u001b[0m\u001b[1;35m \u001b[0m \u001b[1;35m \u001b[0m\u001b[1;35mcategory            \u001b[0m\u001b[1;35m \u001b[0m \u001b[1;35m \u001b[0m\u001b[1;35mproduct_category_cl…\u001b[0m\u001b[1;35m \u001b[0m \u001b[1;35m \u001b[0m\u001b[1;35mscore               \u001b[0m\u001b[1;35m \u001b[0m \u001b[1;35m \u001b[0m\u001b[1;35mproduct_category_c…\u001b[0m\u001b[1;35m \u001b[0m \n",
       " ───────────────────────────────────────────────────────────────────────────────────────────────────────────────── \n",
       "  Apple product with a   Electronics            Electronics            {'Footwear/Clothing…   True                 \n",
       "  sleek design.                                                        -7.4104013,                                 \n",
       "                                                                       'Electronics':                              \n",
       "                                                                       -0.0006187928400000…                        \n",
       "                                                                       'Food/Beverages':                           \n",
       "                                                                       -12.842141,                                 \n",
       "                                                                       'Furniture/Home                             \n",
       "                                                                       Decor': -13.004693,                         \n",
       "                                                                       'Beauty/Personal                            \n",
       "                                                                       Care': -11.657418}                          \n",
       " \u001b[2m \u001b[0m\u001b[2mLaptop stand for the\u001b[0m\u001b[2m \u001b[0m \u001b[2m \u001b[0m\u001b[2mFurniture/Home Decor\u001b[0m\u001b[2m \u001b[0m \u001b[2m \u001b[0m\u001b[2mElectronics         \u001b[0m\u001b[2m \u001b[0m \u001b[2m \u001b[0m\u001b[2m{'Footwear/Clothing…\u001b[0m\u001b[2m \u001b[0m \u001b[2m \u001b[0m\u001b[2mFalse              \u001b[0m\u001b[2m \u001b[0m \n",
       " \u001b[2m \u001b[0m\u001b[2mkitchen.            \u001b[0m\u001b[2m \u001b[0m \u001b[2m                      \u001b[0m \u001b[2m                      \u001b[0m \u001b[2m \u001b[0m\u001b[2m-5.046604,          \u001b[0m\u001b[2m \u001b[0m \u001b[2m                     \u001b[0m \n",
       " \u001b[2m                      \u001b[0m \u001b[2m                      \u001b[0m \u001b[2m                      \u001b[0m \u001b[2m \u001b[0m\u001b[2m'Electronics':      \u001b[0m\u001b[2m \u001b[0m \u001b[2m                     \u001b[0m \n",
       " \u001b[2m                      \u001b[0m \u001b[2m                      \u001b[0m \u001b[2m                      \u001b[0m \u001b[2m \u001b[0m\u001b[2m-0.0079155900000000…\u001b[0m\u001b[2m \u001b[0m \u001b[2m                     \u001b[0m \n",
       " \u001b[2m                      \u001b[0m \u001b[2m                      \u001b[0m \u001b[2m                      \u001b[0m \u001b[2m \u001b[0m\u001b[2m'Food/Beverages':   \u001b[0m\u001b[2m \u001b[0m \u001b[2m                     \u001b[0m \n",
       " \u001b[2m                      \u001b[0m \u001b[2m                      \u001b[0m \u001b[2m                      \u001b[0m \u001b[2m \u001b[0m\u001b[2m-12.865566,         \u001b[0m\u001b[2m \u001b[0m \u001b[2m                     \u001b[0m \n",
       " \u001b[2m                      \u001b[0m \u001b[2m                      \u001b[0m \u001b[2m                      \u001b[0m \u001b[2m \u001b[0m\u001b[2m'Furniture/Home     \u001b[0m\u001b[2m \u001b[0m \u001b[2m                     \u001b[0m \n",
       " \u001b[2m                      \u001b[0m \u001b[2m                      \u001b[0m \u001b[2m                      \u001b[0m \u001b[2m \u001b[0m\u001b[2mDecor': -6.5376244, \u001b[0m\u001b[2m \u001b[0m \u001b[2m                     \u001b[0m \n",
       " \u001b[2m                      \u001b[0m \u001b[2m                      \u001b[0m \u001b[2m                      \u001b[0m \u001b[2m \u001b[0m\u001b[2m'Beauty/Personal    \u001b[0m\u001b[2m \u001b[0m \u001b[2m                     \u001b[0m \n",
       " \u001b[2m                      \u001b[0m \u001b[2m                      \u001b[0m \u001b[2m                      \u001b[0m \u001b[2m \u001b[0m\u001b[2mCare': -12.865139}  \u001b[0m\u001b[2m \u001b[0m \u001b[2m                     \u001b[0m \n",
       "  Chocolate leather      Footwear/Clothing      Footwear/Clothing      {'Footwear/Clothing…   True                 \n",
       "  boots.                                                               -0.0410600639999999…                        \n",
       "                                                                       'Electronics':                              \n",
       "                                                                       -11.113914,                                 \n",
       "                                                                       'Food/Beverages':                           \n",
       "                                                                       -3.3290619999999995,                        \n",
       "                                                                       'Furniture/Home                             \n",
       "                                                                       Decor': -5.6644883,                         \n",
       "                                                                       'Beauty/Personal                            \n",
       "                                                                       Care': -6.991324}                           \n",
       " \u001b[2m \u001b[0m\u001b[2mWooden cream for    \u001b[0m\u001b[2m \u001b[0m \u001b[2m \u001b[0m\u001b[2mFurniture/Home Decor\u001b[0m\u001b[2m \u001b[0m \u001b[2m \u001b[0m\u001b[2mFurniture/Home Decor\u001b[0m\u001b[2m \u001b[0m \u001b[2m \u001b[0m\u001b[2m{'Footwear/Clothing…\u001b[0m\u001b[2m \u001b[0m \u001b[2m \u001b[0m\u001b[2mTrue               \u001b[0m\u001b[2m \u001b[0m \n",
       " \u001b[2m \u001b[0m\u001b[2msurfaces.           \u001b[0m\u001b[2m \u001b[0m \u001b[2m                      \u001b[0m \u001b[2m                      \u001b[0m \u001b[2m \u001b[0m\u001b[2m-5.391147,          \u001b[0m\u001b[2m \u001b[0m \u001b[2m                     \u001b[0m \n",
       " \u001b[2m                      \u001b[0m \u001b[2m                      \u001b[0m \u001b[2m                      \u001b[0m \u001b[2m \u001b[0m\u001b[2m'Electronics':      \u001b[0m\u001b[2m \u001b[0m \u001b[2m                     \u001b[0m \n",
       " \u001b[2m                      \u001b[0m \u001b[2m                      \u001b[0m \u001b[2m                      \u001b[0m \u001b[2m \u001b[0m\u001b[2m-12.019984,         \u001b[0m\u001b[2m \u001b[0m \u001b[2m                     \u001b[0m \n",
       " \u001b[2m                      \u001b[0m \u001b[2m                      \u001b[0m \u001b[2m                      \u001b[0m \u001b[2m \u001b[0m\u001b[2m'Food/Beverages':   \u001b[0m\u001b[2m \u001b[0m \u001b[2m                     \u001b[0m \n",
       " \u001b[2m                      \u001b[0m \u001b[2m                      \u001b[0m \u001b[2m                      \u001b[0m \u001b[2m \u001b[0m\u001b[2m-8.380702,          \u001b[0m\u001b[2m \u001b[0m \u001b[2m                     \u001b[0m \n",
       " \u001b[2m                      \u001b[0m \u001b[2m                      \u001b[0m \u001b[2m                      \u001b[0m \u001b[2m \u001b[0m\u001b[2m'Furniture/Home     \u001b[0m\u001b[2m \u001b[0m \u001b[2m                     \u001b[0m \n",
       " \u001b[2m                      \u001b[0m \u001b[2m                      \u001b[0m \u001b[2m                      \u001b[0m \u001b[2m \u001b[0m\u001b[2mDecor':             \u001b[0m\u001b[2m \u001b[0m \u001b[2m                     \u001b[0m \n",
       " \u001b[2m                      \u001b[0m \u001b[2m                      \u001b[0m \u001b[2m                      \u001b[0m \u001b[2m \u001b[0m\u001b[2m-0.0170855020000000…\u001b[0m\u001b[2m \u001b[0m \u001b[2m                     \u001b[0m \n",
       " \u001b[2m                      \u001b[0m \u001b[2m                      \u001b[0m \u001b[2m                      \u001b[0m \u001b[2m \u001b[0m\u001b[2m'Beauty/Personal    \u001b[0m\u001b[2m \u001b[0m \u001b[2m                     \u001b[0m \n",
       " \u001b[2m                      \u001b[0m \u001b[2m                      \u001b[0m \u001b[2m                      \u001b[0m \u001b[2m \u001b[0m\u001b[2mCare': -4.4105563}  \u001b[0m\u001b[2m \u001b[0m \u001b[2m                     \u001b[0m \n",
       "  Natural finish for     Beauty/Personal Care   Beauty/Personal Care   {'Footwear/Clothing…   True                 \n",
       "  your lips.                                                           -3.9375494,                                 \n",
       "                                                                       'Electronics':                              \n",
       "                                                                       -10.5326805,                                \n",
       "                                                                       'Food/Beverages':                           \n",
       "                                                                       -9.545025,                                  \n",
       "                                                                       'Furniture/Home                             \n",
       "                                                                       Decor': -10.485508,                         \n",
       "                                                                       'Beauty/Personal                            \n",
       "                                                                       Care':                                      \n",
       "                                                                       -0.0198170879999999…                        \n",
       "                                                                                                                   \n"
      ]
     },
     "metadata": {},
     "output_type": "display_data"
    },
    {
     "data": {
      "text/html": [
       "<pre style=\"white-space:pre;overflow-x:auto;line-height:normal;font-family:Menlo,'DejaVu Sans Mono',consolas,'Courier New',monospace\"><span style=\"color: #800000; text-decoration-color: #800000; font-weight: bold\">Accuracy = </span><span style=\"color: #008080; text-decoration-color: #008080; font-weight: bold\">80.00</span><span style=\"color: #800000; text-decoration-color: #800000; font-weight: bold\">%</span>\n",
       "</pre>\n"
      ],
      "text/plain": [
       "\u001b[1;31mAccuracy = \u001b[0m\u001b[1;36m80.00\u001b[0m\u001b[1;31m%\u001b[0m\n"
      ]
     },
     "metadata": {},
     "output_type": "display_data"
    },
    {
     "data": {
      "text/html": [
       "<pre style=\"white-space:pre;overflow-x:auto;line-height:normal;font-family:Menlo,'DejaVu Sans Mono',consolas,'Courier New',monospace\">Analyze evaluation experience <span style=\"color: #808000; text-decoration-color: #808000\">...</span>\n",
       "</pre>\n"
      ],
      "text/plain": [
       "Analyze evaluation experience \u001b[33m...\u001b[0m\n"
      ]
     },
     "metadata": {},
     "output_type": "display_data"
    },
    {
     "name": "stderr",
     "output_type": "stream",
     "text": [
      "100%|███████████████████████████████| 1/1 [00:00<00:00, 140.29it/s]\n",
      "100%|████████████████████████████████| 1/1 [00:02<00:00,  2.67s/it]\n"
     ]
    },
    {
     "data": {
      "text/html": [
       "<pre style=\"white-space:pre;overflow-x:auto;line-height:normal;font-family:Menlo,'DejaVu Sans Mono',consolas,'Courier New',monospace\">Error analysis for skill <span style=\"color: #008000; text-decoration-color: #008000\">\"product_category_classification\"</span>:\n",
       "\n",
       "</pre>\n"
      ],
      "text/plain": [
       "Error analysis for skill \u001b[32m\"product_category_classification\"\u001b[0m:\n",
       "\n"
      ]
     },
     "metadata": {},
     "output_type": "display_data"
    },
    {
     "data": {
      "text/html": [
       "<pre style=\"white-space:pre;overflow-x:auto;line-height:normal;font-family:Menlo,'DejaVu Sans Mono',consolas,'Courier New',monospace\">\n",
       "<span style=\"color: #008000; text-decoration-color: #008000\">Input: Laptop stand for the kitchen.</span>\n",
       "<span style=\"color: #008000; text-decoration-color: #008000\">Prediction: Electronics</span>\n",
       "<span style=\"color: #008000; text-decoration-color: #008000\">Ground truth: Furniture/Home Decor</span>\n",
       "<span style=\"color: #008000; text-decoration-color: #008000\">Error reason: The error reason is that the original instruction does not provide clear guidelines on how to label </span>\n",
       "<span style=\"color: #008000; text-decoration-color: #008000\">products that have multiple potential categories. In this case, the input </span><span style=\"color: #008000; text-decoration-color: #008000\">\"Laptop stand for the kitchen\"</span><span style=\"color: #008000; text-decoration-color: #008000\"> could be </span>\n",
       "<span style=\"color: #008000; text-decoration-color: #008000\">interpreted as both an electronic device </span><span style=\"color: #008000; text-decoration-color: #008000; font-weight: bold\">(</span><span style=\"color: #008000; text-decoration-color: #008000\">laptop stand</span><span style=\"color: #008000; text-decoration-color: #008000; font-weight: bold\">)</span><span style=\"color: #008000; text-decoration-color: #008000\"> and a piece of furniture/home decor </span><span style=\"color: #008000; text-decoration-color: #008000; font-weight: bold\">(</span><span style=\"color: #008000; text-decoration-color: #008000\">for the kitchen</span><span style=\"color: #008000; text-decoration-color: #008000; font-weight: bold\">)</span><span style=\"color: #008000; text-decoration-color: #008000\">. </span>\n",
       "<span style=\"color: #008000; text-decoration-color: #008000\">Without further clarification in the instructions, it is difficult to determine the correct label.</span>\n",
       "\n",
       "</pre>\n"
      ],
      "text/plain": [
       "\n",
       "\u001b[32mInput: Laptop stand for the kitchen.\u001b[0m\n",
       "\u001b[32mPrediction: Electronics\u001b[0m\n",
       "\u001b[32mGround truth: Furniture/Home Decor\u001b[0m\n",
       "\u001b[32mError reason: The error reason is that the original instruction does not provide clear guidelines on how to label \u001b[0m\n",
       "\u001b[32mproducts that have multiple potential categories. In this case, the input \u001b[0m\u001b[32m\"Laptop stand for the kitchen\"\u001b[0m\u001b[32m could be \u001b[0m\n",
       "\u001b[32minterpreted as both an electronic device \u001b[0m\u001b[1;32m(\u001b[0m\u001b[32mlaptop stand\u001b[0m\u001b[1;32m)\u001b[0m\u001b[32m and a piece of furniture/home decor \u001b[0m\u001b[1;32m(\u001b[0m\u001b[32mfor the kitchen\u001b[0m\u001b[1;32m)\u001b[0m\u001b[32m. \u001b[0m\n",
       "\u001b[32mWithout further clarification in the instructions, it is difficult to determine the correct label.\u001b[0m\n",
       "\n"
      ]
     },
     "metadata": {},
     "output_type": "display_data"
    },
    {
     "data": {
      "text/html": [
       "<pre style=\"white-space:pre;overflow-x:auto;line-height:normal;font-family:Menlo,'DejaVu Sans Mono',consolas,'Courier New',monospace\">Improve <span style=\"color: #008000; text-decoration-color: #008000\">\"product_category_classification\"</span> skill based on analysis <span style=\"color: #808000; text-decoration-color: #808000\">...</span>\n",
       "</pre>\n"
      ],
      "text/plain": [
       "Improve \u001b[32m\"product_category_classification\"\u001b[0m skill based on analysis \u001b[33m...\u001b[0m\n"
      ]
     },
     "metadata": {},
     "output_type": "display_data"
    },
    {
     "data": {
      "text/html": [
       "<pre style=\"white-space:pre;overflow-x:auto;line-height:normal;font-family:Menlo,'DejaVu Sans Mono',consolas,'Courier New',monospace\">Updated instructions for skill <span style=\"color: #008000; text-decoration-color: #008000\">\"product_category_classification\"</span>:\n",
       "\n",
       "</pre>\n"
      ],
      "text/plain": [
       "Updated instructions for skill \u001b[32m\"product_category_classification\"\u001b[0m:\n",
       "\n"
      ]
     },
     "metadata": {},
     "output_type": "display_data"
    },
    {
     "data": {
      "text/html": [
       "<pre style=\"white-space:pre;overflow-x:auto;line-height:normal;font-family:Menlo,'DejaVu Sans Mono',consolas,'Courier New',monospace\"><span style=\"color: #008000; text-decoration-color: #008000; font-weight: bold\">Label the input text with the most relevant label based on the primary function or purpose of the product. If the </span>\n",
       "<span style=\"color: #008000; text-decoration-color: #008000; font-weight: bold\">product can be categorized into multiple labels, prioritize the label that best represents the primary function or </span>\n",
       "<span style=\"color: #008000; text-decoration-color: #008000; font-weight: bold\">purpose. If it is still unclear, choose the label that is most commonly associated with similar products.</span>\n",
       "\n",
       "<span style=\"color: #008000; text-decoration-color: #008000; font-weight: bold\">Input: Laptop stand for the kitchen.</span>\n",
       "<span style=\"color: #008000; text-decoration-color: #008000; font-weight: bold\">Output: Furniture/Home Decor</span>\n",
       "\n",
       "<span style=\"color: #008000; text-decoration-color: #008000; font-weight: bold\">Input: Smartwatch with fitness tracking features.</span>\n",
       "<span style=\"color: #008000; text-decoration-color: #008000; font-weight: bold\">Output: Electronics</span>\n",
       "\n",
       "<span style=\"color: #008000; text-decoration-color: #008000; font-weight: bold\">Input: Organic dark chocolate bar.</span>\n",
       "<span style=\"color: #008000; text-decoration-color: #008000; font-weight: bold\">Output: Food/Beverages</span>\n",
       "</pre>\n"
      ],
      "text/plain": [
       "\u001b[1;32mLabel the input text with the most relevant label based on the primary function or purpose of the product. If the \u001b[0m\n",
       "\u001b[1;32mproduct can be categorized into multiple labels, prioritize the label that best represents the primary function or \u001b[0m\n",
       "\u001b[1;32mpurpose. If it is still unclear, choose the label that is most commonly associated with similar products.\u001b[0m\n",
       "\n",
       "\u001b[1;32mInput: Laptop stand for the kitchen.\u001b[0m\n",
       "\u001b[1;32mOutput: Furniture/Home Decor\u001b[0m\n",
       "\n",
       "\u001b[1;32mInput: Smartwatch with fitness tracking features.\u001b[0m\n",
       "\u001b[1;32mOutput: Electronics\u001b[0m\n",
       "\n",
       "\u001b[1;32mInput: Organic dark chocolate bar.\u001b[0m\n",
       "\u001b[1;32mOutput: Food/Beverages\u001b[0m\n"
      ]
     },
     "metadata": {},
     "output_type": "display_data"
    },
    {
     "data": {
      "text/html": [
       "<pre style=\"white-space:pre;overflow-x:auto;line-height:normal;font-family:Menlo,'DejaVu Sans Mono',consolas,'Courier New',monospace\">Re-apply product_category_classification skill to dataset <span style=\"color: #808000; text-decoration-color: #808000\">...</span>\n",
       "</pre>\n"
      ],
      "text/plain": [
       "Re-apply product_category_classification skill to dataset \u001b[33m...\u001b[0m\n"
      ]
     },
     "metadata": {},
     "output_type": "display_data"
    },
    {
     "data": {
      "text/html": [
       "<pre style=\"white-space:pre;overflow-x:auto;line-height:normal;font-family:Menlo,'DejaVu Sans Mono',consolas,'Courier New',monospace\">Applying skill: product_category_classification\n",
       "</pre>\n"
      ],
      "text/plain": [
       "Applying skill: product_category_classification\n"
      ]
     },
     "metadata": {},
     "output_type": "display_data"
    },
    {
     "name": "stderr",
     "output_type": "stream",
     "text": [
      "100%|████████████████████████████████| 5/5 [00:01<00:00,  3.32it/s]\n"
     ]
    },
    {
     "data": {
      "text/html": [
       "<pre style=\"white-space:pre;overflow-x:auto;line-height:normal;font-family:Menlo,'DejaVu Sans Mono',consolas,'Courier New',monospace\">\n",
       "\n",
       "=&gt; Iteration #<span style=\"color: #008080; text-decoration-color: #008080; font-weight: bold\">1</span>: Comparing to ground truth, analyzing and improving <span style=\"color: #808000; text-decoration-color: #808000\">...</span>\n",
       "</pre>\n"
      ],
      "text/plain": [
       "\n",
       "\n",
       "=> Iteration #\u001b[1;36m1\u001b[0m: Comparing to ground truth, analyzing and improving \u001b[33m...\u001b[0m\n"
      ]
     },
     "metadata": {},
     "output_type": "display_data"
    },
    {
     "data": {
      "text/html": [
       "<pre style=\"white-space:pre;overflow-x:auto;line-height:normal;font-family:Menlo,'DejaVu Sans Mono',consolas,'Courier New',monospace\">Comparing predictions to ground truth data <span style=\"color: #808000; text-decoration-color: #808000\">...</span>\n",
       "</pre>\n"
      ],
      "text/plain": [
       "Comparing predictions to ground truth data \u001b[33m...\u001b[0m\n"
      ]
     },
     "metadata": {},
     "output_type": "display_data"
    },
    {
     "data": {
      "text/html": [
       "<pre style=\"white-space:pre;overflow-x:auto;line-height:normal;font-family:Menlo,'DejaVu Sans Mono',consolas,'Courier New',monospace\">                                                                                                                   \n",
       " <span style=\"color: #800080; text-decoration-color: #800080; font-weight: bold\"> text                 </span> <span style=\"color: #800080; text-decoration-color: #800080; font-weight: bold\"> category             </span> <span style=\"color: #800080; text-decoration-color: #800080; font-weight: bold\"> product_category_cl… </span> <span style=\"color: #800080; text-decoration-color: #800080; font-weight: bold\"> score                </span> <span style=\"color: #800080; text-decoration-color: #800080; font-weight: bold\"> product_category_c… </span> \n",
       " ───────────────────────────────────────────────────────────────────────────────────────────────────────────────── \n",
       "  Apple product with a   Electronics            Electronics            {'Footwear/Clothing…   True                 \n",
       "  sleek design.                                                        -23.812187,                                 \n",
       "                                                                       'Electronics':                              \n",
       "                                                                       -1.9361265000364793…                        \n",
       "                                                                       'Food/Beverages':                           \n",
       "                                                                       -20.240387,                                 \n",
       "                                                                       'Furniture/Home                             \n",
       "                                                                       Decor': -15.734467,                         \n",
       "                                                                       'Beauty/Personal                            \n",
       "                                                                       Care': -17.71083}                           \n",
       " <span style=\"color: #7f7f7f; text-decoration-color: #7f7f7f\"> Laptop stand for the </span> <span style=\"color: #7f7f7f; text-decoration-color: #7f7f7f\"> Furniture/Home Decor </span> <span style=\"color: #7f7f7f; text-decoration-color: #7f7f7f\"> Furniture/Home Decor </span> <span style=\"color: #7f7f7f; text-decoration-color: #7f7f7f\"> {'Footwear/Clothing… </span> <span style=\"color: #7f7f7f; text-decoration-color: #7f7f7f\"> True                </span> \n",
       " <span style=\"color: #7f7f7f; text-decoration-color: #7f7f7f\"> kitchen.             </span> <span style=\"color: #7f7f7f; text-decoration-color: #7f7f7f\">                      </span> <span style=\"color: #7f7f7f; text-decoration-color: #7f7f7f\">                      </span> <span style=\"color: #7f7f7f; text-decoration-color: #7f7f7f\"> -16.188046,          </span> <span style=\"color: #7f7f7f; text-decoration-color: #7f7f7f\">                     </span> \n",
       " <span style=\"color: #7f7f7f; text-decoration-color: #7f7f7f\">                      </span> <span style=\"color: #7f7f7f; text-decoration-color: #7f7f7f\">                      </span> <span style=\"color: #7f7f7f; text-decoration-color: #7f7f7f\">                      </span> <span style=\"color: #7f7f7f; text-decoration-color: #7f7f7f\"> 'Electronics':       </span> <span style=\"color: #7f7f7f; text-decoration-color: #7f7f7f\">                     </span> \n",
       " <span style=\"color: #7f7f7f; text-decoration-color: #7f7f7f\">                      </span> <span style=\"color: #7f7f7f; text-decoration-color: #7f7f7f\">                      </span> <span style=\"color: #7f7f7f; text-decoration-color: #7f7f7f\">                      </span> <span style=\"color: #7f7f7f; text-decoration-color: #7f7f7f\"> -3.246235,           </span> <span style=\"color: #7f7f7f; text-decoration-color: #7f7f7f\">                     </span> \n",
       " <span style=\"color: #7f7f7f; text-decoration-color: #7f7f7f\">                      </span> <span style=\"color: #7f7f7f; text-decoration-color: #7f7f7f\">                      </span> <span style=\"color: #7f7f7f; text-decoration-color: #7f7f7f\">                      </span> <span style=\"color: #7f7f7f; text-decoration-color: #7f7f7f\"> 'Food/Beverages':    </span> <span style=\"color: #7f7f7f; text-decoration-color: #7f7f7f\">                     </span> \n",
       " <span style=\"color: #7f7f7f; text-decoration-color: #7f7f7f\">                      </span> <span style=\"color: #7f7f7f; text-decoration-color: #7f7f7f\">                      </span> <span style=\"color: #7f7f7f; text-decoration-color: #7f7f7f\">                      </span> <span style=\"color: #7f7f7f; text-decoration-color: #7f7f7f\"> -11.704685,          </span> <span style=\"color: #7f7f7f; text-decoration-color: #7f7f7f\">                     </span> \n",
       " <span style=\"color: #7f7f7f; text-decoration-color: #7f7f7f\">                      </span> <span style=\"color: #7f7f7f; text-decoration-color: #7f7f7f\">                      </span> <span style=\"color: #7f7f7f; text-decoration-color: #7f7f7f\">                      </span> <span style=\"color: #7f7f7f; text-decoration-color: #7f7f7f\"> 'Furniture/Home      </span> <span style=\"color: #7f7f7f; text-decoration-color: #7f7f7f\">                     </span> \n",
       " <span style=\"color: #7f7f7f; text-decoration-color: #7f7f7f\">                      </span> <span style=\"color: #7f7f7f; text-decoration-color: #7f7f7f\">                      </span> <span style=\"color: #7f7f7f; text-decoration-color: #7f7f7f\">                      </span> <span style=\"color: #7f7f7f; text-decoration-color: #7f7f7f\"> Decor':              </span> <span style=\"color: #7f7f7f; text-decoration-color: #7f7f7f\">                     </span> \n",
       " <span style=\"color: #7f7f7f; text-decoration-color: #7f7f7f\">                      </span> <span style=\"color: #7f7f7f; text-decoration-color: #7f7f7f\">                      </span> <span style=\"color: #7f7f7f; text-decoration-color: #7f7f7f\">                      </span> <span style=\"color: #7f7f7f; text-decoration-color: #7f7f7f\"> -0.039707113,        </span> <span style=\"color: #7f7f7f; text-decoration-color: #7f7f7f\">                     </span> \n",
       " <span style=\"color: #7f7f7f; text-decoration-color: #7f7f7f\">                      </span> <span style=\"color: #7f7f7f; text-decoration-color: #7f7f7f\">                      </span> <span style=\"color: #7f7f7f; text-decoration-color: #7f7f7f\">                      </span> <span style=\"color: #7f7f7f; text-decoration-color: #7f7f7f\"> 'Beauty/Personal     </span> <span style=\"color: #7f7f7f; text-decoration-color: #7f7f7f\">                     </span> \n",
       " <span style=\"color: #7f7f7f; text-decoration-color: #7f7f7f\">                      </span> <span style=\"color: #7f7f7f; text-decoration-color: #7f7f7f\">                      </span> <span style=\"color: #7f7f7f; text-decoration-color: #7f7f7f\">                      </span> <span style=\"color: #7f7f7f; text-decoration-color: #7f7f7f\"> Care': -15.307133}   </span> <span style=\"color: #7f7f7f; text-decoration-color: #7f7f7f\">                     </span> \n",
       "  Chocolate leather      Footwear/Clothing      Footwear/Clothing      {'Footwear/Clothing…   True                 \n",
       "  boots.                                                               -0.0002129574700000…                        \n",
       "                                                                       'Electronics':                              \n",
       "                                                                       -14.297362,                                 \n",
       "                                                                       'Food/Beverages':                           \n",
       "                                                                       -13.440421,                                 \n",
       "                                                                       'Furniture/Home                             \n",
       "                                                                       Decor': -10.221389,                         \n",
       "                                                                       'Beauty/Personal                            \n",
       "                                                                       Care': -8.653571}                           \n",
       " <span style=\"color: #7f7f7f; text-decoration-color: #7f7f7f\"> Wooden cream for     </span> <span style=\"color: #7f7f7f; text-decoration-color: #7f7f7f\"> Furniture/Home Decor </span> <span style=\"color: #7f7f7f; text-decoration-color: #7f7f7f\"> Furniture/Home Decor </span> <span style=\"color: #7f7f7f; text-decoration-color: #7f7f7f\"> {'Footwear/Clothing… </span> <span style=\"color: #7f7f7f; text-decoration-color: #7f7f7f\"> True                </span> \n",
       " <span style=\"color: #7f7f7f; text-decoration-color: #7f7f7f\"> surfaces.            </span> <span style=\"color: #7f7f7f; text-decoration-color: #7f7f7f\">                      </span> <span style=\"color: #7f7f7f; text-decoration-color: #7f7f7f\">                      </span> <span style=\"color: #7f7f7f; text-decoration-color: #7f7f7f\"> -15.676728,          </span> <span style=\"color: #7f7f7f; text-decoration-color: #7f7f7f\">                     </span> \n",
       " <span style=\"color: #7f7f7f; text-decoration-color: #7f7f7f\">                      </span> <span style=\"color: #7f7f7f; text-decoration-color: #7f7f7f\">                      </span> <span style=\"color: #7f7f7f; text-decoration-color: #7f7f7f\">                      </span> <span style=\"color: #7f7f7f; text-decoration-color: #7f7f7f\"> 'Electronics':       </span> <span style=\"color: #7f7f7f; text-decoration-color: #7f7f7f\">                     </span> \n",
       " <span style=\"color: #7f7f7f; text-decoration-color: #7f7f7f\">                      </span> <span style=\"color: #7f7f7f; text-decoration-color: #7f7f7f\">                      </span> <span style=\"color: #7f7f7f; text-decoration-color: #7f7f7f\">                      </span> <span style=\"color: #7f7f7f; text-decoration-color: #7f7f7f\"> -12.5098505,         </span> <span style=\"color: #7f7f7f; text-decoration-color: #7f7f7f\">                     </span> \n",
       " <span style=\"color: #7f7f7f; text-decoration-color: #7f7f7f\">                      </span> <span style=\"color: #7f7f7f; text-decoration-color: #7f7f7f\">                      </span> <span style=\"color: #7f7f7f; text-decoration-color: #7f7f7f\">                      </span> <span style=\"color: #7f7f7f; text-decoration-color: #7f7f7f\"> 'Food/Beverages':    </span> <span style=\"color: #7f7f7f; text-decoration-color: #7f7f7f\">                     </span> \n",
       " <span style=\"color: #7f7f7f; text-decoration-color: #7f7f7f\">                      </span> <span style=\"color: #7f7f7f; text-decoration-color: #7f7f7f\">                      </span> <span style=\"color: #7f7f7f; text-decoration-color: #7f7f7f\">                      </span> <span style=\"color: #7f7f7f; text-decoration-color: #7f7f7f\"> -10.770715,          </span> <span style=\"color: #7f7f7f; text-decoration-color: #7f7f7f\">                     </span> \n",
       " <span style=\"color: #7f7f7f; text-decoration-color: #7f7f7f\">                      </span> <span style=\"color: #7f7f7f; text-decoration-color: #7f7f7f\">                      </span> <span style=\"color: #7f7f7f; text-decoration-color: #7f7f7f\">                      </span> <span style=\"color: #7f7f7f; text-decoration-color: #7f7f7f\"> 'Furniture/Home      </span> <span style=\"color: #7f7f7f; text-decoration-color: #7f7f7f\">                     </span> \n",
       " <span style=\"color: #7f7f7f; text-decoration-color: #7f7f7f\">                      </span> <span style=\"color: #7f7f7f; text-decoration-color: #7f7f7f\">                      </span> <span style=\"color: #7f7f7f; text-decoration-color: #7f7f7f\">                      </span> <span style=\"color: #7f7f7f; text-decoration-color: #7f7f7f\"> Decor':              </span> <span style=\"color: #7f7f7f; text-decoration-color: #7f7f7f\">                     </span> \n",
       " <span style=\"color: #7f7f7f; text-decoration-color: #7f7f7f\">                      </span> <span style=\"color: #7f7f7f; text-decoration-color: #7f7f7f\">                      </span> <span style=\"color: #7f7f7f; text-decoration-color: #7f7f7f\">                      </span> <span style=\"color: #7f7f7f; text-decoration-color: #7f7f7f\"> -0.0001917392200000… </span> <span style=\"color: #7f7f7f; text-decoration-color: #7f7f7f\">                     </span> \n",
       " <span style=\"color: #7f7f7f; text-decoration-color: #7f7f7f\">                      </span> <span style=\"color: #7f7f7f; text-decoration-color: #7f7f7f\">                      </span> <span style=\"color: #7f7f7f; text-decoration-color: #7f7f7f\">                      </span> <span style=\"color: #7f7f7f; text-decoration-color: #7f7f7f\"> 'Beauty/Personal     </span> <span style=\"color: #7f7f7f; text-decoration-color: #7f7f7f\">                     </span> \n",
       " <span style=\"color: #7f7f7f; text-decoration-color: #7f7f7f\">                      </span> <span style=\"color: #7f7f7f; text-decoration-color: #7f7f7f\">                      </span> <span style=\"color: #7f7f7f; text-decoration-color: #7f7f7f\">                      </span> <span style=\"color: #7f7f7f; text-decoration-color: #7f7f7f\"> Care': -8.698747}    </span> <span style=\"color: #7f7f7f; text-decoration-color: #7f7f7f\">                     </span> \n",
       "  Natural finish for     Beauty/Personal Care   Beauty/Personal Care   {'Footwear/Clothing…   True                 \n",
       "  your lips.                                                           -18.403374,                                 \n",
       "                                                                       'Electronics':                              \n",
       "                                                                       -17.621948,                                 \n",
       "                                                                       'Food/Beverages':                           \n",
       "                                                                       -14.839035,                                 \n",
       "                                                                       'Furniture/Home                             \n",
       "                                                                       Decor': -18.330505,                         \n",
       "                                                                       'Beauty/Personal                            \n",
       "                                                                       Care':                                      \n",
       "                                                                       -4.3201999994718403…                        \n",
       "                                                                                                                   \n",
       "</pre>\n"
      ],
      "text/plain": [
       "                                                                                                                   \n",
       " \u001b[1;35m \u001b[0m\u001b[1;35mtext                \u001b[0m\u001b[1;35m \u001b[0m \u001b[1;35m \u001b[0m\u001b[1;35mcategory            \u001b[0m\u001b[1;35m \u001b[0m \u001b[1;35m \u001b[0m\u001b[1;35mproduct_category_cl…\u001b[0m\u001b[1;35m \u001b[0m \u001b[1;35m \u001b[0m\u001b[1;35mscore               \u001b[0m\u001b[1;35m \u001b[0m \u001b[1;35m \u001b[0m\u001b[1;35mproduct_category_c…\u001b[0m\u001b[1;35m \u001b[0m \n",
       " ───────────────────────────────────────────────────────────────────────────────────────────────────────────────── \n",
       "  Apple product with a   Electronics            Electronics            {'Footwear/Clothing…   True                 \n",
       "  sleek design.                                                        -23.812187,                                 \n",
       "                                                                       'Electronics':                              \n",
       "                                                                       -1.9361265000364793…                        \n",
       "                                                                       'Food/Beverages':                           \n",
       "                                                                       -20.240387,                                 \n",
       "                                                                       'Furniture/Home                             \n",
       "                                                                       Decor': -15.734467,                         \n",
       "                                                                       'Beauty/Personal                            \n",
       "                                                                       Care': -17.71083}                           \n",
       " \u001b[2m \u001b[0m\u001b[2mLaptop stand for the\u001b[0m\u001b[2m \u001b[0m \u001b[2m \u001b[0m\u001b[2mFurniture/Home Decor\u001b[0m\u001b[2m \u001b[0m \u001b[2m \u001b[0m\u001b[2mFurniture/Home Decor\u001b[0m\u001b[2m \u001b[0m \u001b[2m \u001b[0m\u001b[2m{'Footwear/Clothing…\u001b[0m\u001b[2m \u001b[0m \u001b[2m \u001b[0m\u001b[2mTrue               \u001b[0m\u001b[2m \u001b[0m \n",
       " \u001b[2m \u001b[0m\u001b[2mkitchen.            \u001b[0m\u001b[2m \u001b[0m \u001b[2m                      \u001b[0m \u001b[2m                      \u001b[0m \u001b[2m \u001b[0m\u001b[2m-16.188046,         \u001b[0m\u001b[2m \u001b[0m \u001b[2m                     \u001b[0m \n",
       " \u001b[2m                      \u001b[0m \u001b[2m                      \u001b[0m \u001b[2m                      \u001b[0m \u001b[2m \u001b[0m\u001b[2m'Electronics':      \u001b[0m\u001b[2m \u001b[0m \u001b[2m                     \u001b[0m \n",
       " \u001b[2m                      \u001b[0m \u001b[2m                      \u001b[0m \u001b[2m                      \u001b[0m \u001b[2m \u001b[0m\u001b[2m-3.246235,          \u001b[0m\u001b[2m \u001b[0m \u001b[2m                     \u001b[0m \n",
       " \u001b[2m                      \u001b[0m \u001b[2m                      \u001b[0m \u001b[2m                      \u001b[0m \u001b[2m \u001b[0m\u001b[2m'Food/Beverages':   \u001b[0m\u001b[2m \u001b[0m \u001b[2m                     \u001b[0m \n",
       " \u001b[2m                      \u001b[0m \u001b[2m                      \u001b[0m \u001b[2m                      \u001b[0m \u001b[2m \u001b[0m\u001b[2m-11.704685,         \u001b[0m\u001b[2m \u001b[0m \u001b[2m                     \u001b[0m \n",
       " \u001b[2m                      \u001b[0m \u001b[2m                      \u001b[0m \u001b[2m                      \u001b[0m \u001b[2m \u001b[0m\u001b[2m'Furniture/Home     \u001b[0m\u001b[2m \u001b[0m \u001b[2m                     \u001b[0m \n",
       " \u001b[2m                      \u001b[0m \u001b[2m                      \u001b[0m \u001b[2m                      \u001b[0m \u001b[2m \u001b[0m\u001b[2mDecor':             \u001b[0m\u001b[2m \u001b[0m \u001b[2m                     \u001b[0m \n",
       " \u001b[2m                      \u001b[0m \u001b[2m                      \u001b[0m \u001b[2m                      \u001b[0m \u001b[2m \u001b[0m\u001b[2m-0.039707113,       \u001b[0m\u001b[2m \u001b[0m \u001b[2m                     \u001b[0m \n",
       " \u001b[2m                      \u001b[0m \u001b[2m                      \u001b[0m \u001b[2m                      \u001b[0m \u001b[2m \u001b[0m\u001b[2m'Beauty/Personal    \u001b[0m\u001b[2m \u001b[0m \u001b[2m                     \u001b[0m \n",
       " \u001b[2m                      \u001b[0m \u001b[2m                      \u001b[0m \u001b[2m                      \u001b[0m \u001b[2m \u001b[0m\u001b[2mCare': -15.307133}  \u001b[0m\u001b[2m \u001b[0m \u001b[2m                     \u001b[0m \n",
       "  Chocolate leather      Footwear/Clothing      Footwear/Clothing      {'Footwear/Clothing…   True                 \n",
       "  boots.                                                               -0.0002129574700000…                        \n",
       "                                                                       'Electronics':                              \n",
       "                                                                       -14.297362,                                 \n",
       "                                                                       'Food/Beverages':                           \n",
       "                                                                       -13.440421,                                 \n",
       "                                                                       'Furniture/Home                             \n",
       "                                                                       Decor': -10.221389,                         \n",
       "                                                                       'Beauty/Personal                            \n",
       "                                                                       Care': -8.653571}                           \n",
       " \u001b[2m \u001b[0m\u001b[2mWooden cream for    \u001b[0m\u001b[2m \u001b[0m \u001b[2m \u001b[0m\u001b[2mFurniture/Home Decor\u001b[0m\u001b[2m \u001b[0m \u001b[2m \u001b[0m\u001b[2mFurniture/Home Decor\u001b[0m\u001b[2m \u001b[0m \u001b[2m \u001b[0m\u001b[2m{'Footwear/Clothing…\u001b[0m\u001b[2m \u001b[0m \u001b[2m \u001b[0m\u001b[2mTrue               \u001b[0m\u001b[2m \u001b[0m \n",
       " \u001b[2m \u001b[0m\u001b[2msurfaces.           \u001b[0m\u001b[2m \u001b[0m \u001b[2m                      \u001b[0m \u001b[2m                      \u001b[0m \u001b[2m \u001b[0m\u001b[2m-15.676728,         \u001b[0m\u001b[2m \u001b[0m \u001b[2m                     \u001b[0m \n",
       " \u001b[2m                      \u001b[0m \u001b[2m                      \u001b[0m \u001b[2m                      \u001b[0m \u001b[2m \u001b[0m\u001b[2m'Electronics':      \u001b[0m\u001b[2m \u001b[0m \u001b[2m                     \u001b[0m \n",
       " \u001b[2m                      \u001b[0m \u001b[2m                      \u001b[0m \u001b[2m                      \u001b[0m \u001b[2m \u001b[0m\u001b[2m-12.5098505,        \u001b[0m\u001b[2m \u001b[0m \u001b[2m                     \u001b[0m \n",
       " \u001b[2m                      \u001b[0m \u001b[2m                      \u001b[0m \u001b[2m                      \u001b[0m \u001b[2m \u001b[0m\u001b[2m'Food/Beverages':   \u001b[0m\u001b[2m \u001b[0m \u001b[2m                     \u001b[0m \n",
       " \u001b[2m                      \u001b[0m \u001b[2m                      \u001b[0m \u001b[2m                      \u001b[0m \u001b[2m \u001b[0m\u001b[2m-10.770715,         \u001b[0m\u001b[2m \u001b[0m \u001b[2m                     \u001b[0m \n",
       " \u001b[2m                      \u001b[0m \u001b[2m                      \u001b[0m \u001b[2m                      \u001b[0m \u001b[2m \u001b[0m\u001b[2m'Furniture/Home     \u001b[0m\u001b[2m \u001b[0m \u001b[2m                     \u001b[0m \n",
       " \u001b[2m                      \u001b[0m \u001b[2m                      \u001b[0m \u001b[2m                      \u001b[0m \u001b[2m \u001b[0m\u001b[2mDecor':             \u001b[0m\u001b[2m \u001b[0m \u001b[2m                     \u001b[0m \n",
       " \u001b[2m                      \u001b[0m \u001b[2m                      \u001b[0m \u001b[2m                      \u001b[0m \u001b[2m \u001b[0m\u001b[2m-0.0001917392200000…\u001b[0m\u001b[2m \u001b[0m \u001b[2m                     \u001b[0m \n",
       " \u001b[2m                      \u001b[0m \u001b[2m                      \u001b[0m \u001b[2m                      \u001b[0m \u001b[2m \u001b[0m\u001b[2m'Beauty/Personal    \u001b[0m\u001b[2m \u001b[0m \u001b[2m                     \u001b[0m \n",
       " \u001b[2m                      \u001b[0m \u001b[2m                      \u001b[0m \u001b[2m                      \u001b[0m \u001b[2m \u001b[0m\u001b[2mCare': -8.698747}   \u001b[0m\u001b[2m \u001b[0m \u001b[2m                     \u001b[0m \n",
       "  Natural finish for     Beauty/Personal Care   Beauty/Personal Care   {'Footwear/Clothing…   True                 \n",
       "  your lips.                                                           -18.403374,                                 \n",
       "                                                                       'Electronics':                              \n",
       "                                                                       -17.621948,                                 \n",
       "                                                                       'Food/Beverages':                           \n",
       "                                                                       -14.839035,                                 \n",
       "                                                                       'Furniture/Home                             \n",
       "                                                                       Decor': -18.330505,                         \n",
       "                                                                       'Beauty/Personal                            \n",
       "                                                                       Care':                                      \n",
       "                                                                       -4.3201999994718403…                        \n",
       "                                                                                                                   \n"
      ]
     },
     "metadata": {},
     "output_type": "display_data"
    },
    {
     "data": {
      "text/html": [
       "<pre style=\"white-space:pre;overflow-x:auto;line-height:normal;font-family:Menlo,'DejaVu Sans Mono',consolas,'Courier New',monospace\">No skill to improve found. Stopping learning process.\n",
       "</pre>\n"
      ],
      "text/plain": [
       "No skill to improve found. Stopping learning process.\n"
      ]
     },
     "metadata": {},
     "output_type": "display_data"
    },
    {
     "data": {
      "text/html": [
       "<pre style=\"white-space:pre;overflow-x:auto;line-height:normal;font-family:Menlo,'DejaVu Sans Mono',consolas,'Courier New',monospace\">Train is done!\n",
       "</pre>\n"
      ],
      "text/plain": [
       "Train is done!\n"
      ]
     },
     "metadata": {},
     "output_type": "display_data"
    },
    {
     "data": {
      "text/plain": [
       "GroundTruthSignal(match=   product_category_classification\n",
       "0                             True\n",
       "1                             True\n",
       "2                             True\n",
       "3                             True\n",
       "4                             True, errors={'product_category_classification': Empty DataFrame\n",
       "Columns: [predictions, category]\n",
       "Index: []})"
      ]
     },
     "execution_count": 2,
     "metadata": {},
     "output_type": "execute_result"
    }
   ],
   "source": [
    "from adala.agents import Agent\n",
    "from adala.environments import BasicEnvironment\n",
    "from adala.skills.labeling.classification import ClassificationSkill\n",
    "\n",
    "agent = Agent(\n",
    "    skills=ClassificationSkill(\n",
    "        name='product_category_classification',\n",
    "        input_data_field='text',\n",
    "        labels=[\n",
    "            \"Footwear/Clothing\",\n",
    "            \"Electronics\",\n",
    "            \"Food/Beverages\",\n",
    "            \"Furniture/Home Decor\",\n",
    "            \"Beauty/Personal Care\"\n",
    "        ],\n",
    "    ),\n",
    "    environment=BasicEnvironment(\n",
    "        ground_truth_dataset=df,\n",
    "        ground_truth_columns={'product_category_classification': 'category'}\n",
    "    )\n",
    ")\n",
    "\n",
    "agent.learn()"
   ]
  },
  {
   "cell_type": "code",
   "execution_count": 3,
   "metadata": {},
   "outputs": [
    {
     "data": {
      "text/html": [
       "<pre style=\"white-space:pre;overflow-x:auto;line-height:normal;font-family:Menlo,'DejaVu Sans Mono',consolas,'Courier New',monospace\"><span style=\"color: #000080; text-decoration-color: #000080; font-weight: bold\">Total Agent Skills: </span><span style=\"color: #000080; text-decoration-color: #000080; font-weight: bold\">1</span>\n",
       "\n",
       "<span style=\"color: #008000; text-decoration-color: #008000; font-weight: bold; text-decoration: underline\">product_category_classification</span>\n",
       "<span style=\"color: #008000; text-decoration-color: #008000\">Label the input text with the most relevant label based on the primary function or purpose of the product. If the </span>\n",
       "<span style=\"color: #008000; text-decoration-color: #008000\">product can be categorized into multiple labels, prioritize the label that best represents the primary function or </span>\n",
       "<span style=\"color: #008000; text-decoration-color: #008000\">purpose. If it is still unclear, choose the label that is most commonly associated with similar products.</span>\n",
       "\n",
       "<span style=\"color: #008000; text-decoration-color: #008000\">Input: Laptop stand for the kitchen.</span>\n",
       "<span style=\"color: #008000; text-decoration-color: #008000\">Output: Furniture/Home Decor</span>\n",
       "\n",
       "<span style=\"color: #008000; text-decoration-color: #008000\">Input: Smartwatch with fitness tracking features.</span>\n",
       "<span style=\"color: #008000; text-decoration-color: #008000\">Output: Electronics</span>\n",
       "\n",
       "<span style=\"color: #008000; text-decoration-color: #008000\">Input: Organic dark chocolate bar.</span>\n",
       "<span style=\"color: #008000; text-decoration-color: #008000\">Output: Food/Beverages</span>\n",
       "\n",
       "</pre>\n"
      ],
      "text/plain": [
       "\u001b[1;34mTotal Agent Skills: \u001b[0m\u001b[1;34m1\u001b[0m\n",
       "\n",
       "\u001b[1;4;32mproduct_category_classification\u001b[0m\n",
       "\u001b[32mLabel the input text with the most relevant label based on the primary function or purpose of the product. If the \u001b[0m\n",
       "\u001b[32mproduct can be categorized into multiple labels, prioritize the label that best represents the primary function or \u001b[0m\n",
       "\u001b[32mpurpose. If it is still unclear, choose the label that is most commonly associated with similar products.\u001b[0m\n",
       "\n",
       "\u001b[32mInput: Laptop stand for the kitchen.\u001b[0m\n",
       "\u001b[32mOutput: Furniture/Home Decor\u001b[0m\n",
       "\n",
       "\u001b[32mInput: Smartwatch with fitness tracking features.\u001b[0m\n",
       "\u001b[32mOutput: Electronics\u001b[0m\n",
       "\n",
       "\u001b[32mInput: Organic dark chocolate bar.\u001b[0m\n",
       "\u001b[32mOutput: Food/Beverages\u001b[0m\n",
       "\n"
      ]
     },
     "metadata": {},
     "output_type": "display_data"
    }
   ],
   "source": [
    "from rich import print\n",
    "\n",
    "print(agent.skills)"
   ]
  },
  {
   "cell_type": "code",
   "execution_count": 4,
   "metadata": {},
   "outputs": [
    {
     "data": {
      "text/html": [
       "<pre style=\"white-space:pre;overflow-x:auto;line-height:normal;font-family:Menlo,'DejaVu Sans Mono',consolas,'Courier New',monospace\">Applying skill: product_category_classification\n",
       "</pre>\n"
      ],
      "text/plain": [
       "Applying skill: product_category_classification\n"
      ]
     },
     "metadata": {},
     "output_type": "display_data"
    },
    {
     "name": "stderr",
     "output_type": "stream",
     "text": [
      "100%|████████████████████████████████| 5/5 [00:02<00:00,  1.78it/s]\n"
     ]
    }
   ],
   "source": [
    "test_df = pd.DataFrame([\n",
    "    \"Stainless steel apple peeler.\",  # Potential categories: Electronics or Food/Beverages\n",
    "    \"Silk finish touch screen.\",      # Potential categories: Electronics or Beauty/Personal Care\n",
    "    \"Chocolate coated boots.\",        # Potential categories: Footwear/Clothing or Food/Beverages\n",
    "    \"Natural wood fragrance.\",        # Potential categories: Beauty/Personal Care or Furniture/Home Decor\n",
    "    \"Leather grain snack bar.\"        # Potential categories: Footwear/Clothing or Food/Beverages\n",
    "], columns=['text'])\n",
    "\n",
    "predictions = agent.run(test_df)"
   ]
  },
  {
   "cell_type": "code",
   "execution_count": 5,
   "metadata": {},
   "outputs": [
    {
     "data": {
      "text/html": [
       "<div>\n",
       "<style scoped>\n",
       "    .dataframe tbody tr th:only-of-type {\n",
       "        vertical-align: middle;\n",
       "    }\n",
       "\n",
       "    .dataframe tbody tr th {\n",
       "        vertical-align: top;\n",
       "    }\n",
       "\n",
       "    .dataframe thead th {\n",
       "        text-align: right;\n",
       "    }\n",
       "</style>\n",
       "<table border=\"1\" class=\"dataframe\">\n",
       "  <thead>\n",
       "    <tr style=\"text-align: right;\">\n",
       "      <th></th>\n",
       "      <th>text</th>\n",
       "      <th>product_category_classification</th>\n",
       "      <th>score</th>\n",
       "    </tr>\n",
       "  </thead>\n",
       "  <tbody>\n",
       "    <tr>\n",
       "      <th>0</th>\n",
       "      <td>Stainless steel apple peeler.</td>\n",
       "      <td>Food/Beverages</td>\n",
       "      <td>{'Footwear/Clothing': -11.584652, 'Electronics...</td>\n",
       "    </tr>\n",
       "    <tr>\n",
       "      <th>1</th>\n",
       "      <td>Silk finish touch screen.</td>\n",
       "      <td>Electronics</td>\n",
       "      <td>{'Footwear/Clothing': -18.90214, 'Electronics'...</td>\n",
       "    </tr>\n",
       "    <tr>\n",
       "      <th>2</th>\n",
       "      <td>Chocolate coated boots.</td>\n",
       "      <td>Footwear/Clothing</td>\n",
       "      <td>{'Footwear/Clothing': -0.20086760000000006, 'E...</td>\n",
       "    </tr>\n",
       "    <tr>\n",
       "      <th>3</th>\n",
       "      <td>Natural wood fragrance.</td>\n",
       "      <td>Beauty/Personal Care</td>\n",
       "      <td>{'Footwear/Clothing': -14.69353, 'Electronics'...</td>\n",
       "    </tr>\n",
       "    <tr>\n",
       "      <th>4</th>\n",
       "      <td>Leather grain snack bar.</td>\n",
       "      <td>Food/Beverages</td>\n",
       "      <td>{'Footwear/Clothing': -16.15361, 'Electronics'...</td>\n",
       "    </tr>\n",
       "  </tbody>\n",
       "</table>\n",
       "</div>"
      ],
      "text/plain": [
       "                            text product_category_classification  \\\n",
       "0  Stainless steel apple peeler.                  Food/Beverages   \n",
       "1      Silk finish touch screen.                     Electronics   \n",
       "2        Chocolate coated boots.               Footwear/Clothing   \n",
       "3        Natural wood fragrance.            Beauty/Personal Care   \n",
       "4       Leather grain snack bar.                  Food/Beverages   \n",
       "\n",
       "                                               score  \n",
       "0  {'Footwear/Clothing': -11.584652, 'Electronics...  \n",
       "1  {'Footwear/Clothing': -18.90214, 'Electronics'...  \n",
       "2  {'Footwear/Clothing': -0.20086760000000006, 'E...  \n",
       "3  {'Footwear/Clothing': -14.69353, 'Electronics'...  \n",
       "4  {'Footwear/Clothing': -16.15361, 'Electronics'...  "
      ]
     },
     "execution_count": 5,
     "metadata": {},
     "output_type": "execute_result"
    }
   ],
   "source": [
    "predictions"
   ]
  }
 ],
 "metadata": {
  "kernelspec": {
   "display_name": "adala",
   "language": "python",
   "name": "adala"
  },
  "language_info": {
   "codemirror_mode": {
    "name": "ipython",
    "version": 3
   },
   "file_extension": ".py",
   "mimetype": "text/x-python",
   "name": "python",
   "nbconvert_exporter": "python",
   "pygments_lexer": "ipython3",
   "version": "3.11.5"
  }
 },
 "nbformat": 4,
 "nbformat_minor": 5
}
