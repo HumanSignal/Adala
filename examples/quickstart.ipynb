{
 "cells": [
  {
   "cell_type": "markdown",
   "metadata": {},
   "source": [
    "# ADALA Quickstart\n",
    "\n",
    "In this notebook, we are going to run through some of the common tasks for creating data labeling agents with ADALA. In this example, we're going to create a data labeling agent for a text classification task - labeling our text samples as either \"Subjective or \"Objective\" statements. \n",
    "\n",
    "This agent will be LLM-based, so we will use [OpenAI's API](https://platform.openai.com/). You will to generate an API key and set it as an environment variable as follows: \n",
    "\n",
    "```\n",
    "export OPENAI_API_KEY=your_openai_api_key\n",
    "```\n",
    "\n",
    "Now, let's begin. "
   ]
  },
  {
   "cell_type": "markdown",
   "metadata": {},
   "source": [
    "## Dataset Creation\n",
    "First, let's use a dataset of product reviews stored in pandas dataframe. This will help us manage our data as we add more attributes, like predictions and labels for subjectivity and objectivity over time. "
   ]
  },
  {
   "cell_type": "code",
   "execution_count": 1,
   "metadata": {},
   "outputs": [
    {
     "data": {
      "text/html": [
       "<div>\n",
       "<style scoped>\n",
       "    .dataframe tbody tr th:only-of-type {\n",
       "        vertical-align: middle;\n",
       "    }\n",
       "\n",
       "    .dataframe tbody tr th {\n",
       "        vertical-align: top;\n",
       "    }\n",
       "\n",
       "    .dataframe thead th {\n",
       "        text-align: right;\n",
       "    }\n",
       "</style>\n",
       "<table border=\"1\" class=\"dataframe\">\n",
       "  <thead>\n",
       "    <tr style=\"text-align: right;\">\n",
       "      <th></th>\n",
       "      <th>text</th>\n",
       "      <th>ground_truth</th>\n",
       "    </tr>\n",
       "  </thead>\n",
       "  <tbody>\n",
       "    <tr>\n",
       "      <th>0</th>\n",
       "      <td>The mic is great.</td>\n",
       "      <td>Subjective</td>\n",
       "    </tr>\n",
       "    <tr>\n",
       "      <th>1</th>\n",
       "      <td>Will order from them again!</td>\n",
       "      <td>Subjective</td>\n",
       "    </tr>\n",
       "    <tr>\n",
       "      <th>2</th>\n",
       "      <td>Not loud enough and doesn't turn on like it sh...</td>\n",
       "      <td>Objective</td>\n",
       "    </tr>\n",
       "    <tr>\n",
       "      <th>3</th>\n",
       "      <td>The phone doesn't seem to accept anything exce...</td>\n",
       "      <td>Objective</td>\n",
       "    </tr>\n",
       "    <tr>\n",
       "      <th>4</th>\n",
       "      <td>All three broke within two months of use.</td>\n",
       "      <td>Objective</td>\n",
       "    </tr>\n",
       "  </tbody>\n",
       "</table>\n",
       "</div>"
      ],
      "text/plain": [
       "                                                text ground_truth\n",
       "0                                  The mic is great.   Subjective\n",
       "1                        Will order from them again!   Subjective\n",
       "2  Not loud enough and doesn't turn on like it sh...    Objective\n",
       "3  The phone doesn't seem to accept anything exce...    Objective\n",
       "4          All three broke within two months of use.    Objective"
      ]
     },
     "execution_count": 1,
     "metadata": {},
     "output_type": "execute_result"
    }
   ],
   "source": [
    "import pandas as pd\n",
    "\n",
    "df = pd.DataFrame([\n",
    "    [\"The mic is great.\", \"Subjective\"],\n",
    "    [\"Will order from them again!\", \"Subjective\"],\n",
    "    [\"Not loud enough and doesn't turn on like it should.\", \"Objective\"],\n",
    "    [\"The phone doesn't seem to accept anything except CBR mp3s\", \"Objective\"],\n",
    "    [\"All three broke within two months of use.\", \"Objective\"]\n",
    "], columns=[\"text\", \"ground_truth\"])\n",
    "\n",
    "df"
   ]
  },
  {
   "cell_type": "markdown",
   "metadata": {},
   "source": [
    "We instantiate Dataset that uses this pandas dataframe as a data source. Dataset object takes care of input data schema and data streaming:"
   ]
  },
  {
   "cell_type": "code",
   "execution_count": 2,
   "metadata": {},
   "outputs": [],
   "source": [
    "from adala.datasets import DataFrameDataset\n",
    "\n",
    "dataset = DataFrameDataset(df=df)"
   ]
  },
  {
   "cell_type": "markdown",
   "metadata": {},
   "source": [
    "## Create Agent\n",
    "\n",
    "To create Agent, we need to to define 2 things:\n",
    "\n",
    "**Skills** - Agent's abilities are defined as _Skills_. Each agent can possess many different skills. In our case, this agent only has one labeling skill, to produce a classification of Subjective or Objective for a given piece of text.  To define this skill, we will leverage an LLM, passing it instructions and the set of labeles we expect to receive back. \n",
    "\n",
    "**Environment** - that is where the Agent receives ground truth signal to improve its skill. Since we already created ground truth dataset, we can simply refer to the column from the dataframe. In the real world scenario, you may consider using a different environment where ground truth signal can be obtained asynchoronously by gathering real human feedback during agent's learning phase."
   ]
  },
  {
   "cell_type": "code",
   "execution_count": 9,
   "metadata": {
    "scrolled": true
   },
   "outputs": [
    {
     "data": {
      "text/html": [
       "<pre style=\"white-space:pre;overflow-x:auto;line-height:normal;font-family:Menlo,'DejaVu Sans Mono',consolas,'Courier New',monospace\"><span style=\"color: #000080; text-decoration-color: #000080; font-weight: bold\">Agent Instance</span>\n",
       "\n",
       "Environment: BasicEnvironment\n",
       "Skills: subjectivity_detection\n",
       "Runtimes: openai\n",
       "Default Runtime: openai\n",
       "Default Teacher Runtime: openai-gpt4\n",
       "</pre>\n"
      ],
      "text/plain": [
       "\u001b[1;34mAgent Instance\u001b[0m\n",
       "\n",
       "Environment: BasicEnvironment\n",
       "Skills: subjectivity_detection\n",
       "Runtimes: openai\n",
       "Default Runtime: openai\n",
       "Default Teacher Runtime: openai-gpt4\n"
      ]
     },
     "metadata": {},
     "output_type": "display_data"
    }
   ],
   "source": [
    "from adala.agents import Agent\n",
    "from adala.environments import BasicEnvironment\n",
    "from adala.skills import ClassificationSkill\n",
    "from adala.runtimes import OpenAIRuntime\n",
    "from rich import print\n",
    "\n",
    "\n",
    "agent = Agent(\n",
    "    # define the agent's labeling skill that should classify text onto 2 categories\n",
    "    skills=ClassificationSkill(\n",
    "        name='subjectivity_detection',\n",
    "        description='Understanding subjective and objective statements from text.',\n",
    "        instructions='Classify a product review as either expressing \"Subjective\" or \"Objective\" statements.',\n",
    "        labels=['Subjective', 'Objective'],\n",
    "        input_data_field='text'\n",
    "    ),\n",
    "    \n",
    "    # basic environment extracts ground truth signal from the input records\n",
    "    environment=BasicEnvironment(\n",
    "        ground_truth_dataset=dataset,\n",
    "        ground_truth_columns={'subjectivity_detection': 'ground_truth'}\n",
    "    ),\n",
    "    \n",
    "    runtimes = {\n",
    "        # You can specify your OPENAI API KEY here via `OpenAIRuntime(..., api_key='your-api-key')`\n",
    "        'openai': OpenAIRuntime(model='gpt-3.5-turbo-instruct'),\n",
    "    },\n",
    "    default_runtime='openai',\n",
    "    \n",
    "    teacher_runtimes = {\n",
    "      'openai-gpt3': OpenAIRuntime(model='gpt-3.5-turbo'),\n",
    "      'openai-gpt4': OpenAIRuntime(model='gpt-4'),\n",
    "    },\n",
    "    \n",
    "    # NOTE! If you don't have an access to gpt4 - replace it with \"openai-gpt3\"\n",
    "    default_teacher_runtime='openai-gpt4'\n",
    ")\n",
    "\n",
    "print(agent)"
   ]
  },
  {
   "cell_type": "markdown",
   "metadata": {},
   "source": [
    "## Learning Agent\n",
    "\n",
    "We will now let Agent learn from the ground truth. After every action, Agent returns its _Experience_, where it stores various observations like predicted data, errors, accuracy, etc."
   ]
  },
  {
   "cell_type": "code",
   "execution_count": 10,
   "metadata": {
    "scrolled": true
   },
   "outputs": [
    {
     "data": {
      "text/html": [
       "<pre style=\"white-space:pre;overflow-x:auto;line-height:normal;font-family:Menlo,'DejaVu Sans Mono',consolas,'Courier New',monospace\">Applying skill: subjectivity_detection\n",
       "</pre>\n"
      ],
      "text/plain": [
       "Applying skill: subjectivity_detection\n"
      ]
     },
     "metadata": {},
     "output_type": "display_data"
    },
    {
     "name": "stderr",
     "output_type": "stream",
     "text": [
      "100%|████████████████████████████████| 5/5 [00:00<00:00, 45.97it/s]\n"
     ]
    },
    {
     "data": {
      "text/html": [
       "<pre style=\"white-space:pre;overflow-x:auto;line-height:normal;font-family:Menlo,'DejaVu Sans Mono',consolas,'Courier New',monospace\">\n",
       "\n",
       "=&gt; Iteration #<span style=\"color: #008080; text-decoration-color: #008080; font-weight: bold\">0</span>: Comparing to ground truth, analyzing and improving <span style=\"color: #808000; text-decoration-color: #808000\">...</span>\n",
       "</pre>\n"
      ],
      "text/plain": [
       "\n",
       "\n",
       "=> Iteration #\u001b[1;36m0\u001b[0m: Comparing to ground truth, analyzing and improving \u001b[33m...\u001b[0m\n"
      ]
     },
     "metadata": {},
     "output_type": "display_data"
    },
    {
     "data": {
      "text/html": [
       "<pre style=\"white-space:pre;overflow-x:auto;line-height:normal;font-family:Menlo,'DejaVu Sans Mono',consolas,'Courier New',monospace\">Comparing predictions to ground truth data <span style=\"color: #808000; text-decoration-color: #808000\">...</span>\n",
       "</pre>\n"
      ],
      "text/plain": [
       "Comparing predictions to ground truth data \u001b[33m...\u001b[0m\n"
      ]
     },
     "metadata": {},
     "output_type": "display_data"
    },
    {
     "data": {
      "text/html": [
       "<pre style=\"white-space:pre;overflow-x:auto;line-height:normal;font-family:Menlo,'DejaVu Sans Mono',consolas,'Courier New',monospace\">                                                                                                                   \n",
       " <span style=\"color: #800080; text-decoration-color: #800080; font-weight: bold\"> text                   </span> <span style=\"color: #800080; text-decoration-color: #800080; font-weight: bold\"> ground_truth </span> <span style=\"color: #800080; text-decoration-color: #800080; font-weight: bold\"> subjectivity_detection </span> <span style=\"color: #800080; text-decoration-color: #800080; font-weight: bold\"> score                  </span> <span style=\"color: #800080; text-decoration-color: #800080; font-weight: bold\"> subjectivity_detecti… </span> \n",
       " ───────────────────────────────────────────────────────────────────────────────────────────────────────────────── \n",
       "  The mic is great.        Subjective     Subjective               {'Subjective':           True                   \n",
       "                                                                   -0.02697588099999997,                           \n",
       "                                                                   'Objective':                                    \n",
       "                                                                   -3.6262724}                                     \n",
       " <span style=\"color: #7f7f7f; text-decoration-color: #7f7f7f\"> Will order from them   </span> <span style=\"color: #7f7f7f; text-decoration-color: #7f7f7f\"> Subjective   </span> <span style=\"color: #7f7f7f; text-decoration-color: #7f7f7f\"> Subjective             </span> <span style=\"color: #7f7f7f; text-decoration-color: #7f7f7f\"> {'Subjective':         </span> <span style=\"color: #7f7f7f; text-decoration-color: #7f7f7f\"> True                  </span> \n",
       " <span style=\"color: #7f7f7f; text-decoration-color: #7f7f7f\"> again!                 </span> <span style=\"color: #7f7f7f; text-decoration-color: #7f7f7f\">              </span> <span style=\"color: #7f7f7f; text-decoration-color: #7f7f7f\">                        </span> <span style=\"color: #7f7f7f; text-decoration-color: #7f7f7f\"> -0.11282212000000001,  </span> <span style=\"color: #7f7f7f; text-decoration-color: #7f7f7f\">                       </span> \n",
       " <span style=\"color: #7f7f7f; text-decoration-color: #7f7f7f\">                        </span> <span style=\"color: #7f7f7f; text-decoration-color: #7f7f7f\">              </span> <span style=\"color: #7f7f7f; text-decoration-color: #7f7f7f\">                        </span> <span style=\"color: #7f7f7f; text-decoration-color: #7f7f7f\"> 'Objective':           </span> <span style=\"color: #7f7f7f; text-decoration-color: #7f7f7f\">                       </span> \n",
       " <span style=\"color: #7f7f7f; text-decoration-color: #7f7f7f\">                        </span> <span style=\"color: #7f7f7f; text-decoration-color: #7f7f7f\">              </span> <span style=\"color: #7f7f7f; text-decoration-color: #7f7f7f\">                        </span> <span style=\"color: #7f7f7f; text-decoration-color: #7f7f7f\"> -2.2378219999999995}   </span> <span style=\"color: #7f7f7f; text-decoration-color: #7f7f7f\">                       </span> \n",
       "  Not loud enough and      Objective      Subjective               {'Subjective':           False                  \n",
       "  doesn't turn on like                                             -0.014163457000000034,                          \n",
       "  it should.                                                       'Objective':                                    \n",
       "                                                                   -4.2641635}                                     \n",
       " <span style=\"color: #7f7f7f; text-decoration-color: #7f7f7f\"> The phone doesn't seem </span> <span style=\"color: #7f7f7f; text-decoration-color: #7f7f7f\"> Objective    </span> <span style=\"color: #7f7f7f; text-decoration-color: #7f7f7f\"> Objective              </span> <span style=\"color: #7f7f7f; text-decoration-color: #7f7f7f\"> {'Subjective':         </span> <span style=\"color: #7f7f7f; text-decoration-color: #7f7f7f\"> True                  </span> \n",
       " <span style=\"color: #7f7f7f; text-decoration-color: #7f7f7f\"> to accept anything     </span> <span style=\"color: #7f7f7f; text-decoration-color: #7f7f7f\">              </span> <span style=\"color: #7f7f7f; text-decoration-color: #7f7f7f\">                        </span> <span style=\"color: #7f7f7f; text-decoration-color: #7f7f7f\"> -2.0720863,            </span> <span style=\"color: #7f7f7f; text-decoration-color: #7f7f7f\">                       </span> \n",
       " <span style=\"color: #7f7f7f; text-decoration-color: #7f7f7f\"> except CBR mp3s        </span> <span style=\"color: #7f7f7f; text-decoration-color: #7f7f7f\">              </span> <span style=\"color: #7f7f7f; text-decoration-color: #7f7f7f\">                        </span> <span style=\"color: #7f7f7f; text-decoration-color: #7f7f7f\"> 'Objective':           </span> <span style=\"color: #7f7f7f; text-decoration-color: #7f7f7f\">                       </span> \n",
       " <span style=\"color: #7f7f7f; text-decoration-color: #7f7f7f\">                        </span> <span style=\"color: #7f7f7f; text-decoration-color: #7f7f7f\">              </span> <span style=\"color: #7f7f7f; text-decoration-color: #7f7f7f\">                        </span> <span style=\"color: #7f7f7f; text-decoration-color: #7f7f7f\"> -0.13458653999999995}  </span> <span style=\"color: #7f7f7f; text-decoration-color: #7f7f7f\">                       </span> \n",
       "  All three broke within   Objective      Objective                {'Subjective':           True                   \n",
       "  two months of use.                                               -2.1821797,                                     \n",
       "                                                                   'Objective':                                    \n",
       "                                                                   -0.11967964500000007}                           \n",
       "                                                                                                                   \n",
       "</pre>\n"
      ],
      "text/plain": [
       "                                                                                                                   \n",
       " \u001b[1;35m \u001b[0m\u001b[1;35mtext                  \u001b[0m\u001b[1;35m \u001b[0m \u001b[1;35m \u001b[0m\u001b[1;35mground_truth\u001b[0m\u001b[1;35m \u001b[0m \u001b[1;35m \u001b[0m\u001b[1;35msubjectivity_detection\u001b[0m\u001b[1;35m \u001b[0m \u001b[1;35m \u001b[0m\u001b[1;35mscore                 \u001b[0m\u001b[1;35m \u001b[0m \u001b[1;35m \u001b[0m\u001b[1;35msubjectivity_detecti…\u001b[0m\u001b[1;35m \u001b[0m \n",
       " ───────────────────────────────────────────────────────────────────────────────────────────────────────────────── \n",
       "  The mic is great.        Subjective     Subjective               {'Subjective':           True                   \n",
       "                                                                   -0.02697588099999997,                           \n",
       "                                                                   'Objective':                                    \n",
       "                                                                   -3.6262724}                                     \n",
       " \u001b[2m \u001b[0m\u001b[2mWill order from them  \u001b[0m\u001b[2m \u001b[0m \u001b[2m \u001b[0m\u001b[2mSubjective  \u001b[0m\u001b[2m \u001b[0m \u001b[2m \u001b[0m\u001b[2mSubjective            \u001b[0m\u001b[2m \u001b[0m \u001b[2m \u001b[0m\u001b[2m{'Subjective':        \u001b[0m\u001b[2m \u001b[0m \u001b[2m \u001b[0m\u001b[2mTrue                 \u001b[0m\u001b[2m \u001b[0m \n",
       " \u001b[2m \u001b[0m\u001b[2magain!                \u001b[0m\u001b[2m \u001b[0m \u001b[2m              \u001b[0m \u001b[2m                        \u001b[0m \u001b[2m \u001b[0m\u001b[2m-0.11282212000000001, \u001b[0m\u001b[2m \u001b[0m \u001b[2m                       \u001b[0m \n",
       " \u001b[2m                        \u001b[0m \u001b[2m              \u001b[0m \u001b[2m                        \u001b[0m \u001b[2m \u001b[0m\u001b[2m'Objective':          \u001b[0m\u001b[2m \u001b[0m \u001b[2m                       \u001b[0m \n",
       " \u001b[2m                        \u001b[0m \u001b[2m              \u001b[0m \u001b[2m                        \u001b[0m \u001b[2m \u001b[0m\u001b[2m-2.2378219999999995}  \u001b[0m\u001b[2m \u001b[0m \u001b[2m                       \u001b[0m \n",
       "  Not loud enough and      Objective      Subjective               {'Subjective':           False                  \n",
       "  doesn't turn on like                                             -0.014163457000000034,                          \n",
       "  it should.                                                       'Objective':                                    \n",
       "                                                                   -4.2641635}                                     \n",
       " \u001b[2m \u001b[0m\u001b[2mThe phone doesn't seem\u001b[0m\u001b[2m \u001b[0m \u001b[2m \u001b[0m\u001b[2mObjective   \u001b[0m\u001b[2m \u001b[0m \u001b[2m \u001b[0m\u001b[2mObjective             \u001b[0m\u001b[2m \u001b[0m \u001b[2m \u001b[0m\u001b[2m{'Subjective':        \u001b[0m\u001b[2m \u001b[0m \u001b[2m \u001b[0m\u001b[2mTrue                 \u001b[0m\u001b[2m \u001b[0m \n",
       " \u001b[2m \u001b[0m\u001b[2mto accept anything    \u001b[0m\u001b[2m \u001b[0m \u001b[2m              \u001b[0m \u001b[2m                        \u001b[0m \u001b[2m \u001b[0m\u001b[2m-2.0720863,           \u001b[0m\u001b[2m \u001b[0m \u001b[2m                       \u001b[0m \n",
       " \u001b[2m \u001b[0m\u001b[2mexcept CBR mp3s       \u001b[0m\u001b[2m \u001b[0m \u001b[2m              \u001b[0m \u001b[2m                        \u001b[0m \u001b[2m \u001b[0m\u001b[2m'Objective':          \u001b[0m\u001b[2m \u001b[0m \u001b[2m                       \u001b[0m \n",
       " \u001b[2m                        \u001b[0m \u001b[2m              \u001b[0m \u001b[2m                        \u001b[0m \u001b[2m \u001b[0m\u001b[2m-0.13458653999999995} \u001b[0m\u001b[2m \u001b[0m \u001b[2m                       \u001b[0m \n",
       "  All three broke within   Objective      Objective                {'Subjective':           True                   \n",
       "  two months of use.                                               -2.1821797,                                     \n",
       "                                                                   'Objective':                                    \n",
       "                                                                   -0.11967964500000007}                           \n",
       "                                                                                                                   \n"
      ]
     },
     "metadata": {},
     "output_type": "display_data"
    },
    {
     "data": {
      "text/html": [
       "<pre style=\"white-space:pre;overflow-x:auto;line-height:normal;font-family:Menlo,'DejaVu Sans Mono',consolas,'Courier New',monospace\"><span style=\"color: #800000; text-decoration-color: #800000; font-weight: bold\">Accuracy = </span><span style=\"color: #008080; text-decoration-color: #008080; font-weight: bold\">80.00</span><span style=\"color: #800000; text-decoration-color: #800000; font-weight: bold\">%</span>\n",
       "</pre>\n"
      ],
      "text/plain": [
       "\u001b[1;31mAccuracy = \u001b[0m\u001b[1;36m80.00\u001b[0m\u001b[1;31m%\u001b[0m\n"
      ]
     },
     "metadata": {},
     "output_type": "display_data"
    },
    {
     "data": {
      "text/html": [
       "<pre style=\"white-space:pre;overflow-x:auto;line-height:normal;font-family:Menlo,'DejaVu Sans Mono',consolas,'Courier New',monospace\">Analyze evaluation experience <span style=\"color: #808000; text-decoration-color: #808000\">...</span>\n",
       "</pre>\n"
      ],
      "text/plain": [
       "Analyze evaluation experience \u001b[33m...\u001b[0m\n"
      ]
     },
     "metadata": {},
     "output_type": "display_data"
    },
    {
     "name": "stderr",
     "output_type": "stream",
     "text": [
      "100%|███████████████████████████████| 1/1 [00:00<00:00, 170.90it/s]\n",
      "100%|████████████████████████████████| 1/1 [00:00<00:00, 29.05it/s]\n"
     ]
    },
    {
     "data": {
      "text/html": [
       "<pre style=\"white-space:pre;overflow-x:auto;line-height:normal;font-family:Menlo,'DejaVu Sans Mono',consolas,'Courier New',monospace\">Error analysis for skill <span style=\"color: #008000; text-decoration-color: #008000\">\"subjectivity_detection\"</span>:\n",
       "\n",
       "</pre>\n"
      ],
      "text/plain": [
       "Error analysis for skill \u001b[32m\"subjectivity_detection\"\u001b[0m:\n",
       "\n"
      ]
     },
     "metadata": {},
     "output_type": "display_data"
    },
    {
     "data": {
      "text/html": [
       "<pre style=\"white-space:pre;overflow-x:auto;line-height:normal;font-family:Menlo,'DejaVu Sans Mono',consolas,'Courier New',monospace\">\n",
       "<span style=\"color: #008000; text-decoration-color: #008000\">Input: Not loud enough and doesn't turn on like it should.</span>\n",
       "<span style=\"color: #008000; text-decoration-color: #008000\">Prediction: Subjective</span>\n",
       "<span style=\"color: #008000; text-decoration-color: #008000\">Ground truth: Objective</span>\n",
       "<span style=\"color: #008000; text-decoration-color: #008000\">Error reason: The model might have considered the phrases </span><span style=\"color: #008000; text-decoration-color: #008000\">\"not loud enough\"</span><span style=\"color: #008000; text-decoration-color: #008000\"> and </span><span style=\"color: #008000; text-decoration-color: #008000\">\"doesn't turn on like it should\"</span><span style=\"color: #008000; text-decoration-color: #008000\"> as</span>\n",
       "<span style=\"color: #008000; text-decoration-color: #008000\">personal opinions or experiences, hence it classified the review as subjective. However, these are factual </span>\n",
       "<span style=\"color: #008000; text-decoration-color: #008000\">statements about the product's performance, making the review objective.</span>\n",
       "\n",
       "</pre>\n"
      ],
      "text/plain": [
       "\n",
       "\u001b[32mInput: Not loud enough and doesn't turn on like it should.\u001b[0m\n",
       "\u001b[32mPrediction: Subjective\u001b[0m\n",
       "\u001b[32mGround truth: Objective\u001b[0m\n",
       "\u001b[32mError reason: The model might have considered the phrases \u001b[0m\u001b[32m\"not loud enough\"\u001b[0m\u001b[32m and \u001b[0m\u001b[32m\"doesn't turn on like it should\"\u001b[0m\u001b[32m as\u001b[0m\n",
       "\u001b[32mpersonal opinions or experiences, hence it classified the review as subjective. However, these are factual \u001b[0m\n",
       "\u001b[32mstatements about the product's performance, making the review objective.\u001b[0m\n",
       "\n"
      ]
     },
     "metadata": {},
     "output_type": "display_data"
    },
    {
     "data": {
      "text/html": [
       "<pre style=\"white-space:pre;overflow-x:auto;line-height:normal;font-family:Menlo,'DejaVu Sans Mono',consolas,'Courier New',monospace\">Improve <span style=\"color: #008000; text-decoration-color: #008000\">\"subjectivity_detection\"</span> skill based on analysis <span style=\"color: #808000; text-decoration-color: #808000\">...</span>\n",
       "</pre>\n"
      ],
      "text/plain": [
       "Improve \u001b[32m\"subjectivity_detection\"\u001b[0m skill based on analysis \u001b[33m...\u001b[0m\n"
      ]
     },
     "metadata": {},
     "output_type": "display_data"
    },
    {
     "data": {
      "text/html": [
       "<pre style=\"white-space:pre;overflow-x:auto;line-height:normal;font-family:Menlo,'DejaVu Sans Mono',consolas,'Courier New',monospace\">Updated instructions for skill <span style=\"color: #008000; text-decoration-color: #008000\">\"subjectivity_detection\"</span>:\n",
       "\n",
       "</pre>\n"
      ],
      "text/plain": [
       "Updated instructions for skill \u001b[32m\"subjectivity_detection\"\u001b[0m:\n",
       "\n"
      ]
     },
     "metadata": {},
     "output_type": "display_data"
    },
    {
     "data": {
      "text/html": [
       "<pre style=\"white-space:pre;overflow-x:auto;line-height:normal;font-family:Menlo,'DejaVu Sans Mono',consolas,'Courier New',monospace\"><span style=\"color: #008000; text-decoration-color: #008000; font-weight: bold\">Classify a product review as either expressing </span><span style=\"color: #008000; text-decoration-color: #008000\">\"Subjective\"</span><span style=\"color: #008000; text-decoration-color: #008000; font-weight: bold\"> or </span><span style=\"color: #008000; text-decoration-color: #008000\">\"Objective\"</span><span style=\"color: #008000; text-decoration-color: #008000; font-weight: bold\"> statements. A </span><span style=\"color: #008000; text-decoration-color: #008000\">\"Subjective\"</span><span style=\"color: #008000; text-decoration-color: #008000; font-weight: bold\"> statement is </span>\n",
       "<span style=\"color: #008000; text-decoration-color: #008000; font-weight: bold\">based on personal opinions, feelings, or tastes. An </span><span style=\"color: #008000; text-decoration-color: #008000\">\"Objective\"</span><span style=\"color: #008000; text-decoration-color: #008000; font-weight: bold\"> statement is based on factual information about the</span>\n",
       "<span style=\"color: #008000; text-decoration-color: #008000; font-weight: bold\">product, such as its features or performance, and is not influenced by personal feelings or opinions. </span>\n",
       "\n",
       "<span style=\"color: #008000; text-decoration-color: #008000; font-weight: bold\">Examples:</span>\n",
       "\n",
       "<span style=\"color: #008000; text-decoration-color: #008000; font-weight: bold\">Input: The color of this phone is black.</span>\n",
       "<span style=\"color: #008000; text-decoration-color: #008000; font-weight: bold\">Output: Objective</span>\n",
       "\n",
       "<span style=\"color: #008000; text-decoration-color: #008000; font-weight: bold\">Input: I think this phone is too expensive for its features.</span>\n",
       "<span style=\"color: #008000; text-decoration-color: #008000; font-weight: bold\">Output: Subjective</span>\n",
       "\n",
       "<span style=\"color: #008000; text-decoration-color: #008000; font-weight: bold\">Input: The battery life of this laptop lasts for </span><span style=\"color: #008080; text-decoration-color: #008080; font-weight: bold\">10</span><span style=\"color: #008000; text-decoration-color: #008000; font-weight: bold\"> hours.</span>\n",
       "<span style=\"color: #008000; text-decoration-color: #008000; font-weight: bold\">Output: Objective</span>\n",
       "</pre>\n"
      ],
      "text/plain": [
       "\u001b[1;32mClassify a product review as either expressing \u001b[0m\u001b[32m\"Subjective\"\u001b[0m\u001b[1;32m or \u001b[0m\u001b[32m\"Objective\"\u001b[0m\u001b[1;32m statements. A \u001b[0m\u001b[32m\"Subjective\"\u001b[0m\u001b[1;32m statement is \u001b[0m\n",
       "\u001b[1;32mbased on personal opinions, feelings, or tastes. An \u001b[0m\u001b[32m\"Objective\"\u001b[0m\u001b[1;32m statement is based on factual information about the\u001b[0m\n",
       "\u001b[1;32mproduct, such as its features or performance, and is not influenced by personal feelings or opinions. \u001b[0m\n",
       "\n",
       "\u001b[1;32mExamples:\u001b[0m\n",
       "\n",
       "\u001b[1;32mInput: The color of this phone is black.\u001b[0m\n",
       "\u001b[1;32mOutput: Objective\u001b[0m\n",
       "\n",
       "\u001b[1;32mInput: I think this phone is too expensive for its features.\u001b[0m\n",
       "\u001b[1;32mOutput: Subjective\u001b[0m\n",
       "\n",
       "\u001b[1;32mInput: The battery life of this laptop lasts for \u001b[0m\u001b[1;36m10\u001b[0m\u001b[1;32m hours.\u001b[0m\n",
       "\u001b[1;32mOutput: Objective\u001b[0m\n"
      ]
     },
     "metadata": {},
     "output_type": "display_data"
    },
    {
     "data": {
      "text/html": [
       "<pre style=\"white-space:pre;overflow-x:auto;line-height:normal;font-family:Menlo,'DejaVu Sans Mono',consolas,'Courier New',monospace\">Re-apply subjectivity_detection skill to dataset <span style=\"color: #808000; text-decoration-color: #808000\">...</span>\n",
       "</pre>\n"
      ],
      "text/plain": [
       "Re-apply subjectivity_detection skill to dataset \u001b[33m...\u001b[0m\n"
      ]
     },
     "metadata": {},
     "output_type": "display_data"
    },
    {
     "data": {
      "text/html": [
       "<pre style=\"white-space:pre;overflow-x:auto;line-height:normal;font-family:Menlo,'DejaVu Sans Mono',consolas,'Courier New',monospace\">Applying skill: subjectivity_detection\n",
       "</pre>\n"
      ],
      "text/plain": [
       "Applying skill: subjectivity_detection\n"
      ]
     },
     "metadata": {},
     "output_type": "display_data"
    },
    {
     "name": "stderr",
     "output_type": "stream",
     "text": [
      "100%|████████████████████████████████| 5/5 [00:00<00:00, 26.29it/s]\n"
     ]
    },
    {
     "data": {
      "text/html": [
       "<pre style=\"white-space:pre;overflow-x:auto;line-height:normal;font-family:Menlo,'DejaVu Sans Mono',consolas,'Courier New',monospace\">\n",
       "\n",
       "=&gt; Iteration #<span style=\"color: #008080; text-decoration-color: #008080; font-weight: bold\">1</span>: Comparing to ground truth, analyzing and improving <span style=\"color: #808000; text-decoration-color: #808000\">...</span>\n",
       "</pre>\n"
      ],
      "text/plain": [
       "\n",
       "\n",
       "=> Iteration #\u001b[1;36m1\u001b[0m: Comparing to ground truth, analyzing and improving \u001b[33m...\u001b[0m\n"
      ]
     },
     "metadata": {},
     "output_type": "display_data"
    },
    {
     "data": {
      "text/html": [
       "<pre style=\"white-space:pre;overflow-x:auto;line-height:normal;font-family:Menlo,'DejaVu Sans Mono',consolas,'Courier New',monospace\">Comparing predictions to ground truth data <span style=\"color: #808000; text-decoration-color: #808000\">...</span>\n",
       "</pre>\n"
      ],
      "text/plain": [
       "Comparing predictions to ground truth data \u001b[33m...\u001b[0m\n"
      ]
     },
     "metadata": {},
     "output_type": "display_data"
    },
    {
     "data": {
      "text/html": [
       "<pre style=\"white-space:pre;overflow-x:auto;line-height:normal;font-family:Menlo,'DejaVu Sans Mono',consolas,'Courier New',monospace\">                                                                                                                   \n",
       " <span style=\"color: #800080; text-decoration-color: #800080; font-weight: bold\"> text                   </span> <span style=\"color: #800080; text-decoration-color: #800080; font-weight: bold\"> ground_truth </span> <span style=\"color: #800080; text-decoration-color: #800080; font-weight: bold\"> subjectivity_detection </span> <span style=\"color: #800080; text-decoration-color: #800080; font-weight: bold\"> score                  </span> <span style=\"color: #800080; text-decoration-color: #800080; font-weight: bold\"> subjectivity_detecti… </span> \n",
       " ───────────────────────────────────────────────────────────────────────────────────────────────────────────────── \n",
       "  The mic is great.        Subjective     Subjective               {'Subjective':           True                   \n",
       "                                                                   -0.12713461999999998,                           \n",
       "                                                                   'Objective':                                    \n",
       "                                                                   -2.1254027}                                     \n",
       " <span style=\"color: #7f7f7f; text-decoration-color: #7f7f7f\"> Will order from them   </span> <span style=\"color: #7f7f7f; text-decoration-color: #7f7f7f\"> Subjective   </span> <span style=\"color: #7f7f7f; text-decoration-color: #7f7f7f\"> Subjective             </span> <span style=\"color: #7f7f7f; text-decoration-color: #7f7f7f\"> {'Subjective':         </span> <span style=\"color: #7f7f7f; text-decoration-color: #7f7f7f\"> True                  </span> \n",
       " <span style=\"color: #7f7f7f; text-decoration-color: #7f7f7f\"> again!                 </span> <span style=\"color: #7f7f7f; text-decoration-color: #7f7f7f\">              </span> <span style=\"color: #7f7f7f; text-decoration-color: #7f7f7f\">                        </span> <span style=\"color: #7f7f7f; text-decoration-color: #7f7f7f\"> -0.007335418999999971… </span> <span style=\"color: #7f7f7f; text-decoration-color: #7f7f7f\">                       </span> \n",
       " <span style=\"color: #7f7f7f; text-decoration-color: #7f7f7f\">                        </span> <span style=\"color: #7f7f7f; text-decoration-color: #7f7f7f\">              </span> <span style=\"color: #7f7f7f; text-decoration-color: #7f7f7f\">                        </span> <span style=\"color: #7f7f7f; text-decoration-color: #7f7f7f\"> 'Objective':           </span> <span style=\"color: #7f7f7f; text-decoration-color: #7f7f7f\">                       </span> \n",
       " <span style=\"color: #7f7f7f; text-decoration-color: #7f7f7f\">                        </span> <span style=\"color: #7f7f7f; text-decoration-color: #7f7f7f\">              </span> <span style=\"color: #7f7f7f; text-decoration-color: #7f7f7f\">                        </span> <span style=\"color: #7f7f7f; text-decoration-color: #7f7f7f\"> -4.9187045}            </span> <span style=\"color: #7f7f7f; text-decoration-color: #7f7f7f\">                       </span> \n",
       "  Not loud enough and      Objective      Subjective               {'Subjective':           False                  \n",
       "  doesn't turn on like                                             -0.000693016340000051…                          \n",
       "  it should.                                                       'Objective':                                    \n",
       "                                                                   -7.2748933}                                     \n",
       " <span style=\"color: #7f7f7f; text-decoration-color: #7f7f7f\"> The phone doesn't seem </span> <span style=\"color: #7f7f7f; text-decoration-color: #7f7f7f\"> Objective    </span> <span style=\"color: #7f7f7f; text-decoration-color: #7f7f7f\"> Objective              </span> <span style=\"color: #7f7f7f; text-decoration-color: #7f7f7f\"> {'Subjective':         </span> <span style=\"color: #7f7f7f; text-decoration-color: #7f7f7f\"> True                  </span> \n",
       " <span style=\"color: #7f7f7f; text-decoration-color: #7f7f7f\"> to accept anything     </span> <span style=\"color: #7f7f7f; text-decoration-color: #7f7f7f\">              </span> <span style=\"color: #7f7f7f; text-decoration-color: #7f7f7f\">                        </span> <span style=\"color: #7f7f7f; text-decoration-color: #7f7f7f\"> -2.4914062,            </span> <span style=\"color: #7f7f7f; text-decoration-color: #7f7f7f\">                       </span> \n",
       " <span style=\"color: #7f7f7f; text-decoration-color: #7f7f7f\"> except CBR mp3s        </span> <span style=\"color: #7f7f7f; text-decoration-color: #7f7f7f\">              </span> <span style=\"color: #7f7f7f; text-decoration-color: #7f7f7f\">                        </span> <span style=\"color: #7f7f7f; text-decoration-color: #7f7f7f\"> 'Objective':           </span> <span style=\"color: #7f7f7f; text-decoration-color: #7f7f7f\">                       </span> \n",
       " <span style=\"color: #7f7f7f; text-decoration-color: #7f7f7f\">                        </span> <span style=\"color: #7f7f7f; text-decoration-color: #7f7f7f\">              </span> <span style=\"color: #7f7f7f; text-decoration-color: #7f7f7f\">                        </span> <span style=\"color: #7f7f7f; text-decoration-color: #7f7f7f\"> -0.086422645}          </span> <span style=\"color: #7f7f7f; text-decoration-color: #7f7f7f\">                       </span> \n",
       "  All three broke within   Objective      Subjective               {'Subjective':           False                  \n",
       "  two months of use.                                               -0.08145889000000005,                           \n",
       "                                                                   'Objective':                                    \n",
       "                                                                   -2.5481107}                                     \n",
       "                                                                                                                   \n",
       "</pre>\n"
      ],
      "text/plain": [
       "                                                                                                                   \n",
       " \u001b[1;35m \u001b[0m\u001b[1;35mtext                  \u001b[0m\u001b[1;35m \u001b[0m \u001b[1;35m \u001b[0m\u001b[1;35mground_truth\u001b[0m\u001b[1;35m \u001b[0m \u001b[1;35m \u001b[0m\u001b[1;35msubjectivity_detection\u001b[0m\u001b[1;35m \u001b[0m \u001b[1;35m \u001b[0m\u001b[1;35mscore                 \u001b[0m\u001b[1;35m \u001b[0m \u001b[1;35m \u001b[0m\u001b[1;35msubjectivity_detecti…\u001b[0m\u001b[1;35m \u001b[0m \n",
       " ───────────────────────────────────────────────────────────────────────────────────────────────────────────────── \n",
       "  The mic is great.        Subjective     Subjective               {'Subjective':           True                   \n",
       "                                                                   -0.12713461999999998,                           \n",
       "                                                                   'Objective':                                    \n",
       "                                                                   -2.1254027}                                     \n",
       " \u001b[2m \u001b[0m\u001b[2mWill order from them  \u001b[0m\u001b[2m \u001b[0m \u001b[2m \u001b[0m\u001b[2mSubjective  \u001b[0m\u001b[2m \u001b[0m \u001b[2m \u001b[0m\u001b[2mSubjective            \u001b[0m\u001b[2m \u001b[0m \u001b[2m \u001b[0m\u001b[2m{'Subjective':        \u001b[0m\u001b[2m \u001b[0m \u001b[2m \u001b[0m\u001b[2mTrue                 \u001b[0m\u001b[2m \u001b[0m \n",
       " \u001b[2m \u001b[0m\u001b[2magain!                \u001b[0m\u001b[2m \u001b[0m \u001b[2m              \u001b[0m \u001b[2m                        \u001b[0m \u001b[2m \u001b[0m\u001b[2m-0.007335418999999971…\u001b[0m\u001b[2m \u001b[0m \u001b[2m                       \u001b[0m \n",
       " \u001b[2m                        \u001b[0m \u001b[2m              \u001b[0m \u001b[2m                        \u001b[0m \u001b[2m \u001b[0m\u001b[2m'Objective':          \u001b[0m\u001b[2m \u001b[0m \u001b[2m                       \u001b[0m \n",
       " \u001b[2m                        \u001b[0m \u001b[2m              \u001b[0m \u001b[2m                        \u001b[0m \u001b[2m \u001b[0m\u001b[2m-4.9187045}           \u001b[0m\u001b[2m \u001b[0m \u001b[2m                       \u001b[0m \n",
       "  Not loud enough and      Objective      Subjective               {'Subjective':           False                  \n",
       "  doesn't turn on like                                             -0.000693016340000051…                          \n",
       "  it should.                                                       'Objective':                                    \n",
       "                                                                   -7.2748933}                                     \n",
       " \u001b[2m \u001b[0m\u001b[2mThe phone doesn't seem\u001b[0m\u001b[2m \u001b[0m \u001b[2m \u001b[0m\u001b[2mObjective   \u001b[0m\u001b[2m \u001b[0m \u001b[2m \u001b[0m\u001b[2mObjective             \u001b[0m\u001b[2m \u001b[0m \u001b[2m \u001b[0m\u001b[2m{'Subjective':        \u001b[0m\u001b[2m \u001b[0m \u001b[2m \u001b[0m\u001b[2mTrue                 \u001b[0m\u001b[2m \u001b[0m \n",
       " \u001b[2m \u001b[0m\u001b[2mto accept anything    \u001b[0m\u001b[2m \u001b[0m \u001b[2m              \u001b[0m \u001b[2m                        \u001b[0m \u001b[2m \u001b[0m\u001b[2m-2.4914062,           \u001b[0m\u001b[2m \u001b[0m \u001b[2m                       \u001b[0m \n",
       " \u001b[2m \u001b[0m\u001b[2mexcept CBR mp3s       \u001b[0m\u001b[2m \u001b[0m \u001b[2m              \u001b[0m \u001b[2m                        \u001b[0m \u001b[2m \u001b[0m\u001b[2m'Objective':          \u001b[0m\u001b[2m \u001b[0m \u001b[2m                       \u001b[0m \n",
       " \u001b[2m                        \u001b[0m \u001b[2m              \u001b[0m \u001b[2m                        \u001b[0m \u001b[2m \u001b[0m\u001b[2m-0.086422645}         \u001b[0m\u001b[2m \u001b[0m \u001b[2m                       \u001b[0m \n",
       "  All three broke within   Objective      Subjective               {'Subjective':           False                  \n",
       "  two months of use.                                               -0.08145889000000005,                           \n",
       "                                                                   'Objective':                                    \n",
       "                                                                   -2.5481107}                                     \n",
       "                                                                                                                   \n"
      ]
     },
     "metadata": {},
     "output_type": "display_data"
    },
    {
     "data": {
      "text/html": [
       "<pre style=\"white-space:pre;overflow-x:auto;line-height:normal;font-family:Menlo,'DejaVu Sans Mono',consolas,'Courier New',monospace\"><span style=\"color: #800000; text-decoration-color: #800000; font-weight: bold\">Accuracy = </span><span style=\"color: #008080; text-decoration-color: #008080; font-weight: bold\">60.00</span><span style=\"color: #800000; text-decoration-color: #800000; font-weight: bold\">%</span>\n",
       "</pre>\n"
      ],
      "text/plain": [
       "\u001b[1;31mAccuracy = \u001b[0m\u001b[1;36m60.00\u001b[0m\u001b[1;31m%\u001b[0m\n"
      ]
     },
     "metadata": {},
     "output_type": "display_data"
    },
    {
     "data": {
      "text/html": [
       "<pre style=\"white-space:pre;overflow-x:auto;line-height:normal;font-family:Menlo,'DejaVu Sans Mono',consolas,'Courier New',monospace\">Analyze evaluation experience <span style=\"color: #808000; text-decoration-color: #808000\">...</span>\n",
       "</pre>\n"
      ],
      "text/plain": [
       "Analyze evaluation experience \u001b[33m...\u001b[0m\n"
      ]
     },
     "metadata": {},
     "output_type": "display_data"
    },
    {
     "name": "stderr",
     "output_type": "stream",
     "text": [
      "100%|███████████████████████████████| 2/2 [00:00<00:00, 203.21it/s]\n",
      "100%|████████████████████████████████| 2/2 [00:00<00:00, 23.67it/s]\n"
     ]
    },
    {
     "data": {
      "text/html": [
       "<pre style=\"white-space:pre;overflow-x:auto;line-height:normal;font-family:Menlo,'DejaVu Sans Mono',consolas,'Courier New',monospace\">Error analysis for skill <span style=\"color: #008000; text-decoration-color: #008000\">\"subjectivity_detection\"</span>:\n",
       "\n",
       "</pre>\n"
      ],
      "text/plain": [
       "Error analysis for skill \u001b[32m\"subjectivity_detection\"\u001b[0m:\n",
       "\n"
      ]
     },
     "metadata": {},
     "output_type": "display_data"
    },
    {
     "data": {
      "text/html": [
       "<pre style=\"white-space:pre;overflow-x:auto;line-height:normal;font-family:Menlo,'DejaVu Sans Mono',consolas,'Courier New',monospace\">\n",
       "<span style=\"color: #008000; text-decoration-color: #008000\">Input: Not loud enough and doesn't turn on like it should.</span>\n",
       "<span style=\"color: #008000; text-decoration-color: #008000\">Prediction: Subjective</span>\n",
       "<span style=\"color: #008000; text-decoration-color: #008000\">Ground truth: Objective</span>\n",
       "<span style=\"color: #008000; text-decoration-color: #008000\">Error reason: The model likely classified the statement as subjective because it seems to express personal </span>\n",
       "<span style=\"color: #008000; text-decoration-color: #008000\">dissatisfaction. However, the statement is actually objective as it describes the product's features - its volume </span>\n",
       "<span style=\"color: #008000; text-decoration-color: #008000\">and functionality.</span>\n",
       "\n",
       "<span style=\"color: #008000; text-decoration-color: #008000\">Input: All three broke within two months of use.</span>\n",
       "<span style=\"color: #008000; text-decoration-color: #008000\">Prediction: Subjective</span>\n",
       "<span style=\"color: #008000; text-decoration-color: #008000\">Ground truth: Objective</span>\n",
       "<span style=\"color: #008000; text-decoration-color: #008000\">Error reason: The model incorrectly classified the statement as subjective, possibly because it interpreted the </span>\n",
       "<span style=\"color: #008000; text-decoration-color: #008000\">phrase </span><span style=\"color: #008000; text-decoration-color: #008000\">\"broke within two months of use\"</span><span style=\"color: #008000; text-decoration-color: #008000\"> as a personal experience or opinion. However, the statement is objective as</span>\n",
       "<span style=\"color: #008000; text-decoration-color: #008000\">it presents a factual occurrence about the product's durability.</span>\n",
       "\n",
       "</pre>\n"
      ],
      "text/plain": [
       "\n",
       "\u001b[32mInput: Not loud enough and doesn't turn on like it should.\u001b[0m\n",
       "\u001b[32mPrediction: Subjective\u001b[0m\n",
       "\u001b[32mGround truth: Objective\u001b[0m\n",
       "\u001b[32mError reason: The model likely classified the statement as subjective because it seems to express personal \u001b[0m\n",
       "\u001b[32mdissatisfaction. However, the statement is actually objective as it describes the product's features - its volume \u001b[0m\n",
       "\u001b[32mand functionality.\u001b[0m\n",
       "\n",
       "\u001b[32mInput: All three broke within two months of use.\u001b[0m\n",
       "\u001b[32mPrediction: Subjective\u001b[0m\n",
       "\u001b[32mGround truth: Objective\u001b[0m\n",
       "\u001b[32mError reason: The model incorrectly classified the statement as subjective, possibly because it interpreted the \u001b[0m\n",
       "\u001b[32mphrase \u001b[0m\u001b[32m\"broke within two months of use\"\u001b[0m\u001b[32m as a personal experience or opinion. However, the statement is objective as\u001b[0m\n",
       "\u001b[32mit presents a factual occurrence about the product's durability.\u001b[0m\n",
       "\n"
      ]
     },
     "metadata": {},
     "output_type": "display_data"
    },
    {
     "data": {
      "text/html": [
       "<pre style=\"white-space:pre;overflow-x:auto;line-height:normal;font-family:Menlo,'DejaVu Sans Mono',consolas,'Courier New',monospace\">Improve <span style=\"color: #008000; text-decoration-color: #008000\">\"subjectivity_detection\"</span> skill based on analysis <span style=\"color: #808000; text-decoration-color: #808000\">...</span>\n",
       "</pre>\n"
      ],
      "text/plain": [
       "Improve \u001b[32m\"subjectivity_detection\"\u001b[0m skill based on analysis \u001b[33m...\u001b[0m\n"
      ]
     },
     "metadata": {},
     "output_type": "display_data"
    },
    {
     "data": {
      "text/html": [
       "<pre style=\"white-space:pre;overflow-x:auto;line-height:normal;font-family:Menlo,'DejaVu Sans Mono',consolas,'Courier New',monospace\">Updated instructions for skill <span style=\"color: #008000; text-decoration-color: #008000\">\"subjectivity_detection\"</span>:\n",
       "\n",
       "</pre>\n"
      ],
      "text/plain": [
       "Updated instructions for skill \u001b[32m\"subjectivity_detection\"\u001b[0m:\n",
       "\n"
      ]
     },
     "metadata": {},
     "output_type": "display_data"
    },
    {
     "data": {
      "text/html": [
       "<pre style=\"white-space:pre;overflow-x:auto;line-height:normal;font-family:Menlo,'DejaVu Sans Mono',consolas,'Courier New',monospace\"><span style=\"color: #008000; text-decoration-color: #008000; font-weight: bold\">Classify a product review as either expressing </span><span style=\"color: #008000; text-decoration-color: #008000\">\"Subjective\"</span><span style=\"color: #008000; text-decoration-color: #008000; font-weight: bold\"> or </span><span style=\"color: #008000; text-decoration-color: #008000\">\"Objective\"</span><span style=\"color: #008000; text-decoration-color: #008000; font-weight: bold\"> statements. A </span><span style=\"color: #008000; text-decoration-color: #008000\">\"Subjective\"</span><span style=\"color: #008000; text-decoration-color: #008000; font-weight: bold\"> statement is </span>\n",
       "<span style=\"color: #008000; text-decoration-color: #008000; font-weight: bold\">based on personal opinions, feelings, or tastes. An </span><span style=\"color: #008000; text-decoration-color: #008000\">\"Objective\"</span><span style=\"color: #008000; text-decoration-color: #008000; font-weight: bold\"> statement is based on factual information about the</span>\n",
       "<span style=\"color: #008000; text-decoration-color: #008000; font-weight: bold\">product, such as its features, performance, or occurrences during use, and is not influenced by personal feelings </span>\n",
       "<span style=\"color: #008000; text-decoration-color: #008000; font-weight: bold\">or opinions. Even if the statement seems to express dissatisfaction or a negative experience, it should be </span>\n",
       "<span style=\"color: #008000; text-decoration-color: #008000; font-weight: bold\">classified as </span><span style=\"color: #008000; text-decoration-color: #008000\">\"Objective\"</span><span style=\"color: #008000; text-decoration-color: #008000; font-weight: bold\"> if it provides factual information about the product's characteristics or performance.</span>\n",
       "\n",
       "<span style=\"color: #008000; text-decoration-color: #008000; font-weight: bold\">Examples:</span>\n",
       "\n",
       "<span style=\"color: #008000; text-decoration-color: #008000; font-weight: bold\">Input: The color of this phone is black.</span>\n",
       "<span style=\"color: #008000; text-decoration-color: #008000; font-weight: bold\">Output: Objective</span>\n",
       "\n",
       "<span style=\"color: #008000; text-decoration-color: #008000; font-weight: bold\">Input: I think this phone is too expensive for its features.</span>\n",
       "<span style=\"color: #008000; text-decoration-color: #008000; font-weight: bold\">Output: Subjective</span>\n",
       "\n",
       "<span style=\"color: #008000; text-decoration-color: #008000; font-weight: bold\">Input: Not loud enough and doesn't turn on like it should.</span>\n",
       "<span style=\"color: #008000; text-decoration-color: #008000; font-weight: bold\">Output: Objective</span>\n",
       "\n",
       "<span style=\"color: #008000; text-decoration-color: #008000; font-weight: bold\">Input: All three broke within two months of use.</span>\n",
       "<span style=\"color: #008000; text-decoration-color: #008000; font-weight: bold\">Output: Objective</span>\n",
       "\n",
       "<span style=\"color: #008000; text-decoration-color: #008000; font-weight: bold\">Input: I don't like the design of this laptop.</span>\n",
       "<span style=\"color: #008000; text-decoration-color: #008000; font-weight: bold\">Output: Subjective</span>\n",
       "</pre>\n"
      ],
      "text/plain": [
       "\u001b[1;32mClassify a product review as either expressing \u001b[0m\u001b[32m\"Subjective\"\u001b[0m\u001b[1;32m or \u001b[0m\u001b[32m\"Objective\"\u001b[0m\u001b[1;32m statements. A \u001b[0m\u001b[32m\"Subjective\"\u001b[0m\u001b[1;32m statement is \u001b[0m\n",
       "\u001b[1;32mbased on personal opinions, feelings, or tastes. An \u001b[0m\u001b[32m\"Objective\"\u001b[0m\u001b[1;32m statement is based on factual information about the\u001b[0m\n",
       "\u001b[1;32mproduct, such as its features, performance, or occurrences during use, and is not influenced by personal feelings \u001b[0m\n",
       "\u001b[1;32mor opinions. Even if the statement seems to express dissatisfaction or a negative experience, it should be \u001b[0m\n",
       "\u001b[1;32mclassified as \u001b[0m\u001b[32m\"Objective\"\u001b[0m\u001b[1;32m if it provides factual information about the product's characteristics or performance.\u001b[0m\n",
       "\n",
       "\u001b[1;32mExamples:\u001b[0m\n",
       "\n",
       "\u001b[1;32mInput: The color of this phone is black.\u001b[0m\n",
       "\u001b[1;32mOutput: Objective\u001b[0m\n",
       "\n",
       "\u001b[1;32mInput: I think this phone is too expensive for its features.\u001b[0m\n",
       "\u001b[1;32mOutput: Subjective\u001b[0m\n",
       "\n",
       "\u001b[1;32mInput: Not loud enough and doesn't turn on like it should.\u001b[0m\n",
       "\u001b[1;32mOutput: Objective\u001b[0m\n",
       "\n",
       "\u001b[1;32mInput: All three broke within two months of use.\u001b[0m\n",
       "\u001b[1;32mOutput: Objective\u001b[0m\n",
       "\n",
       "\u001b[1;32mInput: I don't like the design of this laptop.\u001b[0m\n",
       "\u001b[1;32mOutput: Subjective\u001b[0m\n"
      ]
     },
     "metadata": {},
     "output_type": "display_data"
    },
    {
     "data": {
      "text/html": [
       "<pre style=\"white-space:pre;overflow-x:auto;line-height:normal;font-family:Menlo,'DejaVu Sans Mono',consolas,'Courier New',monospace\">Re-apply subjectivity_detection skill to dataset <span style=\"color: #808000; text-decoration-color: #808000\">...</span>\n",
       "</pre>\n"
      ],
      "text/plain": [
       "Re-apply subjectivity_detection skill to dataset \u001b[33m...\u001b[0m\n"
      ]
     },
     "metadata": {},
     "output_type": "display_data"
    },
    {
     "data": {
      "text/html": [
       "<pre style=\"white-space:pre;overflow-x:auto;line-height:normal;font-family:Menlo,'DejaVu Sans Mono',consolas,'Courier New',monospace\">Applying skill: subjectivity_detection\n",
       "</pre>\n"
      ],
      "text/plain": [
       "Applying skill: subjectivity_detection\n"
      ]
     },
     "metadata": {},
     "output_type": "display_data"
    },
    {
     "name": "stderr",
     "output_type": "stream",
     "text": [
      "100%|████████████████████████████████| 5/5 [00:00<00:00, 32.77it/s]\n"
     ]
    },
    {
     "data": {
      "text/html": [
       "<pre style=\"white-space:pre;overflow-x:auto;line-height:normal;font-family:Menlo,'DejaVu Sans Mono',consolas,'Courier New',monospace\">\n",
       "\n",
       "=&gt; Iteration #<span style=\"color: #008080; text-decoration-color: #008080; font-weight: bold\">2</span>: Comparing to ground truth, analyzing and improving <span style=\"color: #808000; text-decoration-color: #808000\">...</span>\n",
       "</pre>\n"
      ],
      "text/plain": [
       "\n",
       "\n",
       "=> Iteration #\u001b[1;36m2\u001b[0m: Comparing to ground truth, analyzing and improving \u001b[33m...\u001b[0m\n"
      ]
     },
     "metadata": {},
     "output_type": "display_data"
    },
    {
     "data": {
      "text/html": [
       "<pre style=\"white-space:pre;overflow-x:auto;line-height:normal;font-family:Menlo,'DejaVu Sans Mono',consolas,'Courier New',monospace\">Comparing predictions to ground truth data <span style=\"color: #808000; text-decoration-color: #808000\">...</span>\n",
       "</pre>\n"
      ],
      "text/plain": [
       "Comparing predictions to ground truth data \u001b[33m...\u001b[0m\n"
      ]
     },
     "metadata": {},
     "output_type": "display_data"
    },
    {
     "data": {
      "text/html": [
       "<pre style=\"white-space:pre;overflow-x:auto;line-height:normal;font-family:Menlo,'DejaVu Sans Mono',consolas,'Courier New',monospace\">                                                                                                                   \n",
       " <span style=\"color: #800080; text-decoration-color: #800080; font-weight: bold\"> text                   </span> <span style=\"color: #800080; text-decoration-color: #800080; font-weight: bold\"> ground_truth </span> <span style=\"color: #800080; text-decoration-color: #800080; font-weight: bold\"> subjectivity_detection </span> <span style=\"color: #800080; text-decoration-color: #800080; font-weight: bold\"> score                  </span> <span style=\"color: #800080; text-decoration-color: #800080; font-weight: bold\"> subjectivity_detecti… </span> \n",
       " ───────────────────────────────────────────────────────────────────────────────────────────────────────────────── \n",
       "  The mic is great.        Subjective     Objective                {'Subjective':           False                  \n",
       "                                                                   -5.5978823,                                     \n",
       "                                                                   'Objective':                                    \n",
       "                                                                   -0.003712546499999969}                          \n",
       " <span style=\"color: #7f7f7f; text-decoration-color: #7f7f7f\"> Will order from them   </span> <span style=\"color: #7f7f7f; text-decoration-color: #7f7f7f\"> Subjective   </span> <span style=\"color: #7f7f7f; text-decoration-color: #7f7f7f\"> Subjective             </span> <span style=\"color: #7f7f7f; text-decoration-color: #7f7f7f\"> {'Subjective':         </span> <span style=\"color: #7f7f7f; text-decoration-color: #7f7f7f\"> True                  </span> \n",
       " <span style=\"color: #7f7f7f; text-decoration-color: #7f7f7f\"> again!                 </span> <span style=\"color: #7f7f7f; text-decoration-color: #7f7f7f\">              </span> <span style=\"color: #7f7f7f; text-decoration-color: #7f7f7f\">                        </span> <span style=\"color: #7f7f7f; text-decoration-color: #7f7f7f\"> -0.6518025399999999,   </span> <span style=\"color: #7f7f7f; text-decoration-color: #7f7f7f\">                       </span> \n",
       " <span style=\"color: #7f7f7f; text-decoration-color: #7f7f7f\">                        </span> <span style=\"color: #7f7f7f; text-decoration-color: #7f7f7f\">              </span> <span style=\"color: #7f7f7f; text-decoration-color: #7f7f7f\">                        </span> <span style=\"color: #7f7f7f; text-decoration-color: #7f7f7f\"> 'Objective':           </span> <span style=\"color: #7f7f7f; text-decoration-color: #7f7f7f\">                       </span> \n",
       " <span style=\"color: #7f7f7f; text-decoration-color: #7f7f7f\">                        </span> <span style=\"color: #7f7f7f; text-decoration-color: #7f7f7f\">              </span> <span style=\"color: #7f7f7f; text-decoration-color: #7f7f7f\">                        </span> <span style=\"color: #7f7f7f; text-decoration-color: #7f7f7f\"> -0.7362752}            </span> <span style=\"color: #7f7f7f; text-decoration-color: #7f7f7f\">                       </span> \n",
       "  Not loud enough and      Objective      Objective                {'Subjective':           True                   \n",
       "  doesn't turn on like                                             -4.672154,                                      \n",
       "  it should.                                                       'Objective':                                    \n",
       "                                                                   -0.009396199000000013}                          \n",
       " <span style=\"color: #7f7f7f; text-decoration-color: #7f7f7f\"> The phone doesn't seem </span> <span style=\"color: #7f7f7f; text-decoration-color: #7f7f7f\"> Objective    </span> <span style=\"color: #7f7f7f; text-decoration-color: #7f7f7f\"> Objective              </span> <span style=\"color: #7f7f7f; text-decoration-color: #7f7f7f\"> {'Subjective':         </span> <span style=\"color: #7f7f7f; text-decoration-color: #7f7f7f\"> True                  </span> \n",
       " <span style=\"color: #7f7f7f; text-decoration-color: #7f7f7f\"> to accept anything     </span> <span style=\"color: #7f7f7f; text-decoration-color: #7f7f7f\">              </span> <span style=\"color: #7f7f7f; text-decoration-color: #7f7f7f\">                        </span> <span style=\"color: #7f7f7f; text-decoration-color: #7f7f7f\"> -4.6575603,            </span> <span style=\"color: #7f7f7f; text-decoration-color: #7f7f7f\">                       </span> \n",
       " <span style=\"color: #7f7f7f; text-decoration-color: #7f7f7f\"> except CBR mp3s        </span> <span style=\"color: #7f7f7f; text-decoration-color: #7f7f7f\">              </span> <span style=\"color: #7f7f7f; text-decoration-color: #7f7f7f\">                        </span> <span style=\"color: #7f7f7f; text-decoration-color: #7f7f7f\"> 'Objective':           </span> <span style=\"color: #7f7f7f; text-decoration-color: #7f7f7f\">                       </span> \n",
       " <span style=\"color: #7f7f7f; text-decoration-color: #7f7f7f\">                        </span> <span style=\"color: #7f7f7f; text-decoration-color: #7f7f7f\">              </span> <span style=\"color: #7f7f7f; text-decoration-color: #7f7f7f\">                        </span> <span style=\"color: #7f7f7f; text-decoration-color: #7f7f7f\"> -0.009534958999999949} </span> <span style=\"color: #7f7f7f; text-decoration-color: #7f7f7f\">                       </span> \n",
       "  All three broke within   Objective      Objective                {'Subjective':           True                   \n",
       "  two months of use.                                               -3.9477026,                                     \n",
       "                                                                   'Objective':                                    \n",
       "                                                                   -0.019487570000000034}                          \n",
       "                                                                                                                   \n",
       "</pre>\n"
      ],
      "text/plain": [
       "                                                                                                                   \n",
       " \u001b[1;35m \u001b[0m\u001b[1;35mtext                  \u001b[0m\u001b[1;35m \u001b[0m \u001b[1;35m \u001b[0m\u001b[1;35mground_truth\u001b[0m\u001b[1;35m \u001b[0m \u001b[1;35m \u001b[0m\u001b[1;35msubjectivity_detection\u001b[0m\u001b[1;35m \u001b[0m \u001b[1;35m \u001b[0m\u001b[1;35mscore                 \u001b[0m\u001b[1;35m \u001b[0m \u001b[1;35m \u001b[0m\u001b[1;35msubjectivity_detecti…\u001b[0m\u001b[1;35m \u001b[0m \n",
       " ───────────────────────────────────────────────────────────────────────────────────────────────────────────────── \n",
       "  The mic is great.        Subjective     Objective                {'Subjective':           False                  \n",
       "                                                                   -5.5978823,                                     \n",
       "                                                                   'Objective':                                    \n",
       "                                                                   -0.003712546499999969}                          \n",
       " \u001b[2m \u001b[0m\u001b[2mWill order from them  \u001b[0m\u001b[2m \u001b[0m \u001b[2m \u001b[0m\u001b[2mSubjective  \u001b[0m\u001b[2m \u001b[0m \u001b[2m \u001b[0m\u001b[2mSubjective            \u001b[0m\u001b[2m \u001b[0m \u001b[2m \u001b[0m\u001b[2m{'Subjective':        \u001b[0m\u001b[2m \u001b[0m \u001b[2m \u001b[0m\u001b[2mTrue                 \u001b[0m\u001b[2m \u001b[0m \n",
       " \u001b[2m \u001b[0m\u001b[2magain!                \u001b[0m\u001b[2m \u001b[0m \u001b[2m              \u001b[0m \u001b[2m                        \u001b[0m \u001b[2m \u001b[0m\u001b[2m-0.6518025399999999,  \u001b[0m\u001b[2m \u001b[0m \u001b[2m                       \u001b[0m \n",
       " \u001b[2m                        \u001b[0m \u001b[2m              \u001b[0m \u001b[2m                        \u001b[0m \u001b[2m \u001b[0m\u001b[2m'Objective':          \u001b[0m\u001b[2m \u001b[0m \u001b[2m                       \u001b[0m \n",
       " \u001b[2m                        \u001b[0m \u001b[2m              \u001b[0m \u001b[2m                        \u001b[0m \u001b[2m \u001b[0m\u001b[2m-0.7362752}           \u001b[0m\u001b[2m \u001b[0m \u001b[2m                       \u001b[0m \n",
       "  Not loud enough and      Objective      Objective                {'Subjective':           True                   \n",
       "  doesn't turn on like                                             -4.672154,                                      \n",
       "  it should.                                                       'Objective':                                    \n",
       "                                                                   -0.009396199000000013}                          \n",
       " \u001b[2m \u001b[0m\u001b[2mThe phone doesn't seem\u001b[0m\u001b[2m \u001b[0m \u001b[2m \u001b[0m\u001b[2mObjective   \u001b[0m\u001b[2m \u001b[0m \u001b[2m \u001b[0m\u001b[2mObjective             \u001b[0m\u001b[2m \u001b[0m \u001b[2m \u001b[0m\u001b[2m{'Subjective':        \u001b[0m\u001b[2m \u001b[0m \u001b[2m \u001b[0m\u001b[2mTrue                 \u001b[0m\u001b[2m \u001b[0m \n",
       " \u001b[2m \u001b[0m\u001b[2mto accept anything    \u001b[0m\u001b[2m \u001b[0m \u001b[2m              \u001b[0m \u001b[2m                        \u001b[0m \u001b[2m \u001b[0m\u001b[2m-4.6575603,           \u001b[0m\u001b[2m \u001b[0m \u001b[2m                       \u001b[0m \n",
       " \u001b[2m \u001b[0m\u001b[2mexcept CBR mp3s       \u001b[0m\u001b[2m \u001b[0m \u001b[2m              \u001b[0m \u001b[2m                        \u001b[0m \u001b[2m \u001b[0m\u001b[2m'Objective':          \u001b[0m\u001b[2m \u001b[0m \u001b[2m                       \u001b[0m \n",
       " \u001b[2m                        \u001b[0m \u001b[2m              \u001b[0m \u001b[2m                        \u001b[0m \u001b[2m \u001b[0m\u001b[2m-0.009534958999999949}\u001b[0m\u001b[2m \u001b[0m \u001b[2m                       \u001b[0m \n",
       "  All three broke within   Objective      Objective                {'Subjective':           True                   \n",
       "  two months of use.                                               -3.9477026,                                     \n",
       "                                                                   'Objective':                                    \n",
       "                                                                   -0.019487570000000034}                          \n",
       "                                                                                                                   \n"
      ]
     },
     "metadata": {},
     "output_type": "display_data"
    },
    {
     "data": {
      "text/html": [
       "<pre style=\"white-space:pre;overflow-x:auto;line-height:normal;font-family:Menlo,'DejaVu Sans Mono',consolas,'Courier New',monospace\"><span style=\"color: #800000; text-decoration-color: #800000; font-weight: bold\">Accuracy = </span><span style=\"color: #008080; text-decoration-color: #008080; font-weight: bold\">80.00</span><span style=\"color: #800000; text-decoration-color: #800000; font-weight: bold\">%</span>\n",
       "</pre>\n"
      ],
      "text/plain": [
       "\u001b[1;31mAccuracy = \u001b[0m\u001b[1;36m80.00\u001b[0m\u001b[1;31m%\u001b[0m\n"
      ]
     },
     "metadata": {},
     "output_type": "display_data"
    },
    {
     "data": {
      "text/html": [
       "<pre style=\"white-space:pre;overflow-x:auto;line-height:normal;font-family:Menlo,'DejaVu Sans Mono',consolas,'Courier New',monospace\">Analyze evaluation experience <span style=\"color: #808000; text-decoration-color: #808000\">...</span>\n",
       "</pre>\n"
      ],
      "text/plain": [
       "Analyze evaluation experience \u001b[33m...\u001b[0m\n"
      ]
     },
     "metadata": {},
     "output_type": "display_data"
    },
    {
     "name": "stderr",
     "output_type": "stream",
     "text": [
      "100%|███████████████████████████████| 1/1 [00:00<00:00, 221.92it/s]\n",
      "100%|████████████████████████████████| 1/1 [00:00<00:00, 19.60it/s]\n"
     ]
    },
    {
     "data": {
      "text/html": [
       "<pre style=\"white-space:pre;overflow-x:auto;line-height:normal;font-family:Menlo,'DejaVu Sans Mono',consolas,'Courier New',monospace\">Error analysis for skill <span style=\"color: #008000; text-decoration-color: #008000\">\"subjectivity_detection\"</span>:\n",
       "\n",
       "</pre>\n"
      ],
      "text/plain": [
       "Error analysis for skill \u001b[32m\"subjectivity_detection\"\u001b[0m:\n",
       "\n"
      ]
     },
     "metadata": {},
     "output_type": "display_data"
    },
    {
     "data": {
      "text/html": [
       "<pre style=\"white-space:pre;overflow-x:auto;line-height:normal;font-family:Menlo,'DejaVu Sans Mono',consolas,'Courier New',monospace\">\n",
       "<span style=\"color: #008000; text-decoration-color: #008000\">Input: The mic is great.</span>\n",
       "<span style=\"color: #008000; text-decoration-color: #008000\">Prediction: Objective</span>\n",
       "<span style=\"color: #008000; text-decoration-color: #008000\">Ground truth: Subjective</span>\n",
       "<span style=\"color: #008000; text-decoration-color: #008000\">Error reason: The model made an error because the statement </span><span style=\"color: #008000; text-decoration-color: #008000\">\"The mic is great\"</span><span style=\"color: #008000; text-decoration-color: #008000\"> is subjective, as it expresses a </span>\n",
       "<span style=\"color: #008000; text-decoration-color: #008000\">personal opinion or feeling about the quality of the microphone, rather than providing factual information about </span>\n",
       "<span style=\"color: #008000; text-decoration-color: #008000\">its characteristics or performance.</span>\n",
       "\n",
       "</pre>\n"
      ],
      "text/plain": [
       "\n",
       "\u001b[32mInput: The mic is great.\u001b[0m\n",
       "\u001b[32mPrediction: Objective\u001b[0m\n",
       "\u001b[32mGround truth: Subjective\u001b[0m\n",
       "\u001b[32mError reason: The model made an error because the statement \u001b[0m\u001b[32m\"The mic is great\"\u001b[0m\u001b[32m is subjective, as it expresses a \u001b[0m\n",
       "\u001b[32mpersonal opinion or feeling about the quality of the microphone, rather than providing factual information about \u001b[0m\n",
       "\u001b[32mits characteristics or performance.\u001b[0m\n",
       "\n"
      ]
     },
     "metadata": {},
     "output_type": "display_data"
    },
    {
     "data": {
      "text/html": [
       "<pre style=\"white-space:pre;overflow-x:auto;line-height:normal;font-family:Menlo,'DejaVu Sans Mono',consolas,'Courier New',monospace\">Improve <span style=\"color: #008000; text-decoration-color: #008000\">\"subjectivity_detection\"</span> skill based on analysis <span style=\"color: #808000; text-decoration-color: #808000\">...</span>\n",
       "</pre>\n"
      ],
      "text/plain": [
       "Improve \u001b[32m\"subjectivity_detection\"\u001b[0m skill based on analysis \u001b[33m...\u001b[0m\n"
      ]
     },
     "metadata": {},
     "output_type": "display_data"
    },
    {
     "data": {
      "text/html": [
       "<pre style=\"white-space:pre;overflow-x:auto;line-height:normal;font-family:Menlo,'DejaVu Sans Mono',consolas,'Courier New',monospace\">Updated instructions for skill <span style=\"color: #008000; text-decoration-color: #008000\">\"subjectivity_detection\"</span>:\n",
       "\n",
       "</pre>\n"
      ],
      "text/plain": [
       "Updated instructions for skill \u001b[32m\"subjectivity_detection\"\u001b[0m:\n",
       "\n"
      ]
     },
     "metadata": {},
     "output_type": "display_data"
    },
    {
     "data": {
      "text/html": [
       "<pre style=\"white-space:pre;overflow-x:auto;line-height:normal;font-family:Menlo,'DejaVu Sans Mono',consolas,'Courier New',monospace\"><span style=\"color: #008000; text-decoration-color: #008000; font-weight: bold\">Classify a product review as either expressing </span><span style=\"color: #008000; text-decoration-color: #008000\">\"Subjective\"</span><span style=\"color: #008000; text-decoration-color: #008000; font-weight: bold\"> or </span><span style=\"color: #008000; text-decoration-color: #008000\">\"Objective\"</span><span style=\"color: #008000; text-decoration-color: #008000; font-weight: bold\"> statements. A </span><span style=\"color: #008000; text-decoration-color: #008000\">\"Subjective\"</span><span style=\"color: #008000; text-decoration-color: #008000; font-weight: bold\"> statement is </span>\n",
       "<span style=\"color: #008000; text-decoration-color: #008000; font-weight: bold\">based on personal opinions, feelings, or tastes, and may include evaluative words such as </span><span style=\"color: #008000; text-decoration-color: #008000\">'great'</span><span style=\"color: #008000; text-decoration-color: #008000; font-weight: bold\">, </span><span style=\"color: #008000; text-decoration-color: #008000\">'good'</span><span style=\"color: #008000; text-decoration-color: #008000; font-weight: bold\">, </span><span style=\"color: #008000; text-decoration-color: #008000\">'bad'</span><span style=\"color: #008000; text-decoration-color: #008000; font-weight: bold\">, </span>\n",
       "<span style=\"color: #008000; text-decoration-color: #008000\">'like'</span><span style=\"color: #008000; text-decoration-color: #008000; font-weight: bold\">, </span><span style=\"color: #008000; text-decoration-color: #008000\">'dislike'</span><span style=\"color: #008000; text-decoration-color: #008000; font-weight: bold\">, etc. An </span><span style=\"color: #008000; text-decoration-color: #008000\">\"Objective\"</span><span style=\"color: #008000; text-decoration-color: #008000; font-weight: bold\"> statement is based on factual information about the product, such as its </span>\n",
       "<span style=\"color: #008000; text-decoration-color: #008000; font-weight: bold\">features, performance, or occurrences during use, and is not influenced by personal feelings or opinions. It </span>\n",
       "<span style=\"color: #008000; text-decoration-color: #008000; font-weight: bold\">typically includes factual descriptions or reports of product performance. Even if the statement seems to express </span>\n",
       "<span style=\"color: #008000; text-decoration-color: #008000; font-weight: bold\">dissatisfaction or a negative experience, it should be classified as </span><span style=\"color: #008000; text-decoration-color: #008000\">\"Objective\"</span><span style=\"color: #008000; text-decoration-color: #008000; font-weight: bold\"> if it provides factual information</span>\n",
       "<span style=\"color: #008000; text-decoration-color: #008000; font-weight: bold\">about the product's characteristics or performance.</span>\n",
       "\n",
       "<span style=\"color: #008000; text-decoration-color: #008000; font-weight: bold\">Examples:</span>\n",
       "\n",
       "<span style=\"color: #008000; text-decoration-color: #008000; font-weight: bold\">Input: The color of this phone is black.</span>\n",
       "<span style=\"color: #008000; text-decoration-color: #008000; font-weight: bold\">Output: Objective</span>\n",
       "\n",
       "<span style=\"color: #008000; text-decoration-color: #008000; font-weight: bold\">Input: I think this phone is too expensive for its features.</span>\n",
       "<span style=\"color: #008000; text-decoration-color: #008000; font-weight: bold\">Output: Subjective</span>\n",
       "\n",
       "<span style=\"color: #008000; text-decoration-color: #008000; font-weight: bold\">Input: Not loud enough and doesn't turn on like it should.</span>\n",
       "<span style=\"color: #008000; text-decoration-color: #008000; font-weight: bold\">Output: Objective</span>\n",
       "\n",
       "<span style=\"color: #008000; text-decoration-color: #008000; font-weight: bold\">Input: All three broke within two months of use.</span>\n",
       "<span style=\"color: #008000; text-decoration-color: #008000; font-weight: bold\">Output: Objective</span>\n",
       "\n",
       "<span style=\"color: #008000; text-decoration-color: #008000; font-weight: bold\">Input: I don't like the design of this laptop.</span>\n",
       "<span style=\"color: #008000; text-decoration-color: #008000; font-weight: bold\">Output: Subjective</span>\n",
       "\n",
       "<span style=\"color: #008000; text-decoration-color: #008000; font-weight: bold\">Input: The mic is great.</span>\n",
       "<span style=\"color: #008000; text-decoration-color: #008000; font-weight: bold\">Output: Subjective</span>\n",
       "</pre>\n"
      ],
      "text/plain": [
       "\u001b[1;32mClassify a product review as either expressing \u001b[0m\u001b[32m\"Subjective\"\u001b[0m\u001b[1;32m or \u001b[0m\u001b[32m\"Objective\"\u001b[0m\u001b[1;32m statements. A \u001b[0m\u001b[32m\"Subjective\"\u001b[0m\u001b[1;32m statement is \u001b[0m\n",
       "\u001b[1;32mbased on personal opinions, feelings, or tastes, and may include evaluative words such as \u001b[0m\u001b[32m'great'\u001b[0m\u001b[1;32m, \u001b[0m\u001b[32m'good'\u001b[0m\u001b[1;32m, \u001b[0m\u001b[32m'bad'\u001b[0m\u001b[1;32m, \u001b[0m\n",
       "\u001b[32m'like'\u001b[0m\u001b[1;32m, \u001b[0m\u001b[32m'dislike'\u001b[0m\u001b[1;32m, etc. An \u001b[0m\u001b[32m\"Objective\"\u001b[0m\u001b[1;32m statement is based on factual information about the product, such as its \u001b[0m\n",
       "\u001b[1;32mfeatures, performance, or occurrences during use, and is not influenced by personal feelings or opinions. It \u001b[0m\n",
       "\u001b[1;32mtypically includes factual descriptions or reports of product performance. Even if the statement seems to express \u001b[0m\n",
       "\u001b[1;32mdissatisfaction or a negative experience, it should be classified as \u001b[0m\u001b[32m\"Objective\"\u001b[0m\u001b[1;32m if it provides factual information\u001b[0m\n",
       "\u001b[1;32mabout the product's characteristics or performance.\u001b[0m\n",
       "\n",
       "\u001b[1;32mExamples:\u001b[0m\n",
       "\n",
       "\u001b[1;32mInput: The color of this phone is black.\u001b[0m\n",
       "\u001b[1;32mOutput: Objective\u001b[0m\n",
       "\n",
       "\u001b[1;32mInput: I think this phone is too expensive for its features.\u001b[0m\n",
       "\u001b[1;32mOutput: Subjective\u001b[0m\n",
       "\n",
       "\u001b[1;32mInput: Not loud enough and doesn't turn on like it should.\u001b[0m\n",
       "\u001b[1;32mOutput: Objective\u001b[0m\n",
       "\n",
       "\u001b[1;32mInput: All three broke within two months of use.\u001b[0m\n",
       "\u001b[1;32mOutput: Objective\u001b[0m\n",
       "\n",
       "\u001b[1;32mInput: I don't like the design of this laptop.\u001b[0m\n",
       "\u001b[1;32mOutput: Subjective\u001b[0m\n",
       "\n",
       "\u001b[1;32mInput: The mic is great.\u001b[0m\n",
       "\u001b[1;32mOutput: Subjective\u001b[0m\n"
      ]
     },
     "metadata": {},
     "output_type": "display_data"
    },
    {
     "data": {
      "text/html": [
       "<pre style=\"white-space:pre;overflow-x:auto;line-height:normal;font-family:Menlo,'DejaVu Sans Mono',consolas,'Courier New',monospace\">Re-apply subjectivity_detection skill to dataset <span style=\"color: #808000; text-decoration-color: #808000\">...</span>\n",
       "</pre>\n"
      ],
      "text/plain": [
       "Re-apply subjectivity_detection skill to dataset \u001b[33m...\u001b[0m\n"
      ]
     },
     "metadata": {},
     "output_type": "display_data"
    },
    {
     "data": {
      "text/html": [
       "<pre style=\"white-space:pre;overflow-x:auto;line-height:normal;font-family:Menlo,'DejaVu Sans Mono',consolas,'Courier New',monospace\">Applying skill: subjectivity_detection\n",
       "</pre>\n"
      ],
      "text/plain": [
       "Applying skill: subjectivity_detection\n"
      ]
     },
     "metadata": {},
     "output_type": "display_data"
    },
    {
     "name": "stderr",
     "output_type": "stream",
     "text": [
      "100%|████████████████████████████████| 5/5 [00:00<00:00, 24.79it/s]\n"
     ]
    },
    {
     "data": {
      "text/html": [
       "<pre style=\"white-space:pre;overflow-x:auto;line-height:normal;font-family:Menlo,'DejaVu Sans Mono',consolas,'Courier New',monospace\">Train is done!\n",
       "</pre>\n"
      ],
      "text/plain": [
       "Train is done!\n"
      ]
     },
     "metadata": {},
     "output_type": "display_data"
    }
   ],
   "source": [
    "ground_truth_signal = agent.learn(learning_iterations=3, accuracy_threshold=0.95)"
   ]
  },
  {
   "cell_type": "markdown",
   "metadata": {},
   "source": [
    "Let's see the final instructions:"
   ]
  },
  {
   "cell_type": "code",
   "execution_count": 13,
   "metadata": {},
   "outputs": [
    {
     "data": {
      "text/html": [
       "<pre style=\"white-space:pre;overflow-x:auto;line-height:normal;font-family:Menlo,'DejaVu Sans Mono',consolas,'Courier New',monospace\"><span style=\"color: #000080; text-decoration-color: #000080; font-weight: bold\">Total Agent Skills: </span><span style=\"color: #000080; text-decoration-color: #000080; font-weight: bold\">1</span>\n",
       "\n",
       "<span style=\"color: #008000; text-decoration-color: #008000; font-weight: bold; text-decoration: underline\">subjectivity_detection</span>\n",
       "<span style=\"color: #008000; text-decoration-color: #008000\">Classify a product review as either expressing </span><span style=\"color: #008000; text-decoration-color: #008000\">\"Subjective\"</span><span style=\"color: #008000; text-decoration-color: #008000\"> or </span><span style=\"color: #008000; text-decoration-color: #008000\">\"Objective\"</span><span style=\"color: #008000; text-decoration-color: #008000\"> statements. A </span><span style=\"color: #008000; text-decoration-color: #008000\">\"Subjective\"</span><span style=\"color: #008000; text-decoration-color: #008000\"> statement is </span>\n",
       "<span style=\"color: #008000; text-decoration-color: #008000\">based on personal opinions, feelings, or tastes, and may include evaluative words such as </span><span style=\"color: #008000; text-decoration-color: #008000\">'great'</span><span style=\"color: #008000; text-decoration-color: #008000\">, </span><span style=\"color: #008000; text-decoration-color: #008000\">'good'</span><span style=\"color: #008000; text-decoration-color: #008000\">, </span><span style=\"color: #008000; text-decoration-color: #008000\">'bad'</span><span style=\"color: #008000; text-decoration-color: #008000\">, </span>\n",
       "<span style=\"color: #008000; text-decoration-color: #008000\">'like'</span><span style=\"color: #008000; text-decoration-color: #008000\">, </span><span style=\"color: #008000; text-decoration-color: #008000\">'dislike'</span><span style=\"color: #008000; text-decoration-color: #008000\">, etc. An </span><span style=\"color: #008000; text-decoration-color: #008000\">\"Objective\"</span><span style=\"color: #008000; text-decoration-color: #008000\"> statement is based on factual information about the product, such as its </span>\n",
       "<span style=\"color: #008000; text-decoration-color: #008000\">features, performance, or occurrences during use, and is not influenced by personal feelings or opinions. It </span>\n",
       "<span style=\"color: #008000; text-decoration-color: #008000\">typically includes factual descriptions or reports of product performance. Even if the statement seems to express </span>\n",
       "<span style=\"color: #008000; text-decoration-color: #008000\">dissatisfaction or a negative experience, it should be classified as </span><span style=\"color: #008000; text-decoration-color: #008000\">\"Objective\"</span><span style=\"color: #008000; text-decoration-color: #008000\"> if it provides factual information</span>\n",
       "<span style=\"color: #008000; text-decoration-color: #008000\">about the product's characteristics or performance.</span>\n",
       "\n",
       "<span style=\"color: #008000; text-decoration-color: #008000\">Examples:</span>\n",
       "\n",
       "<span style=\"color: #008000; text-decoration-color: #008000\">Input: The color of this phone is black.</span>\n",
       "<span style=\"color: #008000; text-decoration-color: #008000\">Output: Objective</span>\n",
       "\n",
       "<span style=\"color: #008000; text-decoration-color: #008000\">Input: I think this phone is too expensive for its features.</span>\n",
       "<span style=\"color: #008000; text-decoration-color: #008000\">Output: Subjective</span>\n",
       "\n",
       "<span style=\"color: #008000; text-decoration-color: #008000\">Input: Not loud enough and doesn't turn on like it should.</span>\n",
       "<span style=\"color: #008000; text-decoration-color: #008000\">Output: Objective</span>\n",
       "\n",
       "<span style=\"color: #008000; text-decoration-color: #008000\">Input: All three broke within two months of use.</span>\n",
       "<span style=\"color: #008000; text-decoration-color: #008000\">Output: Objective</span>\n",
       "\n",
       "<span style=\"color: #008000; text-decoration-color: #008000\">Input: I don't like the design of this laptop.</span>\n",
       "<span style=\"color: #008000; text-decoration-color: #008000\">Output: Subjective</span>\n",
       "\n",
       "<span style=\"color: #008000; text-decoration-color: #008000\">Input: The mic is great.</span>\n",
       "<span style=\"color: #008000; text-decoration-color: #008000\">Output: Subjective</span>\n",
       "\n",
       "</pre>\n"
      ],
      "text/plain": [
       "\u001b[1;34mTotal Agent Skills: \u001b[0m\u001b[1;34m1\u001b[0m\n",
       "\n",
       "\u001b[1;4;32msubjectivity_detection\u001b[0m\n",
       "\u001b[32mClassify a product review as either expressing \u001b[0m\u001b[32m\"Subjective\"\u001b[0m\u001b[32m or \u001b[0m\u001b[32m\"Objective\"\u001b[0m\u001b[32m statements. A \u001b[0m\u001b[32m\"Subjective\"\u001b[0m\u001b[32m statement is \u001b[0m\n",
       "\u001b[32mbased on personal opinions, feelings, or tastes, and may include evaluative words such as \u001b[0m\u001b[32m'great'\u001b[0m\u001b[32m, \u001b[0m\u001b[32m'good'\u001b[0m\u001b[32m, \u001b[0m\u001b[32m'bad'\u001b[0m\u001b[32m, \u001b[0m\n",
       "\u001b[32m'like'\u001b[0m\u001b[32m, \u001b[0m\u001b[32m'dislike'\u001b[0m\u001b[32m, etc. An \u001b[0m\u001b[32m\"Objective\"\u001b[0m\u001b[32m statement is based on factual information about the product, such as its \u001b[0m\n",
       "\u001b[32mfeatures, performance, or occurrences during use, and is not influenced by personal feelings or opinions. It \u001b[0m\n",
       "\u001b[32mtypically includes factual descriptions or reports of product performance. Even if the statement seems to express \u001b[0m\n",
       "\u001b[32mdissatisfaction or a negative experience, it should be classified as \u001b[0m\u001b[32m\"Objective\"\u001b[0m\u001b[32m if it provides factual information\u001b[0m\n",
       "\u001b[32mabout the product's characteristics or performance.\u001b[0m\n",
       "\n",
       "\u001b[32mExamples:\u001b[0m\n",
       "\n",
       "\u001b[32mInput: The color of this phone is black.\u001b[0m\n",
       "\u001b[32mOutput: Objective\u001b[0m\n",
       "\n",
       "\u001b[32mInput: I think this phone is too expensive for its features.\u001b[0m\n",
       "\u001b[32mOutput: Subjective\u001b[0m\n",
       "\n",
       "\u001b[32mInput: Not loud enough and doesn't turn on like it should.\u001b[0m\n",
       "\u001b[32mOutput: Objective\u001b[0m\n",
       "\n",
       "\u001b[32mInput: All three broke within two months of use.\u001b[0m\n",
       "\u001b[32mOutput: Objective\u001b[0m\n",
       "\n",
       "\u001b[32mInput: I don't like the design of this laptop.\u001b[0m\n",
       "\u001b[32mOutput: Subjective\u001b[0m\n",
       "\n",
       "\u001b[32mInput: The mic is great.\u001b[0m\n",
       "\u001b[32mOutput: Subjective\u001b[0m\n",
       "\n"
      ]
     },
     "metadata": {},
     "output_type": "display_data"
    }
   ],
   "source": [
    "print(agent.skills)"
   ]
  },
  {
   "cell_type": "markdown",
   "metadata": {},
   "source": [
    "... and predictions created by the skill:"
   ]
  },
  {
   "cell_type": "code",
   "execution_count": 14,
   "metadata": {},
   "outputs": [
    {
     "data": {
      "text/html": [
       "<pre style=\"white-space:pre;overflow-x:auto;line-height:normal;font-family:Menlo,'DejaVu Sans Mono',consolas,'Courier New',monospace\">Applying skill: subjectivity_detection\n",
       "</pre>\n"
      ],
      "text/plain": [
       "Applying skill: subjectivity_detection\n"
      ]
     },
     "metadata": {},
     "output_type": "display_data"
    },
    {
     "name": "stderr",
     "output_type": "stream",
     "text": [
      "100%|████████████████████████████████| 5/5 [00:00<00:00, 24.62it/s]\n"
     ]
    },
    {
     "data": {
      "text/html": [
       "<div>\n",
       "<style scoped>\n",
       "    .dataframe tbody tr th:only-of-type {\n",
       "        vertical-align: middle;\n",
       "    }\n",
       "\n",
       "    .dataframe tbody tr th {\n",
       "        vertical-align: top;\n",
       "    }\n",
       "\n",
       "    .dataframe thead th {\n",
       "        text-align: right;\n",
       "    }\n",
       "</style>\n",
       "<table border=\"1\" class=\"dataframe\">\n",
       "  <thead>\n",
       "    <tr style=\"text-align: right;\">\n",
       "      <th></th>\n",
       "      <th>text</th>\n",
       "      <th>ground_truth</th>\n",
       "      <th>subjectivity_detection</th>\n",
       "      <th>score</th>\n",
       "    </tr>\n",
       "  </thead>\n",
       "  <tbody>\n",
       "    <tr>\n",
       "      <th>0</th>\n",
       "      <td>The mic is great.</td>\n",
       "      <td>Subjective</td>\n",
       "      <td>Subjective</td>\n",
       "      <td>{'Subjective': -0.11115719, 'Objective': -2.25...</td>\n",
       "    </tr>\n",
       "    <tr>\n",
       "      <th>1</th>\n",
       "      <td>Will order from them again!</td>\n",
       "      <td>Subjective</td>\n",
       "      <td>Subjective</td>\n",
       "      <td>{'Subjective': -0.44846975999999994, 'Objectiv...</td>\n",
       "    </tr>\n",
       "    <tr>\n",
       "      <th>2</th>\n",
       "      <td>Not loud enough and doesn't turn on like it sh...</td>\n",
       "      <td>Objective</td>\n",
       "      <td>Objective</td>\n",
       "      <td>{'Subjective': -4.4792867, 'Objective': -0.011...</td>\n",
       "    </tr>\n",
       "    <tr>\n",
       "      <th>3</th>\n",
       "      <td>The phone doesn't seem to accept anything exce...</td>\n",
       "      <td>Objective</td>\n",
       "      <td>Objective</td>\n",
       "      <td>{'Subjective': -4.990218, 'Objective': -0.0068...</td>\n",
       "    </tr>\n",
       "    <tr>\n",
       "      <th>4</th>\n",
       "      <td>All three broke within two months of use.</td>\n",
       "      <td>Objective</td>\n",
       "      <td>Objective</td>\n",
       "      <td>{'Subjective': -4.19226, 'Objective': -0.01522...</td>\n",
       "    </tr>\n",
       "  </tbody>\n",
       "</table>\n",
       "</div>"
      ],
      "text/plain": [
       "                                                text ground_truth  \\\n",
       "0                                  The mic is great.   Subjective   \n",
       "1                        Will order from them again!   Subjective   \n",
       "2  Not loud enough and doesn't turn on like it sh...    Objective   \n",
       "3  The phone doesn't seem to accept anything exce...    Objective   \n",
       "4          All three broke within two months of use.    Objective   \n",
       "\n",
       "  subjectivity_detection                                              score  \n",
       "0             Subjective  {'Subjective': -0.11115719, 'Objective': -2.25...  \n",
       "1             Subjective  {'Subjective': -0.44846975999999994, 'Objectiv...  \n",
       "2              Objective  {'Subjective': -4.4792867, 'Objective': -0.011...  \n",
       "3              Objective  {'Subjective': -4.990218, 'Objective': -0.0068...  \n",
       "4              Objective  {'Subjective': -4.19226, 'Objective': -0.01522...  "
      ]
     },
     "execution_count": 14,
     "metadata": {},
     "output_type": "execute_result"
    }
   ],
   "source": [
    "agent.run(dataset)"
   ]
  },
  {
   "cell_type": "markdown",
   "metadata": {},
   "source": [
    "## Applying learned skills to the real data\n",
    "\n",
    "Now as we have our Agent with evolved \"subjectivity detection\" skill, we can apply it to the real dataset without ground truth data:"
   ]
  },
  {
   "cell_type": "code",
   "execution_count": 15,
   "metadata": {},
   "outputs": [
    {
     "data": {
      "text/html": [
       "<div>\n",
       "<style scoped>\n",
       "    .dataframe tbody tr th:only-of-type {\n",
       "        vertical-align: middle;\n",
       "    }\n",
       "\n",
       "    .dataframe tbody tr th {\n",
       "        vertical-align: top;\n",
       "    }\n",
       "\n",
       "    .dataframe thead th {\n",
       "        text-align: right;\n",
       "    }\n",
       "</style>\n",
       "<table border=\"1\" class=\"dataframe\">\n",
       "  <thead>\n",
       "    <tr style=\"text-align: right;\">\n",
       "      <th></th>\n",
       "      <th>text</th>\n",
       "    </tr>\n",
       "  </thead>\n",
       "  <tbody>\n",
       "    <tr>\n",
       "      <th>0</th>\n",
       "      <td>Doesn't hold charge.</td>\n",
       "    </tr>\n",
       "    <tr>\n",
       "      <th>1</th>\n",
       "      <td>Excellent bluetooth headset</td>\n",
       "    </tr>\n",
       "    <tr>\n",
       "      <th>2</th>\n",
       "      <td>I love this thing!</td>\n",
       "    </tr>\n",
       "    <tr>\n",
       "      <th>3</th>\n",
       "      <td>VERY DISAPPOINTED.</td>\n",
       "    </tr>\n",
       "  </tbody>\n",
       "</table>\n",
       "</div>"
      ],
      "text/plain": [
       "                          text\n",
       "0         Doesn't hold charge.\n",
       "1  Excellent bluetooth headset\n",
       "2           I love this thing!\n",
       "3           VERY DISAPPOINTED."
      ]
     },
     "execution_count": 15,
     "metadata": {},
     "output_type": "execute_result"
    }
   ],
   "source": [
    "test_df = pd.DataFrame([\n",
    "    \"Doesn't hold charge.\",\n",
    "    \"Excellent bluetooth headset\",\n",
    "    \"I love this thing!\",\n",
    "    \"VERY DISAPPOINTED.\"\n",
    "], columns=['text'])\n",
    "test_df"
   ]
  },
  {
   "cell_type": "code",
   "execution_count": 16,
   "metadata": {},
   "outputs": [
    {
     "data": {
      "text/html": [
       "<pre style=\"white-space:pre;overflow-x:auto;line-height:normal;font-family:Menlo,'DejaVu Sans Mono',consolas,'Courier New',monospace\">Applying skill: subjectivity_detection\n",
       "</pre>\n"
      ],
      "text/plain": [
       "Applying skill: subjectivity_detection\n"
      ]
     },
     "metadata": {},
     "output_type": "display_data"
    },
    {
     "name": "stderr",
     "output_type": "stream",
     "text": [
      "100%|████████████████████████████████| 4/4 [00:04<00:00,  1.00s/it]\n"
     ]
    }
   ],
   "source": [
    "predictions = agent.run(test_df)"
   ]
  },
  {
   "cell_type": "code",
   "execution_count": 17,
   "metadata": {},
   "outputs": [
    {
     "data": {
      "text/html": [
       "<div>\n",
       "<style scoped>\n",
       "    .dataframe tbody tr th:only-of-type {\n",
       "        vertical-align: middle;\n",
       "    }\n",
       "\n",
       "    .dataframe tbody tr th {\n",
       "        vertical-align: top;\n",
       "    }\n",
       "\n",
       "    .dataframe thead th {\n",
       "        text-align: right;\n",
       "    }\n",
       "</style>\n",
       "<table border=\"1\" class=\"dataframe\">\n",
       "  <thead>\n",
       "    <tr style=\"text-align: right;\">\n",
       "      <th></th>\n",
       "      <th>text</th>\n",
       "      <th>subjectivity_detection</th>\n",
       "      <th>score</th>\n",
       "    </tr>\n",
       "  </thead>\n",
       "  <tbody>\n",
       "    <tr>\n",
       "      <th>0</th>\n",
       "      <td>Doesn't hold charge.</td>\n",
       "      <td>Objective</td>\n",
       "      <td>{'Subjective': -6.241702, 'Objective': -0.0019...</td>\n",
       "    </tr>\n",
       "    <tr>\n",
       "      <th>1</th>\n",
       "      <td>Excellent bluetooth headset</td>\n",
       "      <td>Subjective</td>\n",
       "      <td>{'Subjective': -0.39792176999999995, 'Objectiv...</td>\n",
       "    </tr>\n",
       "    <tr>\n",
       "      <th>2</th>\n",
       "      <td>I love this thing!</td>\n",
       "      <td>Subjective</td>\n",
       "      <td>{'Subjective': -0.0008572661999999637, 'Object...</td>\n",
       "    </tr>\n",
       "    <tr>\n",
       "      <th>3</th>\n",
       "      <td>VERY DISAPPOINTED.</td>\n",
       "      <td>Subjective</td>\n",
       "      <td>{'Subjective': -0.21449489999999996, 'Objectiv...</td>\n",
       "    </tr>\n",
       "  </tbody>\n",
       "</table>\n",
       "</div>"
      ],
      "text/plain": [
       "                          text subjectivity_detection  \\\n",
       "0         Doesn't hold charge.              Objective   \n",
       "1  Excellent bluetooth headset             Subjective   \n",
       "2           I love this thing!             Subjective   \n",
       "3           VERY DISAPPOINTED.             Subjective   \n",
       "\n",
       "                                               score  \n",
       "0  {'Subjective': -6.241702, 'Objective': -0.0019...  \n",
       "1  {'Subjective': -0.39792176999999995, 'Objectiv...  \n",
       "2  {'Subjective': -0.0008572661999999637, 'Object...  \n",
       "3  {'Subjective': -0.21449489999999996, 'Objectiv...  "
      ]
     },
     "execution_count": 17,
     "metadata": {},
     "output_type": "execute_result"
    }
   ],
   "source": [
    "predictions"
   ]
  }
 ],
 "metadata": {
  "kernelspec": {
   "display_name": "adala",
   "language": "python",
   "name": "adala"
  },
  "language_info": {
   "codemirror_mode": {
    "name": "ipython",
    "version": 3
   },
   "file_extension": ".py",
   "mimetype": "text/x-python",
   "name": "python",
   "nbconvert_exporter": "python",
   "pygments_lexer": "ipython3",
   "version": "3.11.5"
  }
 },
 "nbformat": 4,
 "nbformat_minor": 5
}
